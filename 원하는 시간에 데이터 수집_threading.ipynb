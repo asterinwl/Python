{
 "cells": [
  {
   "cell_type": "code",
   "execution_count": 1,
   "id": "4e5e27d1-5e5a-4c42-915d-a6d3d0353cec",
   "metadata": {},
   "outputs": [
    {
     "name": "stdout",
     "output_type": "stream",
     "text": [
      "Hello!\n",
      "Hello!\n",
      "Hello!\n",
      "Hello!\n",
      "Hello!\n",
      "Hello!\n",
      "Hello!\n",
      "Hello!\n",
      "Hello!\n"
     ]
    }
   ],
   "source": [
    "import time\n",
    "import threading\n",
    "\n",
    "# 함수 정의, 함수 내부에 threading 정의\n",
    "def printhello():\n",
    "    print(\"Hello!\")\n",
    "    \n",
    "    #threading을 정의한다. 5초마다 반복 수행함.\n",
    "    threading.Timer(5,printhello).start()\n",
    "    \n",
    "printhello()"
   ]
  },
  {
   "cell_type": "code",
   "execution_count": null,
   "id": "b8d34228-2cec-4675-9a98-4939d07ae11c",
   "metadata": {},
   "outputs": [],
   "source": []
  }
 ],
 "metadata": {
  "kernelspec": {
   "display_name": "mongta",
   "language": "python",
   "name": "mongta"
  },
  "language_info": {
   "codemirror_mode": {
    "name": "ipython",
    "version": 3
   },
   "file_extension": ".py",
   "mimetype": "text/x-python",
   "name": "python",
   "nbconvert_exporter": "python",
   "pygments_lexer": "ipython3",
   "version": "3.8.12"
  }
 },
 "nbformat": 4,
 "nbformat_minor": 5
}
