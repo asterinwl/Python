{
 "cells": [
  {
   "cell_type": "code",
   "execution_count": 1,
   "id": "db6eed67-fcd7-4beb-92f0-c44b49efc72a",
   "metadata": {},
   "outputs": [],
   "source": [
    "import requests\n",
    "from bs4 import BeautifulSoup\n",
    "import pandas as pd"
   ]
  },
  {
   "cell_type": "code",
   "execution_count": 2,
   "id": "b3382112-fe73-439e-98e0-2a8cf4d80969",
   "metadata": {},
   "outputs": [
    {
     "name": "stdin",
     "output_type": "stream",
     "text": [
      "검색할 키워드를 입력해주세요. :  주토피아\n"
     ]
    }
   ],
   "source": [
    "search = input(\"검색할 키워드를 입력해주세요. : \")"
   ]
  },
  {
   "cell_type": "code",
   "execution_count": 3,
   "id": "3350fe36-9e87-4c80-817d-e79c7d02bf24",
   "metadata": {},
   "outputs": [
    {
     "name": "stdin",
     "output_type": "stream",
     "text": [
      "총 필요한 뉴스기사 수를 입력해주세요.(한 페이지 당 뉴스 10개 검색, 2선택시 20개 뉴스기사, 숫자만 검색) :  1\n"
     ]
    }
   ],
   "source": [
    "news_num = int(input('총 필요한 뉴스기사 수를 입력해주세요.(한 페이지 당 뉴스 10개 검색, 2선택시 20개 뉴스기사, 숫자만 검색) : '))"
   ]
  },
  {
   "cell_type": "code",
   "execution_count": 4,
   "id": "4cb56fc0-299c-444a-8e43-1c42a41603c1",
   "metadata": {},
   "outputs": [
    {
     "name": "stdout",
     "output_type": "stream",
     "text": [
      "2021.11.18.09.24\n",
      "2021.11.18\n"
     ]
    }
   ],
   "source": [
    "import datetime\n",
    "now = datetime.datetime.now()\n",
    "nowDatetime = now.strftime('%Y.%m.%d.%H.%M')\n",
    "nowDate = now.strftime('%Y.%m.%d')\n",
    "print(nowDatetime) \n",
    "print(nowDate)"
   ]
  },
  {
   "cell_type": "code",
   "execution_count": 5,
   "id": "4be5ae5e-861a-45f7-9db3-46d8d1b9603c",
   "metadata": {},
   "outputs": [
    {
     "name": "stdout",
     "output_type": "stream",
     "text": [
      "2021.11.17.09.24\n"
     ]
    }
   ],
   "source": [
    "from datetime import datetime, timedelta\n",
    "deforeDatetime = now - timedelta(days=1)\n",
    "deforeDatetime = deforeDatetime.strftime('%Y.%m.%d.%H.%M')\n",
    "print(deforeDatetime)  # 2015-04-19 12:11:32"
   ]
  },
  {
   "cell_type": "code",
   "execution_count": 6,
   "id": "d52544bb-2009-4f37-af17-69465070bb2c",
   "metadata": {},
   "outputs": [],
   "source": [
    "response1 = 'https://search.naver.com/search.naver?where=news&sm=tab_jum&query='+ search\n",
    "response2= '&sort=0&photo=0&field=0&pd=4&ds=' + nowDatetime + '&de=' + deforeDatetime + '&cluster_rank=27&mynews=0&office_type=0&office_section_code=0&news_office_checked=&nso=so:r,p:1d,a:all&start='\n",
    "postNum = 1"
   ]
  },
  {
   "cell_type": "code",
   "execution_count": 7,
   "id": "c88fa4ac-6265-4ed0-bdfc-de0b8f0c3d1b",
   "metadata": {},
   "outputs": [],
   "source": [
    "title_list = []\n",
    "url_list = []\n",
    "comp_list = []\n",
    "thumbnail_list = []\n",
    "text_list = []\n",
    "day_list = []"
   ]
  },
  {
   "cell_type": "code",
   "execution_count": 8,
   "id": "ceb6f29e-ad23-446d-9723-78752eda9fc8",
   "metadata": {},
   "outputs": [
    {
     "name": "stdout",
     "output_type": "stream",
     "text": [
      "디즈니+ 상륙에 국내 팬 환호...구독 '파티원' 구인글 봇물 http://www.edaily.co.kr/news/newspath.asp?newsid=04067206629246704&snapkey=71295, 이데일리 https://search.pstatic.net/common/?src=https%3A%2F%2Fimgnews.pstatic.net%2Fimage%2Forigin%2F018%2F2021%2F11%2F17%2F5088502.jpg&type=ff264_180&expire=2&refresh=true 현재 디즈니+에는 '라이온킹' '알라딘' '주토피아' '겨울왕국' 등 디즈니 콘텐츠와 픽사의 '토이스토리', '니모를 찾아서' 등 아이들이 즐겨 보는 애니메이션들이 포진돼 있다. 일각에서는 아쉬움도 나타냈다. 넷플릭스가... 2021.11.18\n",
      "라틴 음악과 어우러진 남미 천혜의 자연 속으로 https://www.donga.com/news/article/all/20211117/110302193/1 동아일보 https://search.pstatic.net/common/?src=https%3A%2F%2Fimgnews.pstatic.net%2Fimage%2Forigin%2F020%2F2021%2F11%2F18%2F3394372.jpg&type=ff264_180&expire=2&refresh=true ‘겨울왕국2’의 총괄 제작을 맡고 ‘주토피아’를 연출한 바이런 하워드가 감독인 데다 가족 이야기를 다루는 만큼 디즈니는 엔칸토가 ‘겨울왕국’ 시리즈의 신드롬을 이어갈 것으로 기대하고 있다. 콜롬비아의 비경을... 2021.11.18\n",
      "일상에 지쳤다면 '엔칸토: 마법의 세계'로 떠나자 [마데핫리뷰] http://www.mydaily.co.kr/new_yk/html/read.php?newsid=202111171340865956&ext=na&utm_campaign=naver_news&utm_source=naver&utm_medium=related_news 마이데일리 https://search.pstatic.net/common/?src=https%3A%2F%2Fimgnews.pstatic.net%2Fimage%2Forigin%2F117%2F2021%2F11%2F18%2F3556422.jpg&type=ff264_180&expire=2&refresh=true '믿고 보는' 디즈니의 60번째 장편영화이자 '주토피아' 제작진이 5년 동안 제작한 '엔칸토'. 천혜의 자연환경을 지닌 콜롬비아에서 영감을 받은 자연과 마법의 세계라는 판타지의 조합은 기존에 어떤 영화에서도 볼 수... 2021.11.18\n",
      "[스한초점②] '디어에반핸슨''프렌치디스패치''엔칸토', 11월 외화 '기대' https://sports.hankooki.com/lpage/entv/202111/sp20211118065552136680.htm?s_ref=nv 스포츠한국 https://search.pstatic.net/common/?src=https%3A%2F%2Fimgnews.pstatic.net%2Fimage%2Forigin%2F5359%2F2021%2F11%2F18%2F383898.jpg&type=ff264_180&expire=2&refresh=true 나오는 디즈니 뮤지컬로 전 세계 관객들의 폭발적인 기대를 받고 있다. '주토피아', '모아나', '코코' 제작진이 뭉쳐 만든 따뜻한 이야기, 환상적인 영상미, 흥겨운 음악으로 가족 관객들을 사로잡을 것으로 보인다. 스포츠한국 2021.11.18\n",
      "가끔 세상사는 뒤로, 나 자신에게 집중해야 http://www.psychiatricnews.net/news/articleView.html?idxno=32086 정신의학신문 https://search.pstatic.net/common/?src=https%3A%2F%2Fimgnews.pstatic.net%2Fimage%2Forigin%2F5473%2F2021%2F11%2F18%2F7273.jpg&type=ofullfill264_180_gray&expire=2&refresh=true 애니메이션 <주토피아 Zootopia>의 나무늘보를 떠올려보면 된다. 기뻐하는 것도 슬퍼하는 것도 남들보다 몇 박자씩 느렸다. 무슨 사건이 생기면 아내는 그 직후보다 시간이 조금 흐른 후의 내 표정과 반응을 살핀다. 나의... 2021.11.18\n",
      "[SR문화] \"디즈니가 디즈니 했다!\"...함연지 '엔칸토' 한국어 더빙·뮤직 포퍼... http://www.srtimes.kr/news/articleView.html?idxno=102922 SR타임스 https://search.pstatic.net/common/?src=https%3A%2F%2Fimgnews.pstatic.net%2Fimage%2Forigin%2F5589%2F2021%2F11%2F18%2F59144.jpg&type=ofullfill264_180_gray&expire=2&refresh=true '주토피아' '겨울왕국 2' 제작진의 놀라운 상상력을 담아낸 '엔칸토: 마법의 세계'는 특별한 능력을 가진 마드리갈 패밀리 중, 유일하게 평범한 주인공 '미라벨'이 마법이 사라질 위기에 처한 마을 '엔칸토'와 가족을... 2021.11.18\n"
     ]
    }
   ],
   "source": [
    "for i in range(news_num): #몇 페이지 까지 불러올지 \n",
    "    #response = response1+parse.quote_plus(search)+response2+str(postNum)\n",
    "    response = requests.get(response1+response2+str(postNum))\n",
    "\n",
    "    html = response.text\n",
    "\n",
    "    soup = BeautifulSoup(html, 'html.parser')\n",
    "\n",
    "    articles = soup.select('#main_pack > section > div > div.group_news > ul > li')\n",
    "    \n",
    "    postNum = postNum+10\n",
    "\n",
    "\n",
    "    for article in articles:\n",
    "        a_tag1 = article.select_one('.news_tit')\n",
    "\n",
    "\n",
    "        title = a_tag1.text\n",
    "        title_list.append(title.strip())\n",
    "\n",
    "        url = a_tag1['href']\n",
    "        url_list.append(url.strip())\n",
    "\n",
    "        comp = article.select_one('a.info.press').text\n",
    "        comp = comp.replace('언론사 선정', '')\n",
    "        comp_list.append(comp.strip())\n",
    "\n",
    "        try:\n",
    "            thumbnail = article.select_one('div > a > img')['src']\n",
    "            thumbnail_list.append(thumbnail.strip())\n",
    "\n",
    "        except:\n",
    "            thumbnail_list.append('https://search.pstatic.net/common/?src=https%3A%2F%2Fimgnews.pstatic.net%2Fimage%2Forigin%2F366%2F2021%2F09%2F23%2F762207.jpg&type=ff264_180&expire=2&refresh=true')\n",
    "    #         print('썸네일이 없습니다')\n",
    "\n",
    "        text = article.select_one('a.api_txt_lines.dsc_txt_wrap').text\n",
    "        text_list.append(text.strip())\n",
    "        \n",
    "        day_list.append(nowDate)\n",
    "        \n",
    "\n",
    "        print(title, url, comp, thumbnail, text, nowDate)"
   ]
  },
  {
   "cell_type": "code",
   "execution_count": 9,
   "id": "4e7f0792-ddf7-4fd1-b07a-521854e96d12",
   "metadata": {},
   "outputs": [],
   "source": [
    "title_list=list(dict.fromkeys(title_list))"
   ]
  },
  {
   "cell_type": "code",
   "execution_count": 10,
   "id": "fbd18c02-21a6-4623-816d-7a6dd13d9dfc",
   "metadata": {},
   "outputs": [],
   "source": [
    "url_list=list(dict.fromkeys(url_list))"
   ]
  },
  {
   "cell_type": "code",
   "execution_count": 11,
   "id": "7cd0fcc7-90d2-4b21-9cf5-416764f6d2a5",
   "metadata": {},
   "outputs": [],
   "source": [
    "thumbnail_list=list(dict.fromkeys(thumbnail_list))"
   ]
  },
  {
   "cell_type": "code",
   "execution_count": 12,
   "id": "96b62e62-22f8-4147-9f07-a9ece8bf1aa9",
   "metadata": {},
   "outputs": [],
   "source": [
    "text_list=list(dict.fromkeys(text_list))"
   ]
  },
  {
   "cell_type": "code",
   "execution_count": 13,
   "id": "9e204731-6175-438f-87ec-97e64354e7c7",
   "metadata": {},
   "outputs": [
    {
     "data": {
      "text/plain": [
       "6"
      ]
     },
     "execution_count": 13,
     "metadata": {},
     "output_type": "execute_result"
    }
   ],
   "source": [
    "len(title_list)"
   ]
  },
  {
   "cell_type": "code",
   "execution_count": 14,
   "id": "3d2d639a-5cfc-4027-81b5-99d5d56306cf",
   "metadata": {},
   "outputs": [
    {
     "data": {
      "text/plain": [
       "6"
      ]
     },
     "execution_count": 14,
     "metadata": {},
     "output_type": "execute_result"
    }
   ],
   "source": [
    "len(url_list)"
   ]
  },
  {
   "cell_type": "code",
   "execution_count": 15,
   "id": "8dc490a4-99cf-4824-b558-82067478c08f",
   "metadata": {},
   "outputs": [
    {
     "data": {
      "text/plain": [
       "6"
      ]
     },
     "execution_count": 15,
     "metadata": {},
     "output_type": "execute_result"
    }
   ],
   "source": [
    "len(thumbnail_list)"
   ]
  },
  {
   "cell_type": "code",
   "execution_count": 16,
   "id": "4ffa06ad-615f-4c89-b7c5-1898e5c268ce",
   "metadata": {},
   "outputs": [
    {
     "data": {
      "text/plain": [
       "6"
      ]
     },
     "execution_count": 16,
     "metadata": {},
     "output_type": "execute_result"
    }
   ],
   "source": [
    "len(text_list)"
   ]
  },
  {
   "cell_type": "code",
   "execution_count": 17,
   "id": "0e9283ac-355e-41e4-976e-c1f1ce777d1b",
   "metadata": {},
   "outputs": [],
   "source": [
    "comp_list=comp_list[0:len(title_list)]"
   ]
  },
  {
   "cell_type": "code",
   "execution_count": 18,
   "id": "75b3843d-3d3e-4fc2-8194-208a4679bab2",
   "metadata": {},
   "outputs": [
    {
     "data": {
      "text/plain": [
       "['이데일리', '동아일보', '마이데일리', '스포츠한국', '정신의학신문', 'SR타임스']"
      ]
     },
     "execution_count": 18,
     "metadata": {},
     "output_type": "execute_result"
    }
   ],
   "source": [
    "comp_list"
   ]
  },
  {
   "cell_type": "code",
   "execution_count": 19,
   "id": "813895ac-e3f5-4b63-8b5c-d5c8b6d4a320",
   "metadata": {},
   "outputs": [],
   "source": [
    "day_list=day_list[0:len(title_list)]"
   ]
  },
  {
   "cell_type": "code",
   "execution_count": 20,
   "id": "7e086fd9-4e36-42e6-86eb-56ca39406e10",
   "metadata": {},
   "outputs": [
    {
     "data": {
      "text/plain": [
       "['2021.11.18',\n",
       " '2021.11.18',\n",
       " '2021.11.18',\n",
       " '2021.11.18',\n",
       " '2021.11.18',\n",
       " '2021.11.18']"
      ]
     },
     "execution_count": 20,
     "metadata": {},
     "output_type": "execute_result"
    }
   ],
   "source": [
    "day_list"
   ]
  },
  {
   "cell_type": "code",
   "execution_count": 21,
   "id": "263fa744-4165-42dc-b7fe-6e3fae1a20d5",
   "metadata": {},
   "outputs": [
    {
     "name": "stdout",
     "output_type": "stream",
     "text": [
      "[\"디즈니+ 상륙에 국내 팬 환호...구독 '파티원' 구인글 봇물\", '라틴 음악과 어우러진 남미 천혜의 자연 속으로', \"일상에 지쳤다면 '엔칸토: 마법의 세계'로 떠나자 [마데핫리뷰]\", \"[스한초점②] '디어에반핸슨''프렌치디스패치''엔칸토', 11월 외화 '기대'\", '가끔 세상사는 뒤로, 나 자신에게 집중해야', '[SR문화] \"디즈니가 디즈니 했다!\"...함연지 \\'엔칸토\\' 한국어 더빙·뮤직 포퍼...'] ['http://www.edaily.co.kr/news/newspath.asp?newsid=04067206629246704&snapkey=71295,', 'https://www.donga.com/news/article/all/20211117/110302193/1', 'http://www.mydaily.co.kr/new_yk/html/read.php?newsid=202111171340865956&ext=na&utm_campaign=naver_news&utm_source=naver&utm_medium=related_news', 'https://sports.hankooki.com/lpage/entv/202111/sp20211118065552136680.htm?s_ref=nv', 'http://www.psychiatricnews.net/news/articleView.html?idxno=32086', 'http://www.srtimes.kr/news/articleView.html?idxno=102922'] ['이데일리', '동아일보', '마이데일리', '스포츠한국', '정신의학신문', 'SR타임스'] ['https://search.pstatic.net/common/?src=https%3A%2F%2Fimgnews.pstatic.net%2Fimage%2Forigin%2F018%2F2021%2F11%2F17%2F5088502.jpg&type=ff264_180&expire=2&refresh=true', 'https://search.pstatic.net/common/?src=https%3A%2F%2Fimgnews.pstatic.net%2Fimage%2Forigin%2F020%2F2021%2F11%2F18%2F3394372.jpg&type=ff264_180&expire=2&refresh=true', 'https://search.pstatic.net/common/?src=https%3A%2F%2Fimgnews.pstatic.net%2Fimage%2Forigin%2F117%2F2021%2F11%2F18%2F3556422.jpg&type=ff264_180&expire=2&refresh=true', 'https://search.pstatic.net/common/?src=https%3A%2F%2Fimgnews.pstatic.net%2Fimage%2Forigin%2F5359%2F2021%2F11%2F18%2F383898.jpg&type=ff264_180&expire=2&refresh=true', 'https://search.pstatic.net/common/?src=https%3A%2F%2Fimgnews.pstatic.net%2Fimage%2Forigin%2F5473%2F2021%2F11%2F18%2F7273.jpg&type=ofullfill264_180_gray&expire=2&refresh=true', 'https://search.pstatic.net/common/?src=https%3A%2F%2Fimgnews.pstatic.net%2Fimage%2Forigin%2F5589%2F2021%2F11%2F18%2F59144.jpg&type=ofullfill264_180_gray&expire=2&refresh=true'] [\"현재 디즈니+에는 '라이온킹' '알라딘' '주토피아' '겨울왕국' 등 디즈니 콘텐츠와 픽사의 '토이스토리', '니모를 찾아서' 등 아이들이 즐겨 보는 애니메이션들이 포진돼 있다. 일각에서는 아쉬움도 나타냈다. 넷플릭스가...\", '‘겨울왕국2’의 총괄 제작을 맡고 ‘주토피아’를 연출한 바이런 하워드가 감독인 데다 가족 이야기를 다루는 만큼 디즈니는 엔칸토가 ‘겨울왕국’ 시리즈의 신드롬을 이어갈 것으로 기대하고 있다. 콜롬비아의 비경을...', \"'믿고 보는' 디즈니의 60번째 장편영화이자 '주토피아' 제작진이 5년 동안 제작한 '엔칸토'. 천혜의 자연환경을 지닌 콜롬비아에서 영감을 받은 자연과 마법의 세계라는 판타지의 조합은 기존에 어떤 영화에서도 볼 수...\", \"나오는 디즈니 뮤지컬로 전 세계 관객들의 폭발적인 기대를 받고 있다. '주토피아', '모아나', '코코' 제작진이 뭉쳐 만든 따뜻한 이야기, 환상적인 영상미, 흥겨운 음악으로 가족 관객들을 사로잡을 것으로 보인다. 스포츠한국\", '애니메이션 <주토피아 Zootopia>의 나무늘보를 떠올려보면 된다. 기뻐하는 것도 슬퍼하는 것도 남들보다 몇 박자씩 느렸다. 무슨 사건이 생기면 아내는 그 직후보다 시간이 조금 흐른 후의 내 표정과 반응을 살핀다. 나의...', \"'주토피아' '겨울왕국 2' 제작진의 놀라운 상상력을 담아낸 '엔칸토: 마법의 세계'는 특별한 능력을 가진 마드리갈 패밀리 중, 유일하게 평범한 주인공 '미라벨'이 마법이 사라질 위기에 처한 마을 '엔칸토'와 가족을...\"] ['2021.11.18', '2021.11.18', '2021.11.18', '2021.11.18', '2021.11.18', '2021.11.18']\n"
     ]
    }
   ],
   "source": [
    "print(title_list, url_list, comp_list, thumbnail_list, text_list, day_list)"
   ]
  },
  {
   "cell_type": "code",
   "execution_count": 24,
   "id": "1f20c2d5-638e-4c71-9055-556b039bbb63",
   "metadata": {},
   "outputs": [],
   "source": [
    "info = {'제목':title_list, 'url':url_list, '언론사':comp_list, '썸네일':thumbnail_list, '내용':text_list, '수집 날짜':day_list}"
   ]
  },
  {
   "cell_type": "code",
   "execution_count": 25,
   "id": "d8d12abf-464c-4285-9f30-4153eeb4820f",
   "metadata": {},
   "outputs": [
    {
     "data": {
      "text/plain": [
       "{'제목': [\"디즈니+ 상륙에 국내 팬 환호...구독 '파티원' 구인글 봇물\",\n",
       "  '라틴 음악과 어우러진 남미 천혜의 자연 속으로',\n",
       "  \"일상에 지쳤다면 '엔칸토: 마법의 세계'로 떠나자 [마데핫리뷰]\",\n",
       "  \"[스한초점②] '디어에반핸슨''프렌치디스패치''엔칸토', 11월 외화 '기대'\",\n",
       "  '가끔 세상사는 뒤로, 나 자신에게 집중해야',\n",
       "  '[SR문화] \"디즈니가 디즈니 했다!\"...함연지 \\'엔칸토\\' 한국어 더빙·뮤직 포퍼...'],\n",
       " 'url': ['http://www.edaily.co.kr/news/newspath.asp?newsid=04067206629246704&snapkey=71295,',\n",
       "  'https://www.donga.com/news/article/all/20211117/110302193/1',\n",
       "  'http://www.mydaily.co.kr/new_yk/html/read.php?newsid=202111171340865956&ext=na&utm_campaign=naver_news&utm_source=naver&utm_medium=related_news',\n",
       "  'https://sports.hankooki.com/lpage/entv/202111/sp20211118065552136680.htm?s_ref=nv',\n",
       "  'http://www.psychiatricnews.net/news/articleView.html?idxno=32086',\n",
       "  'http://www.srtimes.kr/news/articleView.html?idxno=102922'],\n",
       " '언론사': ['이데일리', '동아일보', '마이데일리', '스포츠한국', '정신의학신문', 'SR타임스'],\n",
       " '썸네일': ['https://search.pstatic.net/common/?src=https%3A%2F%2Fimgnews.pstatic.net%2Fimage%2Forigin%2F018%2F2021%2F11%2F17%2F5088502.jpg&type=ff264_180&expire=2&refresh=true',\n",
       "  'https://search.pstatic.net/common/?src=https%3A%2F%2Fimgnews.pstatic.net%2Fimage%2Forigin%2F020%2F2021%2F11%2F18%2F3394372.jpg&type=ff264_180&expire=2&refresh=true',\n",
       "  'https://search.pstatic.net/common/?src=https%3A%2F%2Fimgnews.pstatic.net%2Fimage%2Forigin%2F117%2F2021%2F11%2F18%2F3556422.jpg&type=ff264_180&expire=2&refresh=true',\n",
       "  'https://search.pstatic.net/common/?src=https%3A%2F%2Fimgnews.pstatic.net%2Fimage%2Forigin%2F5359%2F2021%2F11%2F18%2F383898.jpg&type=ff264_180&expire=2&refresh=true',\n",
       "  'https://search.pstatic.net/common/?src=https%3A%2F%2Fimgnews.pstatic.net%2Fimage%2Forigin%2F5473%2F2021%2F11%2F18%2F7273.jpg&type=ofullfill264_180_gray&expire=2&refresh=true',\n",
       "  'https://search.pstatic.net/common/?src=https%3A%2F%2Fimgnews.pstatic.net%2Fimage%2Forigin%2F5589%2F2021%2F11%2F18%2F59144.jpg&type=ofullfill264_180_gray&expire=2&refresh=true'],\n",
       " '내용': [\"현재 디즈니+에는 '라이온킹' '알라딘' '주토피아' '겨울왕국' 등 디즈니 콘텐츠와 픽사의 '토이스토리', '니모를 찾아서' 등 아이들이 즐겨 보는 애니메이션들이 포진돼 있다. 일각에서는 아쉬움도 나타냈다. 넷플릭스가...\",\n",
       "  '‘겨울왕국2’의 총괄 제작을 맡고 ‘주토피아’를 연출한 바이런 하워드가 감독인 데다 가족 이야기를 다루는 만큼 디즈니는 엔칸토가 ‘겨울왕국’ 시리즈의 신드롬을 이어갈 것으로 기대하고 있다. 콜롬비아의 비경을...',\n",
       "  \"'믿고 보는' 디즈니의 60번째 장편영화이자 '주토피아' 제작진이 5년 동안 제작한 '엔칸토'. 천혜의 자연환경을 지닌 콜롬비아에서 영감을 받은 자연과 마법의 세계라는 판타지의 조합은 기존에 어떤 영화에서도 볼 수...\",\n",
       "  \"나오는 디즈니 뮤지컬로 전 세계 관객들의 폭발적인 기대를 받고 있다. '주토피아', '모아나', '코코' 제작진이 뭉쳐 만든 따뜻한 이야기, 환상적인 영상미, 흥겨운 음악으로 가족 관객들을 사로잡을 것으로 보인다. 스포츠한국\",\n",
       "  '애니메이션 <주토피아 Zootopia>의 나무늘보를 떠올려보면 된다. 기뻐하는 것도 슬퍼하는 것도 남들보다 몇 박자씩 느렸다. 무슨 사건이 생기면 아내는 그 직후보다 시간이 조금 흐른 후의 내 표정과 반응을 살핀다. 나의...',\n",
       "  \"'주토피아' '겨울왕국 2' 제작진의 놀라운 상상력을 담아낸 '엔칸토: 마법의 세계'는 특별한 능력을 가진 마드리갈 패밀리 중, 유일하게 평범한 주인공 '미라벨'이 마법이 사라질 위기에 처한 마을 '엔칸토'와 가족을...\"],\n",
       " '수집 날짜': ['2021.11.18',\n",
       "  '2021.11.18',\n",
       "  '2021.11.18',\n",
       "  '2021.11.18',\n",
       "  '2021.11.18',\n",
       "  '2021.11.18']}"
      ]
     },
     "execution_count": 25,
     "metadata": {},
     "output_type": "execute_result"
    }
   ],
   "source": [
    "info"
   ]
  },
  {
   "cell_type": "code",
   "execution_count": 26,
   "id": "f86b9d5d-ad7b-495a-adf5-62276c864b69",
   "metadata": {},
   "outputs": [],
   "source": [
    "news = pd.DataFrame(info)"
   ]
  },
  {
   "cell_type": "code",
   "execution_count": 27,
   "id": "116a7f05-e5b3-4d0c-b294-ac1d9e75ccb8",
   "metadata": {},
   "outputs": [
    {
     "data": {
      "text/plain": [
       "\"디즈니+ 상륙에 국내 팬 환호...구독 '파티원' 구인글 봇물\""
      ]
     },
     "execution_count": 27,
     "metadata": {},
     "output_type": "execute_result"
    }
   ],
   "source": [
    "(news.제목[0])"
   ]
  },
  {
   "cell_type": "markdown",
   "id": "fd08726b-b562-4504-8af9-aa2104786ce6",
   "metadata": {},
   "source": [
    "## 날짜 함수 연습"
   ]
  },
  {
   "cell_type": "code",
   "execution_count": 11,
   "id": "571f087d-7411-46aa-91bd-e05a54690229",
   "metadata": {},
   "outputs": [
    {
     "name": "stdout",
     "output_type": "stream",
     "text": [
      "2021-11-17 16:35:14.121840\n"
     ]
    }
   ],
   "source": [
    "import datetime\n",
    "now = datetime.datetime.now()\n",
    "print(now)\n"
   ]
  },
  {
   "cell_type": "code",
   "execution_count": 15,
   "id": "1d6fb7f2-2a4f-47fc-bbe7-782a7d53c236",
   "metadata": {},
   "outputs": [
    {
     "name": "stdout",
     "output_type": "stream",
     "text": [
      "2021.11.17.16.38\n"
     ]
    }
   ],
   "source": [
    "import time\n",
    "now = time.localtime()\n",
    "print(\"%04d.%02d.%02d.%02d.%02d\" % (now.tm_year, now.tm_mon, now.tm_mday, now.tm_hour, now.tm_min))"
   ]
  },
  {
   "cell_type": "code",
   "execution_count": 17,
   "id": "688c3a2f-b6a9-4d7a-8c53-c9f8e9b0edf4",
   "metadata": {},
   "outputs": [
    {
     "name": "stdout",
     "output_type": "stream",
     "text": [
      "2021.11.16.16.40\n"
     ]
    }
   ],
   "source": [
    "import time\n",
    "now = time.localtime()\n",
    "print(\"%04d.%02d.%02d.%02d.%02d\" % (now.tm_year, now.tm_mon, now.tm_mday-1, now.tm_hour, now.tm_min))"
   ]
  },
  {
   "cell_type": "code",
   "execution_count": 18,
   "id": "9f603fd9-5da7-49af-a235-8654159cb014",
   "metadata": {},
   "outputs": [
    {
     "name": "stdout",
     "output_type": "stream",
     "text": [
      "2021-11-17 16:40:52.314112\n",
      "2021-11-17\n",
      "16:40:52\n",
      "2021-11-17 16:40:52\n"
     ]
    }
   ],
   "source": [
    "import datetime\n",
    " \n",
    "now = datetime.datetime.now()\n",
    "print(now)          # 2015-04-19 12:11:32.669083\n",
    " \n",
    "nowDate = now.strftime('%Y-%m-%d')\n",
    "print(nowDate)      # 2015-04-19\n",
    " \n",
    "nowTime = now.strftime('%H:%M:%S')\n",
    "print(nowTime)      # 12:11:32\n",
    " \n",
    "nowDatetime = now.strftime('%Y-%m-%d %H:%M:%S')\n",
    "print(nowDatetime)  # 2015-04-19 12:11:32"
   ]
  },
  {
   "cell_type": "code",
   "execution_count": 19,
   "id": "5203578a-b3d5-4691-a956-bc4d49e687a6",
   "metadata": {},
   "outputs": [
    {
     "name": "stdout",
     "output_type": "stream",
     "text": [
      "2021.11.17.16.40\n"
     ]
    }
   ],
   "source": [
    "import datetime\n",
    "nowDatetime = now.strftime('%Y.%m.%d.%H.%M')\n",
    "print(nowDatetime)  # 2015-04-19 12:11:32"
   ]
  },
  {
   "cell_type": "code",
   "execution_count": 27,
   "id": "4d218079-37a0-4777-bc5b-bcaa7c80ae81",
   "metadata": {},
   "outputs": [
    {
     "data": {
      "text/plain": [
       "str"
      ]
     },
     "execution_count": 27,
     "metadata": {},
     "output_type": "execute_result"
    }
   ],
   "source": [
    "type(nowDatetime)"
   ]
  },
  {
   "cell_type": "code",
   "execution_count": 25,
   "id": "d5292e2d-a73c-4411-bd91-f1ac232c8541",
   "metadata": {},
   "outputs": [
    {
     "name": "stdout",
     "output_type": "stream",
     "text": [
      "2021.11.16.16.40\n"
     ]
    }
   ],
   "source": [
    "from datetime import datetime, timedelta\n",
    "deforeDatetime = now - timedelta(days=1)\n",
    "deforeDatetime = deforeDatetime.strftime('%Y.%m.%d.%H.%M')\n",
    "print(deforeDatetime)  # 2015-04-19 12:11:32"
   ]
  },
  {
   "cell_type": "markdown",
   "id": "475e95d1-c4eb-47cf-85bd-b9e94639bcd0",
   "metadata": {},
   "source": [
    "## 네이버뉴스 하루단위만 뜨게 하는 코드"
   ]
  },
  {
   "cell_type": "code",
   "execution_count": null,
   "id": "a2e8cd14-5904-47ec-b1f0-03654f79c4f6",
   "metadata": {},
   "outputs": [],
   "source": [
    "#https://search.naver.com/search.naver?where=news&sm=tab_pge&query='몽타'&sort=0&photo=0&field=0&pd=4&ds=2021.11.16.16.28&de=2021.11.17.16.28&cluster_rank=27&mynews=0&office_type=0&office_section_code=0&news_office_checked=&nso=so:r,p:1d,a:all"
   ]
  }
 ],
 "metadata": {
  "kernelspec": {
   "display_name": "mongta",
   "language": "python",
   "name": "mongta"
  },
  "language_info": {
   "codemirror_mode": {
    "name": "ipython",
    "version": 3
   },
   "file_extension": ".py",
   "mimetype": "text/x-python",
   "name": "python",
   "nbconvert_exporter": "python",
   "pygments_lexer": "ipython3",
   "version": "3.8.12"
  }
 },
 "nbformat": 4,
 "nbformat_minor": 5
}
