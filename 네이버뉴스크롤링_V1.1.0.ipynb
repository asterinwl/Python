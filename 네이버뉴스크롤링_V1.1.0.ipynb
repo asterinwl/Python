{
 "cells": [
  {
   "cell_type": "code",
   "execution_count": 1,
   "id": "db6eed67-fcd7-4beb-92f0-c44b49efc72a",
   "metadata": {},
   "outputs": [],
   "source": [
    "import requests\n",
    "from bs4 import BeautifulSoup\n",
    "import pandas as pd\n",
    "\n",
    "# 사용할 패키지 불러오기"
   ]
  },
  {
   "cell_type": "code",
   "execution_count": 2,
   "id": "b3382112-fe73-439e-98e0-2a8cf4d80969",
   "metadata": {},
   "outputs": [],
   "source": [
    "search=['주토피아','AWS','엘라스틱','안경','몽타','라라랜드']\n",
    "\n",
    "# 검색어로 넣을 단어들을 list로 넣어주기"
   ]
  },
  {
   "cell_type": "code",
   "execution_count": 3,
   "id": "3350fe36-9e87-4c80-817d-e79c7d02bf24",
   "metadata": {},
   "outputs": [
    {
     "name": "stdin",
     "output_type": "stream",
     "text": [
      "총 필요한 뉴스기사 수를 입력해주세요.(한 페이지 당 뉴스 10개 검색, 2선택시 20개 뉴스기사, 숫자만 검색) :  1\n"
     ]
    }
   ],
   "source": [
    "news_num = int(input('총 필요한 뉴스기사 수를 입력해주세요.(한 페이지 당 뉴스 10개 검색, 2선택시 20개 뉴스기사, 숫자만 검색) : '))\n",
    "\n",
    "# 총 가져올 뉴스 개수 선정해주기. \n",
    "# 네이버 뉴스는 한 페이지 당 10개의 뉴스를 가져온다. 예를 들면, 2를 입력시 총 20개의 뉴스를 가져온다."
   ]
  },
  {
   "cell_type": "markdown",
   "id": "c2afc94d-fb5c-4529-8105-3962b22864e4",
   "metadata": {},
   "source": [
    "###### "
   ]
  },
  {
   "cell_type": "markdown",
   "id": "dbe83cf7-d817-4a46-977b-2c40c7f89a8a",
   "metadata": {},
   "source": [
    "## 참고"
   ]
  },
  {
   "cell_type": "markdown",
   "id": "917e2b9a-7991-43df-9b46-6d2042a82410",
   "metadata": {},
   "source": [
    "###### https://search.naver.com/search.naver?where=news&sm=tab_pge&query='몽타'&sort=0&photo=0&field=0&pd=4&ds=2021.11.16.16.28&de=2021.11.17.16.28&cluster_rank=27&mynews=0&office_type=0&office_section_code=0&news_office_checked=&nso=so:r,p:1d,a:all\n",
    "\n",
    "###### 위 url은 네이버에서 원하는 기간동안의 뉴스를 검색하고 싶을 때 사용하는 코드이다.\n",
    "###### 위 부분에서 `query='몽타'` 부분과 `ds=2021.11.16.16.28&de=2021.11.17.16.28` 부분의 검색어, 날짜만 바꾸면 원하는 값을 구할 수 있다."
   ]
  },
  {
   "cell_type": "markdown",
   "id": "252d1a97-fa88-4666-81ba-458edc74c192",
   "metadata": {},
   "source": [
    "###### "
   ]
  },
  {
   "cell_type": "code",
   "execution_count": 4,
   "id": "4cb56fc0-299c-444a-8e43-1c42a41603c1",
   "metadata": {},
   "outputs": [
    {
     "name": "stdout",
     "output_type": "stream",
     "text": [
      "2021.11.19.09.12\n",
      "2021.11.19\n"
     ]
    }
   ],
   "source": [
    "import datetime\n",
    "now = datetime.datetime.now()\n",
    "nowDatetime = now.strftime('%Y.%m.%d.%H.%M')\n",
    "nowDate = now.strftime('%Y.%m.%d')\n",
    "print(nowDatetime) \n",
    "print(nowDate)\n",
    "\n",
    "# 참고의 날짜를 보면 `년.월.일.시간.분` 꼴로 되어있음을 알 수 있다.\n",
    "# 따라서 쿼리가 돌아갈때의 날짜를 `년.월.일.시간.분` 꼴로 맞추어준다.\n",
    "# nowDatetime은 `de=`에 해당되는 해당되는 값이다.\n",
    "# nowDate는 `수집 날짜`로써 사용할 것이다."
   ]
  },
  {
   "cell_type": "code",
   "execution_count": 5,
   "id": "4be5ae5e-861a-45f7-9db3-46d8d1b9603c",
   "metadata": {},
   "outputs": [
    {
     "name": "stdout",
     "output_type": "stream",
     "text": [
      "2021.11.18.09.12\n"
     ]
    }
   ],
   "source": [
    "from datetime import datetime, timedelta\n",
    "beforeDatetime = now - timedelta(days=1)\n",
    "beforeDatetime = beforeDatetime.strftime('%Y.%m.%d.%H.%M')\n",
    "print(beforeDatetime)\n",
    "\n",
    "# 참고의 날짜를 보면 `년.월.일.시간.분` 꼴로 되어있음을 알 수 있다.\n",
    "# beforeDatetime은 쿼리가 돌아가기 하루 전의 시간이다.\n",
    "# beforeDatetime도 `년.월.일.시간.분` 꼴로 맞추어준다.\n",
    "# nowDatetime은 `ds=`에 해당되는 해당되는 값이다."
   ]
  },
  {
   "cell_type": "code",
   "execution_count": 6,
   "id": "4851ac0e-b2c4-4440-8836-b273e041cef6",
   "metadata": {},
   "outputs": [
    {
     "name": "stdout",
     "output_type": "stream",
     "text": [
      "[리뷰] ‘엔칸토: 마법의 세계’ 당신과 함께한다는 기적의 아름다움 http://news.maxmovie.com/432430 맥스무비 https://search.pstatic.net/common/?src=https%3A%2F%2Fimgnews.pstatic.net%2Fimage%2Forigin%2F5078%2F2021%2F11%2F18%2F128962.jpg&type=ofullfill264_180_gray&expire=2&refresh=true ‘겨울왕국 2’, ‘알라딘’ 이후 2년 만에 돌아온 디즈니 뮤니컬 작품으로, ‘주토피아’, ‘모아나’, ‘코코’의 제작진이 뭉쳤다는 후문이다.영화 '엔칸토: 마법의 세계' 스틸. 사진 월트디즈니컴퍼니 코리아콜롬비아의... 2021.11.19\n",
      "경일대, 교육서비스 강화…'AWS 클라우드'로 전면 이전 http://www.newsis.com/view/?id=NISX20211118_0001655754&cID=10810&pID=10800 뉴시스 https://search.pstatic.net/common/?src=https%3A%2F%2Fimgnews.pstatic.net%2Fimage%2Forigin%2F003%2F2021%2F11%2F18%2F10839921.jpg&type=ff264_180&expire=2&refresh=true 경일대학교는 국내 4년제 대학 중 최초로 교육 서비스 강화 및 학업 성과 증진을 위해 아마존웹서비스(AWS) 클라우드로 전면 이전했다고 18일 밝혔다. 전체 IT 인프라스트럭처를 AWS로 이전한 경일대는 시스템의 신속한... 2021.11.19\n",
      "GS네오텍, AWS ISV 파트너 패스 인증 http://www.inews24.com/view/1424009 아이뉴스24 https://search.pstatic.net/common/?src=https%3A%2F%2Fimgnews.pstatic.net%2Fimage%2Forigin%2F031%2F2021%2F11%2F18%2F637126.jpg&type=ff264_180&expire=2&refresh=true GS네오텍이 AWS ISV 파트너 패스 인증을 받았다. GS네오텍(대표 남기정)은 ‘AWS ISV 파트너 패스’를 인증했다고 18일 발표했다. 이번에 GS네오텍이 인증한 AWS ISV 파트너 패스는 비즈니스 운영 시 필요한... 2021.11.19\n",
      "교보정보통신, 아마존웹서비스(AWS) '어드밴스드 컨설팅 파트너' 등급 획득 http://www.fnnews.com/news/202111181022027455 파이낸셜뉴스 https://search.pstatic.net/common/?src=https%3A%2F%2Fimgnews.pstatic.net%2Fimage%2Forigin%2F014%2F2021%2F11%2F18%2F4741776.jpg&type=ff264_180&expire=2&refresh=true 교보정보통신은 글로벌 클라우드 선도기업인 아마존웹서비스(AWS)의 '어드밴스드 컨설팅 파트너' 자격을 획득했다고 18일 밝혔다. AWS 컨설팅 파트너는 AWS를 사용하고자 하는 고객을 대상으로 설계, 구축, 이관 및관리... 2021.11.19\n",
      "글로벌 3위 클라우드社 구글 \"AWS‧MS 잡는다\" https://www.ebn.co.kr/news/view/1508681/?sc=Naver EBN https://search.pstatic.net/common/?src=https%3A%2F%2Fimgnews.pstatic.net%2Fimage%2Forigin%2F5093%2F2021%2F11%2F18%2F486516.jpg&type=ff264_180&expire=2&refresh=true 글로벌 3위 클라우드업체 구글 클라우드가 업계 1,2위 아마존웹서비스(AWS)와 마이크로소프트(MS)의 아성을... 구글은 최근 10%까지 점유율을 높이며 AWS와 MS를 바짝 뒤쫓고 있는 중이다. 올해 구글 클라우드의 1~3분기 매출... 2021.11.19\n",
      "스마트제조혁신협회-AWS, '처음부터 시작하는 제조 디지털 혁신' 세미나 성... http://www.itdaily.kr/news/articleView.html?idxno=205155 아이티데일리 https://search.pstatic.net/common/?src=https%3A%2F%2Fimgnews.pstatic.net%2Fimage%2Forigin%2F5046%2F2021%2F11%2F18%2F88988.jpg&type=ofullfill264_180_gray&expire=2&refresh=true 스마트제조혁신협회(회장 강철규)와 아마존웹서비스(Amazon Web Service, AWS)는 지난 11월 3일~4일 이틀에 걸쳐... 스마트제조혁신협회와 AWS의 세미나는 클라우드를 처음 시작해야 하는 제조기업과 솔루션기업 각각에게... 2021.11.19\n",
      "가치 있는 기업 데이터, '데이터 메쉬'로 관리한다 https://www.inven.co.kr/webzine/news/?news=265032 인벤 https://search.pstatic.net/common/?src=https%3A%2F%2Fimgnews.pstatic.net%2Fimage%2Forigin%2F442%2F2021%2F11%2F18%2F142779.jpg&type=ff264_180&expire=2&refresh=true 아마존 웹 서비스(AWS)나 구글 클라우드 같은 경우 전체 기술이 오픈 소스 기반인 경우가 많은데, 오라클은... 그는 오라클이 경쟁사 대비 컴퓨팅을 위한 3배 더 나은 가격 성능을 갖췄고, AWS의 절반 가격으로 20배에 달하는... 2021.11.19\n",
      "LGU+, 국내 최초 클라우드 백본 장비 실증…유연성·안정성 확보 https://www.itbiznews.com/news/articleView.html?idxno=56001 IT비즈뉴스 https://search.pstatic.net/common/?src=https%3A%2F%2Fimgnews.pstatic.net%2Fimage%2Forigin%2F5795%2F2021%2F11%2F18%2F15088.jpg&type=ofullfill264_180_gray&expire=2&refresh=true 이미 아마존(AWS), 구글, 마이크로소프트(MS) 등의 IT업계에서는 클라우드 인프라에 컨테이너 개념을 도입해... 앞서 8월에는 AWS 클라우드에 5G 코어장비와 MEC 서비스를 동시에 수용하는 실증을 완료한 바 있다. 개방형... 2021.11.19\n",
      "LG U+·드라이브넷, 클라우드 백본 장비 실증 완료 https://biz.chosun.com/it-science/ict/2021/11/18/WFKRMAYOYNFZLO2E7TNRUQ5REE/?utm_source=naver&utm_medium=original&utm_campaign=biz 조선비즈 https://search.pstatic.net/common/?src=https%3A%2F%2Fimgnews.pstatic.net%2Fimage%2Forigin%2F366%2F2021%2F11%2F18%2F774842.jpg&type=ff264_180&expire=2&refresh=true 앞서 8월에는 AWS 클라우드에 5G 코어 장비와 MEC 서비스를 동시에 수용하는 실증을 완료한 바 있다. 이상헌 LG유플러스 네트워크(NW)선행개발담당은 “차세대 네트워크 클라우드 핵심기술인 컨테이너 기술을 통해... 2021.11.19\n",
      "엔비디아 3분기 매출 50％↑…기대 상회 '깜짝 실적' http://yna.kr/AKR20211118087800009?did=1195m 연합뉴스 https://search.pstatic.net/common/?src=https%3A%2F%2Fimgnews.pstatic.net%2Fimage%2Forigin%2F001%2F2021%2F11%2F18%2F12802749.jpg&type=ff264_180&expire=2&refresh=true 콜레트 크레스 엔비디아 최고재무책임자(CFO)는 \"아마존웹서비스(AWS), 마이크로소프트(MS) 애저, 구글 클라우드 등 클라우드 업계 '큰 손' 고객들과의 GPU 거래가 성장을 이끌었다\"고 밝혔다. 이번 엔비디아의 호실적은... 2021.11.19\n",
      "내륙에 짙은 안개 '차량운행 주의'…아침 서울 11도 등 포근 https://www.news1.kr/articles/?4497935 뉴스1 https://search.pstatic.net/common/?src=https%3A%2F%2Fimgnews.pstatic.net%2Fimage%2Forigin%2F421%2F2021%2F11%2F19%2F5734654.jpg&type=ff264_180&expire=2&refresh=true 기상청 지역별상세관측자료(AWS)에 따르면 이날 오전 6시20분 기준 주요 도시 기온은 Δ서울 11.3도 Δ인천 12.3도 Δ춘천 12.9도 Δ강릉 15도 Δ대전 7.2도 Δ청주 10.8도 Δ전주 8.1도 Δ광주 6.4도 Δ대구 4.8도 Δ부산 9.8도 Δ제주... 2021.11.19\n",
      "'갓영웅' 임영웅 안경, 홈쇼핑 주문 폭주…앙코르 진행 https://www.hankyung.com/entertainment/article/202111187181H 한국경제 https://search.pstatic.net/common/?src=https%3A%2F%2Fimgnews.pstatic.net%2Fimage%2Forigin%2F015%2F2021%2F11%2F18%2F4629991.jpg&type=ff264_180&expire=2&refresh=true 가수 임영웅이 디자인에 참여하며 품절 행보를 이어온 '임영웅 안경'이 홈쇼핑에서 재판매된다. 아이웨어... '임영웅 안경' 키싱하트의 앙코르 방송은 20일 토요일 오전 9시 21분 신세계TV 쇼핑을 통해 방송되며... 2021.11.19\n",
      "\"지금은 영웅시대\"…임영웅, 음원부터 안경까지 '대박 행진' https://view.asiae.co.kr/article/2021111818263216417 아시아경제 https://search.pstatic.net/common/?src=https%3A%2F%2Fimgnews.pstatic.net%2Fimage%2Forigin%2F277%2F2021%2F11%2F18%2F5001939.jpg&type=ff264_180&expire=2&refresh=true 임영웅이 디자인에 참여한 일명 '임영웅 안경'이 홈쇼핑에서 대박을 터뜨렸다. 이날 아이웨어 브랜드 키싱하트 측은 오는 20일 오전 신세계TV쇼핑에서 앙코르 방송을 진행한다고 밝혔다. 이번 방송은 14일 진행한... 2021.11.19\n",
      "[마산대 소식] 치위생·치기공·안경공학과, 다채로운 업무 행사 열려 https://www.pressian.com/pages/articles/2021111822225852519?utm_source=naver&utm_medium=search 프레시안 https://search.pstatic.net/common/?src=https%3A%2F%2Fimgnews.pstatic.net%2Fimage%2Forigin%2F002%2F2021%2F11%2F18%2F2219625.jpg&type=ff264_180&expire=2&refresh=true 이날 안경광학과는 올해 비정규프로그램으로 진행하고 있는 ‘시각장애인을 위한 시재활 교육 사업’을... 마산대학교는 시각장애인을 대상으로 하는 이번 시재활 교육 사업으로 안경광학과를 특화시키고 전문성을... 2021.11.19\n",
      "산엔청복지관 노인·장애인 시력검사·안경 지원 http://www.weeklytoday.com/news/articleView.html?idxno=426904 위클리오늘 https://search.pstatic.net/common/?src=https%3A%2F%2Fimgnews.pstatic.net%2Fimage%2Forigin%2F5294%2F2021%2F11%2F18%2F239728.jpg&type=ofullfill264_180_gray&expire=2&refresh=true ▲ 산엔청복지관 노인·장애인 시력검사·안경 지원 [경남 위클리오늘=위종우 기자] 산엔청복지관은 굿아이안경콘택트 산청점과 함께 지역 장애인과 노인의 건강증진을 위해 시력 등 건강검진서비스를 실시한다고 18일... 2021.11.19\n",
      "남보라, 똘망똘망 모범생 느낌..안경 써도 굴욕 없는 외모 http://biz.heraldcorp.com/view.php?ud=202111181148535226033_1 헤럴드POP https://search.pstatic.net/common/?src=https%3A%2F%2Fimgnews.pstatic.net%2Fimage%2Forigin%2F112%2F2021%2F11%2F18%2F3499847.jpg&type=ff264_180&expire=2&refresh=true 남보라가 안경을 착용하고 귀여운 외모를 자랑해 화제다. 18일 배우 남보라는 자신의 인스타그램 스토리를 통해 \"이틀 만에 집에서 나왔다 야호\"라는 글과 함께 근황을 담은 한 장의 인증 사진을 게재했다. 공개된 사진 속... 2021.11.19\n",
      "밝은누리안과병원, 무료 진료·안경 지원 의료 나눔 실천 https://mdtoday.co.kr/news/view/1065606660400721 메디컬투데이 https://search.pstatic.net/common/?src=https%3A%2F%2Fimgnews.pstatic.net%2Fimage%2Forigin%2F5269%2F2021%2F11%2F18%2F198478.jpg&type=ff264_180&expire=2&refresh=true 및 안경 무료 지원 행사를 실시했다. (사진=밝은누리안과병원 제공) 대전 밝은누리안과병원이 올해도 대전시 초·중·고등학교 저소득층 청소년들에게 시력검사 및 안경 무료 지원 행사를 실시했다고 18일 밝혔다.... 2021.11.19\n",
      "(주) 이노티안경체인, \"춘해보건대학교 안경광학과와 MOU체결\" http://www.kdpress.co.kr/news/articleView.html?idxno=108446 데일리경제 https://search.pstatic.net/common/?src=https%3A%2F%2Fimgnews.pstatic.net%2Fimage%2Forigin%2F5792%2F2021%2F11%2F18%2F11420.jpg&type=ofullfill264_180_gray&expire=2&refresh=true 이노티안경체인(대표 채경영)은 18일 \"춘해보건대학교(총장 김희진) 안경광학과(학과장 김봉환)가 지난 11월11일 춘해보건대학교에서 '산학협력에 대한 협약식'을 체결했다\"고 밝혔다. 이번 협약으로 이노티안경체인과... 2021.11.19\n",
      "다비치안경, 수험생·가족 대상 아이웨어 할인 이벤트 진행 http://www.enewstoday.co.kr/news/articleView.html?idxno=1527608 이뉴스투데이 https://search.pstatic.net/common/?src=https%3A%2F%2Fimgnews.pstatic.net%2Fimage%2Forigin%2F5038%2F2021%2F11%2F18%2F686830.jpg&type=ofullfill264_180_gray&expire=2&refresh=true 다비치안경은 수험생을 대상으로 안경, 콘택트렌즈를 할인해 주는 수험생 할인 이벤트를 진행한다고 18일 밝혔다. 수험생 할인 이벤트는 수능 당일인 18일부터 다음 달 31일까지 수험생 본인 대상으로 안경 20%를... 2021.11.19\n",
      "대구시, '찾아가는 디옵스(DIOPS in Seoul)’ 성공적 마무리 https://www.geconomy.co.kr/news/article.html?no=190282 지이코노미 https://search.pstatic.net/common/?src=https%3A%2F%2Fimgnews.pstatic.net%2Fimage%2Forigin%2F5633%2F2021%2F11%2F18%2F18309.jpg&type=ofullfill264_180_gray&expire=2&refresh=true 유명 아이웨어브랜드 40개사, 국내 500여 안경원 참가 G.ECONOMY(지이코노미) 홍종락 기자 | 지난 11월 15일~16일... 500여 안경원이 참가해 상담 및 현장 계약을 진행했다. 이틀간 총 854건, 8억 3천만원 상당의 현장계약... 2021.11.19\n",
      "[교육소식] 창원대, 제조메타버스 플랫폼 특강 등 http://www.newsis.com/view/?id=NISX20211118_0001656358&cID=10812&pID=10800 뉴시스 https://search.pstatic.net/common/?src=https%3A%2F%2Fimgnews.pstatic.net%2Fimage%2Forigin%2F003%2F2021%2F11%2F18%2F10840899.jpg&type=ff264_180&expire=2&refresh=true ◇마산대 안경광학과, 시재활 교육사업 마무리 마산대학교 안경광학과는 2021학년도 비정규 프로그램으로 진행한 '시각장애인을 위한 시재활 교육 사업'을 성공적으로 마무리했다고 18일 밝혔다. 프로그램은 ▲사전 이론... 2021.11.19\n",
      "[주말극장가]-장르만 로맨스 외 http://news.knn.co.kr/news/todaynews_read.asp?etime=2021111700044&userid=yyy&newsgubun=culture KNN https://search.pstatic.net/common/?src=https%3A%2F%2Fimgnews.pstatic.net%2Fimage%2Forigin%2F5167%2F2021%2F11%2F19%2F139752.jpg&type=ff264_180&expire=2&refresh=true 라라랜드 음악 제작진까지 의기투합해 기대를 더합니다. 20세기 초 프랑스의 가상 도시 블라제! 여기는 다양한 사건을 취재하는 미국 매거진 프렌치 디스패치입니다. 갑작스러운 편집장의 죽음에 최정예 저널리스트들이... 2021.11.19\n",
      "[이번 주 뭘볼까] ‘장르만 로맨스’-‘디어 에반 핸슨’-‘프렌치 디스패치’... http://news.maxmovie.com/432428 맥스무비 https://search.pstatic.net/common/?src=https%3A%2F%2Fimgnews.pstatic.net%2Fimage%2Forigin%2F5078%2F2021%2F11%2F19%2F128964.jpg&type=ofullfill264_180_gray&expire=2&refresh=true 특히 많은 이들의 인생 뮤지컬 영화로 손꼽히고 있는 ‘라라랜드’, ‘위대한 쇼맨’의 음악 제작진이... 영화 ‘프렌치 디스패치’는 ‘그랜드 부다페스트 호텔’, ‘문라이즈 킹덤’, ‘개들의 섬’ 등의 작품을 통해... 2021.11.19\n",
      "[창간인터뷰 ⑥] '크라임퍼즐'→'소년비행' 시즌, 스튜디오지니와 시너지 기대 http://www.joynews24.com/view/1423151 조이뉴스24 https://search.pstatic.net/common/?src=https%3A%2F%2Fimgnews.pstatic.net%2Fimage%2Forigin%2F5712%2F2021%2F11%2F18%2F114581.jpg&type=ofullfill264_180_gray&expire=2&refresh=true 현재 시즌은 '신과 함께1, 2' '오케이 마담' '베놈' '라라랜드' '너의 이름은' '날씨의 아이' 'S.W.A.T' '닥터후' '굿닥터' '미란다' '치아문단순적소미호' 등 국내외 인기 콘텐츠를 서비스 중이다. 이 외에 '거침없이 하이킥... 2021.11.19\n",
      "50만 수험생 공략…유통가 '포스트 수능' 마케팅 http://www.etnews.com/20211118000174 전자신문 https://search.pstatic.net/common/?src=https%3A%2F%2Fimgnews.pstatic.net%2Fimage%2Forigin%2F030%2F2021%2F11%2F18%2F2982815.jpg&type=ff264_180&expire=2&refresh=true 전자랜드도 이달 22일까지 100만원 이상의 조립PC를 구매하면 250GB의 SSD를 500GB로 무상 업그레이드해주는... 현대백화점 신촌점은 오는 28일까지 수험표를 지참하면 컨버스, 닥터마틴 등 10여개 브랜드에서 최대 30% 할인... 2021.11.19\n",
      "김포, 책 읽는 마을 https://www.hani.co.kr/arti/culture/book/1019938.html 한겨레 https://search.pstatic.net/common/?src=https%3A%2F%2Fimgnews.pstatic.net%2Fimage%2Forigin%2F028%2F2021%2F11%2F19%2F2568444.jpg&type=ff264_180&expire=2&refresh=true 우.동.책의 두 번째 프로젝트는 ‘김포, 책 읽는 마을’이라는 기치를 내걸고 김포의 랜드마크 수로 상가 라베니체에서 열린 플리마켓에 참여한 것이었습니다. 책방마다 개성 있는 큐레이션을 선보이며 작은 책방들이... 2021.11.19\n",
      "[기획] \"수능 끝\" 올해도 수험표 마케팅…위로와 대목사이 http://www.sisafocus.co.kr/news/articleView.html?idxno=268634 시사포커스 https://search.pstatic.net/common/?src=https%3A%2F%2Fimgnews.pstatic.net%2Fimage%2Forigin%2F5329%2F2021%2F11%2F18%2F146435.jpg&type=ff264_180&expire=2&refresh=true Y 수능 페스타에 함께하는 브랜드는 KT를 비롯해 ▲에뛰드 ▲브랜디 ▲하이버 ▲AWA전시회(그라운드시소)... 브랜드의 쿠폰을 주는 프로모션으로 선착순으로 6063명에게 혜택을 제공한다. Y 수능 페스타의 쿠폰은 수능 후... 2021.11.19\n"
     ]
    }
   ],
   "source": [
    "title_list = []\n",
    "url_list = []\n",
    "comp_list = []\n",
    "thumbnail_list = []\n",
    "text_list = []\n",
    "day_list = []\n",
    "keyword_list =[]\n",
    "\n",
    "# 출력값을 리스트에 넣어주기 위해서 빈 리스크를 만들어준다.\n",
    "\n",
    "\n",
    "for j in range(0,len(search)) :        # 검색어로 넣을 키워드를 반복한다.\n",
    "    \n",
    "    response1 = 'https://search.naver.com/search.naver?where=news&sm=tab_jum&query='+ search[j]\n",
    "    response2= '&sort=0&photo=0&field=0&pd=4&ds=' + nowDatetime + '&de=' + beforeDatetime + '&cluster_rank=27&mynews=0&office_type=0&office_section_code=0&news_office_checked=&nso=so:r,p:1d,a:all&start='\n",
    "    # 필요한 url을 세팅해둔다.\n",
    "    \n",
    "    postNum = 1 # 뉴스 기사 수\n",
    "\n",
    "    for i in range(news_num): # 뉴스 기사 수 \n",
    "        response = requests.get(response1+response2+str(postNum))\n",
    "\n",
    "        html = response.text\n",
    "\n",
    "        soup = BeautifulSoup(html, 'html.parser')\n",
    "\n",
    "        articles = soup.select('#main_pack > section > div > div.group_news > ul > li')\n",
    "\n",
    "        postNum = postNum+10 # 뉴스 기사 수\n",
    "        \n",
    "\n",
    "        for article in articles:\n",
    "            a_tag1 = article.select_one('.news_tit')\n",
    "            \n",
    "            title = a_tag1.text\n",
    "            title_list.append(title.strip())\n",
    "            #title_list.append(str(title)) 이 코드로도 가능하다.\n",
    "\n",
    "            url = a_tag1['href']\n",
    "            url_list.append(url.strip())\n",
    "\n",
    "            comp = article.select_one('a.info.press').text\n",
    "            comp = comp.replace('언론사 선정', '')\n",
    "            comp_list.append(comp.strip())\n",
    "\n",
    "            try:\n",
    "                thumbnail = article.select_one('div > a > img')['src']\n",
    "                thumbnail_list.append(thumbnail.strip())\n",
    "\n",
    "            except:\n",
    "                thumbnail_list.append('https://search.pstatic.net/common/?src=https%3A%2F%2Fimgnews.pstatic.net%2Fimage%2Forigin%2F366%2F2021%2F09%2F23%2F762207.jpg&type=ff264_180&expire=2&refresh=true')\n",
    "            # 일부 기사는 이미지가 없는 경우가 있다. 따라서 이미지가 없는 경우 기본값을 설정해주었다.\n",
    "\n",
    "            text = article.select_one('a.api_txt_lines.dsc_txt_wrap').text\n",
    "            text_list.append(text.strip())\n",
    "\n",
    "            day_list.append(nowDate)\n",
    "            \n",
    "            keyword_list.append(search[j])\n",
    "\n",
    "            print(title, url, comp, thumbnail, text, nowDate)"
   ]
  },
  {
   "cell_type": "code",
   "execution_count": 7,
   "id": "263fa744-4165-42dc-b7fe-6e3fae1a20d5",
   "metadata": {},
   "outputs": [
    {
     "name": "stdout",
     "output_type": "stream",
     "text": [
      "['[리뷰] ‘엔칸토: 마법의 세계’ 당신과 함께한다는 기적의 아름다움', \"경일대, 교육서비스 강화…'AWS 클라우드'로 전면 이전\", 'GS네오텍,\\xa0AWS ISV\\xa0파트너 패스 인증', \"교보정보통신, 아마존웹서비스(AWS) '어드밴스드 컨설팅 파트너' 등급 획득\", '글로벌 3위 클라우드社 구글 \"AWS‧MS 잡는다\"', \"스마트제조혁신협회-AWS,\\xa0'처음부터 시작하는 제조 디지털 혁신'\\xa0세미나 성...\", \"가치 있는 기업 데이터, '데이터 메쉬'로 관리한다\", 'LGU+, 국내 최초 클라우드 백본 장비 실증…유연성·안정성 확보', 'LG U+·드라이브넷, 클라우드 백본 장비 실증 완료', \"엔비디아 3분기 매출 50％↑…기대 상회 '깜짝 실적'\", \"내륙에 짙은 안개 '차량운행 주의'…아침 서울 11도 등 포근\", \"'갓영웅' 임영웅 안경, 홈쇼핑 주문 폭주…앙코르 진행\", '\"지금은 영웅시대\"…임영웅, 음원부터 안경까지 \\'대박 행진\\'', '[마산대 소식] 치위생·치기공·안경공학과, 다채로운 업무 행사 열려', '산엔청복지관 노인·장애인 시력검사·안경 지원', '남보라, 똘망똘망 모범생 느낌..안경 써도 굴욕 없는 외모', '밝은누리안과병원, 무료 진료·안경 지원 의료 나눔 실천', '(주) 이노티안경체인, \"춘해보건대학교 안경광학과와 MOU체결\"', '다비치안경, 수험생·가족 대상 아이웨어 할인 이벤트 진행', \"대구시, '찾아가는 디옵스(DIOPS in Seoul)’ 성공적 마무리\", '[교육소식] 창원대, 제조메타버스 플랫폼 특강 등', '[주말극장가]-장르만 로맨스 외', '[이번 주 뭘볼까] ‘장르만 로맨스’-‘디어 에반 핸슨’-‘프렌치 디스패치’...', \"[창간인터뷰 ⑥] '크라임퍼즐'→'소년비행' 시즌, 스튜디오지니와 시너지 기대\", \"50만 수험생 공략…유통가 '포스트 수능' 마케팅\", '김포, 책 읽는 마을', '[기획] \"수능 끝\" 올해도 수험표 마케팅…위로와 대목사이'] ['http://news.maxmovie.com/432430', 'http://www.newsis.com/view/?id=NISX20211118_0001655754&cID=10810&pID=10800', 'http://www.inews24.com/view/1424009', 'http://www.fnnews.com/news/202111181022027455', 'https://www.ebn.co.kr/news/view/1508681/?sc=Naver', 'http://www.itdaily.kr/news/articleView.html?idxno=205155', 'https://www.inven.co.kr/webzine/news/?news=265032', 'https://www.itbiznews.com/news/articleView.html?idxno=56001', 'https://biz.chosun.com/it-science/ict/2021/11/18/WFKRMAYOYNFZLO2E7TNRUQ5REE/?utm_source=naver&utm_medium=original&utm_campaign=biz', 'http://yna.kr/AKR20211118087800009?did=1195m', 'https://www.news1.kr/articles/?4497935', 'https://www.hankyung.com/entertainment/article/202111187181H', 'https://view.asiae.co.kr/article/2021111818263216417', 'https://www.pressian.com/pages/articles/2021111822225852519?utm_source=naver&utm_medium=search', 'http://www.weeklytoday.com/news/articleView.html?idxno=426904', 'http://biz.heraldcorp.com/view.php?ud=202111181148535226033_1', 'https://mdtoday.co.kr/news/view/1065606660400721', 'http://www.kdpress.co.kr/news/articleView.html?idxno=108446', 'http://www.enewstoday.co.kr/news/articleView.html?idxno=1527608', 'https://www.geconomy.co.kr/news/article.html?no=190282', 'http://www.newsis.com/view/?id=NISX20211118_0001656358&cID=10812&pID=10800', 'http://news.knn.co.kr/news/todaynews_read.asp?etime=2021111700044&userid=yyy&newsgubun=culture', 'http://news.maxmovie.com/432428', 'http://www.joynews24.com/view/1423151', 'http://www.etnews.com/20211118000174', 'https://www.hani.co.kr/arti/culture/book/1019938.html', 'http://www.sisafocus.co.kr/news/articleView.html?idxno=268634'] ['맥스무비', '뉴시스', '아이뉴스24', '파이낸셜뉴스', 'EBN', '아이티데일리', '인벤', 'IT비즈뉴스', '조선비즈', '연합뉴스', '뉴스1', '한국경제', '아시아경제', '프레시안', '위클리오늘', '헤럴드POP', '메디컬투데이', '데일리경제', '이뉴스투데이', '지이코노미', '뉴시스', 'KNN', '맥스무비', '조이뉴스24', '전자신문', '한겨레', '시사포커스'] ['https://search.pstatic.net/common/?src=https%3A%2F%2Fimgnews.pstatic.net%2Fimage%2Forigin%2F5078%2F2021%2F11%2F18%2F128962.jpg&type=ofullfill264_180_gray&expire=2&refresh=true', 'https://search.pstatic.net/common/?src=https%3A%2F%2Fimgnews.pstatic.net%2Fimage%2Forigin%2F003%2F2021%2F11%2F18%2F10839921.jpg&type=ff264_180&expire=2&refresh=true', 'https://search.pstatic.net/common/?src=https%3A%2F%2Fimgnews.pstatic.net%2Fimage%2Forigin%2F031%2F2021%2F11%2F18%2F637126.jpg&type=ff264_180&expire=2&refresh=true', 'https://search.pstatic.net/common/?src=https%3A%2F%2Fimgnews.pstatic.net%2Fimage%2Forigin%2F014%2F2021%2F11%2F18%2F4741776.jpg&type=ff264_180&expire=2&refresh=true', 'https://search.pstatic.net/common/?src=https%3A%2F%2Fimgnews.pstatic.net%2Fimage%2Forigin%2F5093%2F2021%2F11%2F18%2F486516.jpg&type=ff264_180&expire=2&refresh=true', 'https://search.pstatic.net/common/?src=https%3A%2F%2Fimgnews.pstatic.net%2Fimage%2Forigin%2F5046%2F2021%2F11%2F18%2F88988.jpg&type=ofullfill264_180_gray&expire=2&refresh=true', 'https://search.pstatic.net/common/?src=https%3A%2F%2Fimgnews.pstatic.net%2Fimage%2Forigin%2F442%2F2021%2F11%2F18%2F142779.jpg&type=ff264_180&expire=2&refresh=true', 'https://search.pstatic.net/common/?src=https%3A%2F%2Fimgnews.pstatic.net%2Fimage%2Forigin%2F5795%2F2021%2F11%2F18%2F15088.jpg&type=ofullfill264_180_gray&expire=2&refresh=true', 'https://search.pstatic.net/common/?src=https%3A%2F%2Fimgnews.pstatic.net%2Fimage%2Forigin%2F366%2F2021%2F11%2F18%2F774842.jpg&type=ff264_180&expire=2&refresh=true', 'https://search.pstatic.net/common/?src=https%3A%2F%2Fimgnews.pstatic.net%2Fimage%2Forigin%2F001%2F2021%2F11%2F18%2F12802749.jpg&type=ff264_180&expire=2&refresh=true', 'https://search.pstatic.net/common/?src=https%3A%2F%2Fimgnews.pstatic.net%2Fimage%2Forigin%2F421%2F2021%2F11%2F19%2F5734654.jpg&type=ff264_180&expire=2&refresh=true', 'https://search.pstatic.net/common/?src=https%3A%2F%2Fimgnews.pstatic.net%2Fimage%2Forigin%2F015%2F2021%2F11%2F18%2F4629991.jpg&type=ff264_180&expire=2&refresh=true', 'https://search.pstatic.net/common/?src=https%3A%2F%2Fimgnews.pstatic.net%2Fimage%2Forigin%2F277%2F2021%2F11%2F18%2F5001939.jpg&type=ff264_180&expire=2&refresh=true', 'https://search.pstatic.net/common/?src=https%3A%2F%2Fimgnews.pstatic.net%2Fimage%2Forigin%2F002%2F2021%2F11%2F18%2F2219625.jpg&type=ff264_180&expire=2&refresh=true', 'https://search.pstatic.net/common/?src=https%3A%2F%2Fimgnews.pstatic.net%2Fimage%2Forigin%2F5294%2F2021%2F11%2F18%2F239728.jpg&type=ofullfill264_180_gray&expire=2&refresh=true', 'https://search.pstatic.net/common/?src=https%3A%2F%2Fimgnews.pstatic.net%2Fimage%2Forigin%2F112%2F2021%2F11%2F18%2F3499847.jpg&type=ff264_180&expire=2&refresh=true', 'https://search.pstatic.net/common/?src=https%3A%2F%2Fimgnews.pstatic.net%2Fimage%2Forigin%2F5269%2F2021%2F11%2F18%2F198478.jpg&type=ff264_180&expire=2&refresh=true', 'https://search.pstatic.net/common/?src=https%3A%2F%2Fimgnews.pstatic.net%2Fimage%2Forigin%2F5792%2F2021%2F11%2F18%2F11420.jpg&type=ofullfill264_180_gray&expire=2&refresh=true', 'https://search.pstatic.net/common/?src=https%3A%2F%2Fimgnews.pstatic.net%2Fimage%2Forigin%2F5038%2F2021%2F11%2F18%2F686830.jpg&type=ofullfill264_180_gray&expire=2&refresh=true', 'https://search.pstatic.net/common/?src=https%3A%2F%2Fimgnews.pstatic.net%2Fimage%2Forigin%2F5633%2F2021%2F11%2F18%2F18309.jpg&type=ofullfill264_180_gray&expire=2&refresh=true', 'https://search.pstatic.net/common/?src=https%3A%2F%2Fimgnews.pstatic.net%2Fimage%2Forigin%2F003%2F2021%2F11%2F18%2F10840899.jpg&type=ff264_180&expire=2&refresh=true', 'https://search.pstatic.net/common/?src=https%3A%2F%2Fimgnews.pstatic.net%2Fimage%2Forigin%2F5167%2F2021%2F11%2F19%2F139752.jpg&type=ff264_180&expire=2&refresh=true', 'https://search.pstatic.net/common/?src=https%3A%2F%2Fimgnews.pstatic.net%2Fimage%2Forigin%2F5078%2F2021%2F11%2F19%2F128964.jpg&type=ofullfill264_180_gray&expire=2&refresh=true', 'https://search.pstatic.net/common/?src=https%3A%2F%2Fimgnews.pstatic.net%2Fimage%2Forigin%2F5712%2F2021%2F11%2F18%2F114581.jpg&type=ofullfill264_180_gray&expire=2&refresh=true', 'https://search.pstatic.net/common/?src=https%3A%2F%2Fimgnews.pstatic.net%2Fimage%2Forigin%2F030%2F2021%2F11%2F18%2F2982815.jpg&type=ff264_180&expire=2&refresh=true', 'https://search.pstatic.net/common/?src=https%3A%2F%2Fimgnews.pstatic.net%2Fimage%2Forigin%2F028%2F2021%2F11%2F19%2F2568444.jpg&type=ff264_180&expire=2&refresh=true', 'https://search.pstatic.net/common/?src=https%3A%2F%2Fimgnews.pstatic.net%2Fimage%2Forigin%2F5329%2F2021%2F11%2F18%2F146435.jpg&type=ff264_180&expire=2&refresh=true'] [\"‘겨울왕국 2’, ‘알라딘’ 이후 2년 만에 돌아온 디즈니 뮤니컬 작품으로, ‘주토피아’, ‘모아나’, ‘코코’의 제작진이 뭉쳤다는 후문이다.영화 '엔칸토: 마법의 세계' 스틸. 사진 월트디즈니컴퍼니 코리아콜롬비아의...\", '경일대학교는 국내 4년제 대학 중 최초로 교육 서비스 강화 및 학업 성과 증진을 위해 아마존웹서비스(AWS) 클라우드로 전면 이전했다고 18일 밝혔다. 전체 IT 인프라스트럭처를 AWS로 이전한 경일대는 시스템의 신속한...', 'GS네오텍이 AWS ISV 파트너 패스 인증을 받았다. GS네오텍(대표 남기정)은 ‘AWS ISV\\xa0파트너 패스’를 인증했다고 18일 발표했다. 이번에\\xa0GS네오텍이 인증한\\xa0AWS ISV\\xa0파트너 패스는 비즈니스 운영 시 필요한...', \"교보정보통신은 글로벌 클라우드 선도기업인 아마존웹서비스(AWS)의 '어드밴스드 컨설팅 파트너' 자격을 획득했다고 18일 밝혔다. AWS 컨설팅 파트너는 AWS를 사용하고자 하는 고객을 대상으로 설계, 구축, 이관 및관리...\", '글로벌 3위 클라우드업체 구글 클라우드가 업계 1,2위 아마존웹서비스(AWS)와 마이크로소프트(MS)의 아성을... 구글은 최근 10%까지 점유율을 높이며 AWS와 MS를 바짝 뒤쫓고 있는 중이다. 올해 구글 클라우드의 1~3분기 매출...', '스마트제조혁신협회(회장 강철규)와 아마존웹서비스(Amazon Web Service, AWS)는 지난 11월 3일~4일 이틀에 걸쳐... 스마트제조혁신협회와\\xa0AWS의 세미나는\\xa0클라우드를 처음 시작해야 하는 제조기업과 솔루션기업 각각에게...', '아마존 웹 서비스(AWS)나 구글 클라우드 같은 경우 전체 기술이 오픈 소스 기반인 경우가 많은데, 오라클은... 그는 오라클이 경쟁사 대비 컴퓨팅을 위한 3배 더 나은 가격 성능을 갖췄고, AWS의 절반 가격으로 20배에 달하는...', '이미 아마존(AWS), 구글, 마이크로소프트(MS) 등의 IT업계에서는 클라우드 인프라에 컨테이너 개념을 도입해... 앞서 8월에는 AWS 클라우드에 5G 코어장비와 MEC 서비스를 동시에 수용하는 실증을 완료한 바 있다. 개방형...', '앞서 8월에는 AWS 클라우드에 5G 코어 장비와 MEC 서비스를 동시에 수용하는 실증을 완료한 바 있다. 이상헌 LG유플러스 네트워크(NW)선행개발담당은 “차세대 네트워크 클라우드 핵심기술인 컨테이너 기술을 통해...', '콜레트 크레스 엔비디아 최고재무책임자(CFO)는 \"아마존웹서비스(AWS), 마이크로소프트(MS) 애저, 구글 클라우드 등 클라우드 업계 \\'큰 손\\' 고객들과의 GPU 거래가 성장을 이끌었다\"고 밝혔다. 이번 엔비디아의 호실적은...', '기상청 지역별상세관측자료(AWS)에 따르면 이날 오전 6시20분 기준 주요 도시 기온은 Δ서울 11.3도 Δ인천 12.3도 Δ춘천 12.9도 Δ강릉 15도 Δ대전 7.2도 Δ청주 10.8도 Δ전주 8.1도 Δ광주 6.4도 Δ대구 4.8도 Δ부산 9.8도 Δ제주...', \"가수 임영웅이 디자인에 참여하며 품절 행보를 이어온 '임영웅 안경'이 홈쇼핑에서 재판매된다. 아이웨어... '임영웅 안경' 키싱하트의 앙코르 방송은 20일 토요일 오전 9시 21분 신세계TV 쇼핑을 통해 방송되며...\", \"임영웅이 디자인에 참여한 일명 '임영웅 안경'이 홈쇼핑에서 대박을 터뜨렸다. 이날 아이웨어 브랜드 키싱하트 측은 오는 20일 오전 신세계TV쇼핑에서 앙코르 방송을 진행한다고 밝혔다. 이번 방송은 14일 진행한...\", '이날 안경광학과는 올해 비정규프로그램으로 진행하고 있는 ‘시각장애인을 위한 시재활 교육 사업’을... 마산대학교는 시각장애인을 대상으로 하는 이번 시재활 교육 사업으로 안경광학과를 특화시키고 전문성을...', '▲ 산엔청복지관 노인·장애인 시력검사·안경 지원 [경남 위클리오늘=위종우 기자] 산엔청복지관은 굿아이안경콘택트 산청점과 함께 지역 장애인과 노인의 건강증진을 위해 시력 등 건강검진서비스를 실시한다고 18일...', '남보라가 안경을 착용하고 귀여운 외모를 자랑해 화제다. 18일 배우 남보라는 자신의 인스타그램 스토리를 통해 \"이틀 만에 집에서 나왔다 야호\"라는 글과 함께 근황을 담은 한 장의 인증 사진을 게재했다. 공개된 사진 속...', '및 안경 무료 지원 행사를 실시했다. (사진=밝은누리안과병원 제공) 대전 밝은누리안과병원이 올해도 대전시 초·중·고등학교 저소득층 청소년들에게 시력검사 및 안경 무료 지원 행사를 실시했다고 18일 밝혔다....', '이노티안경체인(대표 채경영)은 18일 \"춘해보건대학교(총장 김희진) 안경광학과(학과장 김봉환)가 지난 11월11일 춘해보건대학교에서 \\'산학협력에 대한 협약식\\'을 체결했다\"고 밝혔다. 이번 협약으로 이노티안경체인과...', '다비치안경은 수험생을 대상으로 안경, 콘택트렌즈를 할인해 주는 수험생 할인 이벤트를 진행한다고 18일 밝혔다. 수험생 할인 이벤트는 수능 당일인 18일부터 다음 달 31일까지 수험생 본인 대상으로 안경 20%를...', '유명 아이웨어브랜드 40개사, 국내 500여 안경원 참가 G.ECONOMY(지이코노미) 홍종락 기자 | 지난 11월 15일~16일... 500여 안경원이 참가해 상담 및 현장 계약을 진행했다. 이틀간 총 854건, 8억 3천만원 상당의 현장계약...', \"◇마산대 안경광학과, 시재활 교육사업 마무리 마산대학교 안경광학과는 2021학년도 비정규 프로그램으로 진행한 '시각장애인을 위한 시재활 교육 사업'을 성공적으로 마무리했다고 18일 밝혔다. 프로그램은 ▲사전 이론...\", '라라랜드 음악 제작진까지 의기투합해 기대를 더합니다. 20세기 초 프랑스의 가상 도시 블라제! 여기는 다양한 사건을 취재하는 미국 매거진 프렌치 디스패치입니다. 갑작스러운 편집장의 죽음에 최정예 저널리스트들이...', '특히 많은 이들의 인생 뮤지컬 영화로 손꼽히고 있는 ‘라라랜드’, ‘위대한 쇼맨’의 음악 제작진이... 영화 ‘프렌치 디스패치’는 ‘그랜드 부다페스트 호텔’, ‘문라이즈 킹덤’, ‘개들의 섬’ 등의 작품을 통해...', \"현재 시즌은 '신과 함께1, 2' '오케이 마담' '베놈' '라라랜드' '너의 이름은' '날씨의 아이' 'S.W.A.T' '닥터후' '굿닥터' '미란다' '치아문단순적소미호' 등 국내외 인기 콘텐츠를 서비스 중이다. 이 외에 '거침없이 하이킥...\", '전자랜드도 이달 22일까지 100만원 이상의 조립PC를 구매하면 250GB의 SSD를 500GB로 무상 업그레이드해주는... 현대백화점 신촌점은 오는 28일까지 수험표를 지참하면 컨버스, 닥터마틴 등 10여개 브랜드에서 최대 30% 할인...', '우.동.책의 두 번째 프로젝트는 ‘김포, 책 읽는 마을’이라는 기치를 내걸고 김포의 랜드마크 수로 상가 라베니체에서 열린 플리마켓에 참여한 것이었습니다. 책방마다 개성 있는 큐레이션을 선보이며 작은 책방들이...', 'Y 수능 페스타에 함께하는 브랜드는 KT를 비롯해 ▲에뛰드 ▲브랜디 ▲하이버 ▲AWA전시회(그라운드시소)... 브랜드의 쿠폰을 주는 프로모션으로 선착순으로 6063명에게 혜택을 제공한다. Y 수능 페스타의 쿠폰은 수능 후...'] ['2021.11.19', '2021.11.19', '2021.11.19', '2021.11.19', '2021.11.19', '2021.11.19', '2021.11.19', '2021.11.19', '2021.11.19', '2021.11.19', '2021.11.19', '2021.11.19', '2021.11.19', '2021.11.19', '2021.11.19', '2021.11.19', '2021.11.19', '2021.11.19', '2021.11.19', '2021.11.19', '2021.11.19', '2021.11.19', '2021.11.19', '2021.11.19', '2021.11.19', '2021.11.19', '2021.11.19'] ['주토피아', 'AWS', 'AWS', 'AWS', 'AWS', 'AWS', 'AWS', 'AWS', 'AWS', 'AWS', 'AWS', '안경', '안경', '안경', '안경', '안경', '안경', '안경', '안경', '안경', '안경', '라라랜드', '라라랜드', '라라랜드', '라라랜드', '라라랜드', '라라랜드']\n"
     ]
    }
   ],
   "source": [
    "print(title_list, url_list, comp_list, thumbnail_list, text_list, day_list, keyword_list)"
   ]
  },
  {
   "cell_type": "code",
   "execution_count": 8,
   "id": "1f20c2d5-638e-4c71-9055-556b039bbb63",
   "metadata": {},
   "outputs": [],
   "source": [
    "info = {'제목':title_list, 'url':url_list, '언론사':comp_list, '썸네일':thumbnail_list, '내용':text_list, '수집 날짜':day_list, '키워드':keyword_list}\n",
    "# 위의 list들을 dictionary꼴로 저장한다."
   ]
  },
  {
   "cell_type": "code",
   "execution_count": 9,
   "id": "d8d12abf-464c-4285-9f30-4153eeb4820f",
   "metadata": {},
   "outputs": [
    {
     "data": {
      "text/plain": [
       "{'제목': ['[리뷰] ‘엔칸토: 마법의 세계’ 당신과 함께한다는 기적의 아름다움',\n",
       "  \"경일대, 교육서비스 강화…'AWS 클라우드'로 전면 이전\",\n",
       "  'GS네오텍,\\xa0AWS ISV\\xa0파트너 패스 인증',\n",
       "  \"교보정보통신, 아마존웹서비스(AWS) '어드밴스드 컨설팅 파트너' 등급 획득\",\n",
       "  '글로벌 3위 클라우드社 구글 \"AWS‧MS 잡는다\"',\n",
       "  \"스마트제조혁신협회-AWS,\\xa0'처음부터 시작하는 제조 디지털 혁신'\\xa0세미나 성...\",\n",
       "  \"가치 있는 기업 데이터, '데이터 메쉬'로 관리한다\",\n",
       "  'LGU+, 국내 최초 클라우드 백본 장비 실증…유연성·안정성 확보',\n",
       "  'LG U+·드라이브넷, 클라우드 백본 장비 실증 완료',\n",
       "  \"엔비디아 3분기 매출 50％↑…기대 상회 '깜짝 실적'\",\n",
       "  \"내륙에 짙은 안개 '차량운행 주의'…아침 서울 11도 등 포근\",\n",
       "  \"'갓영웅' 임영웅 안경, 홈쇼핑 주문 폭주…앙코르 진행\",\n",
       "  '\"지금은 영웅시대\"…임영웅, 음원부터 안경까지 \\'대박 행진\\'',\n",
       "  '[마산대 소식] 치위생·치기공·안경공학과, 다채로운 업무 행사 열려',\n",
       "  '산엔청복지관 노인·장애인 시력검사·안경 지원',\n",
       "  '남보라, 똘망똘망 모범생 느낌..안경 써도 굴욕 없는 외모',\n",
       "  '밝은누리안과병원, 무료 진료·안경 지원 의료 나눔 실천',\n",
       "  '(주) 이노티안경체인, \"춘해보건대학교 안경광학과와 MOU체결\"',\n",
       "  '다비치안경, 수험생·가족 대상 아이웨어 할인 이벤트 진행',\n",
       "  \"대구시, '찾아가는 디옵스(DIOPS in Seoul)’ 성공적 마무리\",\n",
       "  '[교육소식] 창원대, 제조메타버스 플랫폼 특강 등',\n",
       "  '[주말극장가]-장르만 로맨스 외',\n",
       "  '[이번 주 뭘볼까] ‘장르만 로맨스’-‘디어 에반 핸슨’-‘프렌치 디스패치’...',\n",
       "  \"[창간인터뷰 ⑥] '크라임퍼즐'→'소년비행' 시즌, 스튜디오지니와 시너지 기대\",\n",
       "  \"50만 수험생 공략…유통가 '포스트 수능' 마케팅\",\n",
       "  '김포, 책 읽는 마을',\n",
       "  '[기획] \"수능 끝\" 올해도 수험표 마케팅…위로와 대목사이'],\n",
       " 'url': ['http://news.maxmovie.com/432430',\n",
       "  'http://www.newsis.com/view/?id=NISX20211118_0001655754&cID=10810&pID=10800',\n",
       "  'http://www.inews24.com/view/1424009',\n",
       "  'http://www.fnnews.com/news/202111181022027455',\n",
       "  'https://www.ebn.co.kr/news/view/1508681/?sc=Naver',\n",
       "  'http://www.itdaily.kr/news/articleView.html?idxno=205155',\n",
       "  'https://www.inven.co.kr/webzine/news/?news=265032',\n",
       "  'https://www.itbiznews.com/news/articleView.html?idxno=56001',\n",
       "  'https://biz.chosun.com/it-science/ict/2021/11/18/WFKRMAYOYNFZLO2E7TNRUQ5REE/?utm_source=naver&utm_medium=original&utm_campaign=biz',\n",
       "  'http://yna.kr/AKR20211118087800009?did=1195m',\n",
       "  'https://www.news1.kr/articles/?4497935',\n",
       "  'https://www.hankyung.com/entertainment/article/202111187181H',\n",
       "  'https://view.asiae.co.kr/article/2021111818263216417',\n",
       "  'https://www.pressian.com/pages/articles/2021111822225852519?utm_source=naver&utm_medium=search',\n",
       "  'http://www.weeklytoday.com/news/articleView.html?idxno=426904',\n",
       "  'http://biz.heraldcorp.com/view.php?ud=202111181148535226033_1',\n",
       "  'https://mdtoday.co.kr/news/view/1065606660400721',\n",
       "  'http://www.kdpress.co.kr/news/articleView.html?idxno=108446',\n",
       "  'http://www.enewstoday.co.kr/news/articleView.html?idxno=1527608',\n",
       "  'https://www.geconomy.co.kr/news/article.html?no=190282',\n",
       "  'http://www.newsis.com/view/?id=NISX20211118_0001656358&cID=10812&pID=10800',\n",
       "  'http://news.knn.co.kr/news/todaynews_read.asp?etime=2021111700044&userid=yyy&newsgubun=culture',\n",
       "  'http://news.maxmovie.com/432428',\n",
       "  'http://www.joynews24.com/view/1423151',\n",
       "  'http://www.etnews.com/20211118000174',\n",
       "  'https://www.hani.co.kr/arti/culture/book/1019938.html',\n",
       "  'http://www.sisafocus.co.kr/news/articleView.html?idxno=268634'],\n",
       " '언론사': ['맥스무비',\n",
       "  '뉴시스',\n",
       "  '아이뉴스24',\n",
       "  '파이낸셜뉴스',\n",
       "  'EBN',\n",
       "  '아이티데일리',\n",
       "  '인벤',\n",
       "  'IT비즈뉴스',\n",
       "  '조선비즈',\n",
       "  '연합뉴스',\n",
       "  '뉴스1',\n",
       "  '한국경제',\n",
       "  '아시아경제',\n",
       "  '프레시안',\n",
       "  '위클리오늘',\n",
       "  '헤럴드POP',\n",
       "  '메디컬투데이',\n",
       "  '데일리경제',\n",
       "  '이뉴스투데이',\n",
       "  '지이코노미',\n",
       "  '뉴시스',\n",
       "  'KNN',\n",
       "  '맥스무비',\n",
       "  '조이뉴스24',\n",
       "  '전자신문',\n",
       "  '한겨레',\n",
       "  '시사포커스'],\n",
       " '썸네일': ['https://search.pstatic.net/common/?src=https%3A%2F%2Fimgnews.pstatic.net%2Fimage%2Forigin%2F5078%2F2021%2F11%2F18%2F128962.jpg&type=ofullfill264_180_gray&expire=2&refresh=true',\n",
       "  'https://search.pstatic.net/common/?src=https%3A%2F%2Fimgnews.pstatic.net%2Fimage%2Forigin%2F003%2F2021%2F11%2F18%2F10839921.jpg&type=ff264_180&expire=2&refresh=true',\n",
       "  'https://search.pstatic.net/common/?src=https%3A%2F%2Fimgnews.pstatic.net%2Fimage%2Forigin%2F031%2F2021%2F11%2F18%2F637126.jpg&type=ff264_180&expire=2&refresh=true',\n",
       "  'https://search.pstatic.net/common/?src=https%3A%2F%2Fimgnews.pstatic.net%2Fimage%2Forigin%2F014%2F2021%2F11%2F18%2F4741776.jpg&type=ff264_180&expire=2&refresh=true',\n",
       "  'https://search.pstatic.net/common/?src=https%3A%2F%2Fimgnews.pstatic.net%2Fimage%2Forigin%2F5093%2F2021%2F11%2F18%2F486516.jpg&type=ff264_180&expire=2&refresh=true',\n",
       "  'https://search.pstatic.net/common/?src=https%3A%2F%2Fimgnews.pstatic.net%2Fimage%2Forigin%2F5046%2F2021%2F11%2F18%2F88988.jpg&type=ofullfill264_180_gray&expire=2&refresh=true',\n",
       "  'https://search.pstatic.net/common/?src=https%3A%2F%2Fimgnews.pstatic.net%2Fimage%2Forigin%2F442%2F2021%2F11%2F18%2F142779.jpg&type=ff264_180&expire=2&refresh=true',\n",
       "  'https://search.pstatic.net/common/?src=https%3A%2F%2Fimgnews.pstatic.net%2Fimage%2Forigin%2F5795%2F2021%2F11%2F18%2F15088.jpg&type=ofullfill264_180_gray&expire=2&refresh=true',\n",
       "  'https://search.pstatic.net/common/?src=https%3A%2F%2Fimgnews.pstatic.net%2Fimage%2Forigin%2F366%2F2021%2F11%2F18%2F774842.jpg&type=ff264_180&expire=2&refresh=true',\n",
       "  'https://search.pstatic.net/common/?src=https%3A%2F%2Fimgnews.pstatic.net%2Fimage%2Forigin%2F001%2F2021%2F11%2F18%2F12802749.jpg&type=ff264_180&expire=2&refresh=true',\n",
       "  'https://search.pstatic.net/common/?src=https%3A%2F%2Fimgnews.pstatic.net%2Fimage%2Forigin%2F421%2F2021%2F11%2F19%2F5734654.jpg&type=ff264_180&expire=2&refresh=true',\n",
       "  'https://search.pstatic.net/common/?src=https%3A%2F%2Fimgnews.pstatic.net%2Fimage%2Forigin%2F015%2F2021%2F11%2F18%2F4629991.jpg&type=ff264_180&expire=2&refresh=true',\n",
       "  'https://search.pstatic.net/common/?src=https%3A%2F%2Fimgnews.pstatic.net%2Fimage%2Forigin%2F277%2F2021%2F11%2F18%2F5001939.jpg&type=ff264_180&expire=2&refresh=true',\n",
       "  'https://search.pstatic.net/common/?src=https%3A%2F%2Fimgnews.pstatic.net%2Fimage%2Forigin%2F002%2F2021%2F11%2F18%2F2219625.jpg&type=ff264_180&expire=2&refresh=true',\n",
       "  'https://search.pstatic.net/common/?src=https%3A%2F%2Fimgnews.pstatic.net%2Fimage%2Forigin%2F5294%2F2021%2F11%2F18%2F239728.jpg&type=ofullfill264_180_gray&expire=2&refresh=true',\n",
       "  'https://search.pstatic.net/common/?src=https%3A%2F%2Fimgnews.pstatic.net%2Fimage%2Forigin%2F112%2F2021%2F11%2F18%2F3499847.jpg&type=ff264_180&expire=2&refresh=true',\n",
       "  'https://search.pstatic.net/common/?src=https%3A%2F%2Fimgnews.pstatic.net%2Fimage%2Forigin%2F5269%2F2021%2F11%2F18%2F198478.jpg&type=ff264_180&expire=2&refresh=true',\n",
       "  'https://search.pstatic.net/common/?src=https%3A%2F%2Fimgnews.pstatic.net%2Fimage%2Forigin%2F5792%2F2021%2F11%2F18%2F11420.jpg&type=ofullfill264_180_gray&expire=2&refresh=true',\n",
       "  'https://search.pstatic.net/common/?src=https%3A%2F%2Fimgnews.pstatic.net%2Fimage%2Forigin%2F5038%2F2021%2F11%2F18%2F686830.jpg&type=ofullfill264_180_gray&expire=2&refresh=true',\n",
       "  'https://search.pstatic.net/common/?src=https%3A%2F%2Fimgnews.pstatic.net%2Fimage%2Forigin%2F5633%2F2021%2F11%2F18%2F18309.jpg&type=ofullfill264_180_gray&expire=2&refresh=true',\n",
       "  'https://search.pstatic.net/common/?src=https%3A%2F%2Fimgnews.pstatic.net%2Fimage%2Forigin%2F003%2F2021%2F11%2F18%2F10840899.jpg&type=ff264_180&expire=2&refresh=true',\n",
       "  'https://search.pstatic.net/common/?src=https%3A%2F%2Fimgnews.pstatic.net%2Fimage%2Forigin%2F5167%2F2021%2F11%2F19%2F139752.jpg&type=ff264_180&expire=2&refresh=true',\n",
       "  'https://search.pstatic.net/common/?src=https%3A%2F%2Fimgnews.pstatic.net%2Fimage%2Forigin%2F5078%2F2021%2F11%2F19%2F128964.jpg&type=ofullfill264_180_gray&expire=2&refresh=true',\n",
       "  'https://search.pstatic.net/common/?src=https%3A%2F%2Fimgnews.pstatic.net%2Fimage%2Forigin%2F5712%2F2021%2F11%2F18%2F114581.jpg&type=ofullfill264_180_gray&expire=2&refresh=true',\n",
       "  'https://search.pstatic.net/common/?src=https%3A%2F%2Fimgnews.pstatic.net%2Fimage%2Forigin%2F030%2F2021%2F11%2F18%2F2982815.jpg&type=ff264_180&expire=2&refresh=true',\n",
       "  'https://search.pstatic.net/common/?src=https%3A%2F%2Fimgnews.pstatic.net%2Fimage%2Forigin%2F028%2F2021%2F11%2F19%2F2568444.jpg&type=ff264_180&expire=2&refresh=true',\n",
       "  'https://search.pstatic.net/common/?src=https%3A%2F%2Fimgnews.pstatic.net%2Fimage%2Forigin%2F5329%2F2021%2F11%2F18%2F146435.jpg&type=ff264_180&expire=2&refresh=true'],\n",
       " '내용': [\"‘겨울왕국 2’, ‘알라딘’ 이후 2년 만에 돌아온 디즈니 뮤니컬 작품으로, ‘주토피아’, ‘모아나’, ‘코코’의 제작진이 뭉쳤다는 후문이다.영화 '엔칸토: 마법의 세계' 스틸. 사진 월트디즈니컴퍼니 코리아콜롬비아의...\",\n",
       "  '경일대학교는 국내 4년제 대학 중 최초로 교육 서비스 강화 및 학업 성과 증진을 위해 아마존웹서비스(AWS) 클라우드로 전면 이전했다고 18일 밝혔다. 전체 IT 인프라스트럭처를 AWS로 이전한 경일대는 시스템의 신속한...',\n",
       "  'GS네오텍이 AWS ISV 파트너 패스 인증을 받았다. GS네오텍(대표 남기정)은 ‘AWS ISV\\xa0파트너 패스’를 인증했다고 18일 발표했다. 이번에\\xa0GS네오텍이 인증한\\xa0AWS ISV\\xa0파트너 패스는 비즈니스 운영 시 필요한...',\n",
       "  \"교보정보통신은 글로벌 클라우드 선도기업인 아마존웹서비스(AWS)의 '어드밴스드 컨설팅 파트너' 자격을 획득했다고 18일 밝혔다. AWS 컨설팅 파트너는 AWS를 사용하고자 하는 고객을 대상으로 설계, 구축, 이관 및관리...\",\n",
       "  '글로벌 3위 클라우드업체 구글 클라우드가 업계 1,2위 아마존웹서비스(AWS)와 마이크로소프트(MS)의 아성을... 구글은 최근 10%까지 점유율을 높이며 AWS와 MS를 바짝 뒤쫓고 있는 중이다. 올해 구글 클라우드의 1~3분기 매출...',\n",
       "  '스마트제조혁신협회(회장 강철규)와 아마존웹서비스(Amazon Web Service, AWS)는 지난 11월 3일~4일 이틀에 걸쳐... 스마트제조혁신협회와\\xa0AWS의 세미나는\\xa0클라우드를 처음 시작해야 하는 제조기업과 솔루션기업 각각에게...',\n",
       "  '아마존 웹 서비스(AWS)나 구글 클라우드 같은 경우 전체 기술이 오픈 소스 기반인 경우가 많은데, 오라클은... 그는 오라클이 경쟁사 대비 컴퓨팅을 위한 3배 더 나은 가격 성능을 갖췄고, AWS의 절반 가격으로 20배에 달하는...',\n",
       "  '이미 아마존(AWS), 구글, 마이크로소프트(MS) 등의 IT업계에서는 클라우드 인프라에 컨테이너 개념을 도입해... 앞서 8월에는 AWS 클라우드에 5G 코어장비와 MEC 서비스를 동시에 수용하는 실증을 완료한 바 있다. 개방형...',\n",
       "  '앞서 8월에는 AWS 클라우드에 5G 코어 장비와 MEC 서비스를 동시에 수용하는 실증을 완료한 바 있다. 이상헌 LG유플러스 네트워크(NW)선행개발담당은 “차세대 네트워크 클라우드 핵심기술인 컨테이너 기술을 통해...',\n",
       "  '콜레트 크레스 엔비디아 최고재무책임자(CFO)는 \"아마존웹서비스(AWS), 마이크로소프트(MS) 애저, 구글 클라우드 등 클라우드 업계 \\'큰 손\\' 고객들과의 GPU 거래가 성장을 이끌었다\"고 밝혔다. 이번 엔비디아의 호실적은...',\n",
       "  '기상청 지역별상세관측자료(AWS)에 따르면 이날 오전 6시20분 기준 주요 도시 기온은 Δ서울 11.3도 Δ인천 12.3도 Δ춘천 12.9도 Δ강릉 15도 Δ대전 7.2도 Δ청주 10.8도 Δ전주 8.1도 Δ광주 6.4도 Δ대구 4.8도 Δ부산 9.8도 Δ제주...',\n",
       "  \"가수 임영웅이 디자인에 참여하며 품절 행보를 이어온 '임영웅 안경'이 홈쇼핑에서 재판매된다. 아이웨어... '임영웅 안경' 키싱하트의 앙코르 방송은 20일 토요일 오전 9시 21분 신세계TV 쇼핑을 통해 방송되며...\",\n",
       "  \"임영웅이 디자인에 참여한 일명 '임영웅 안경'이 홈쇼핑에서 대박을 터뜨렸다. 이날 아이웨어 브랜드 키싱하트 측은 오는 20일 오전 신세계TV쇼핑에서 앙코르 방송을 진행한다고 밝혔다. 이번 방송은 14일 진행한...\",\n",
       "  '이날 안경광학과는 올해 비정규프로그램으로 진행하고 있는 ‘시각장애인을 위한 시재활 교육 사업’을... 마산대학교는 시각장애인을 대상으로 하는 이번 시재활 교육 사업으로 안경광학과를 특화시키고 전문성을...',\n",
       "  '▲ 산엔청복지관 노인·장애인 시력검사·안경 지원 [경남 위클리오늘=위종우 기자] 산엔청복지관은 굿아이안경콘택트 산청점과 함께 지역 장애인과 노인의 건강증진을 위해 시력 등 건강검진서비스를 실시한다고 18일...',\n",
       "  '남보라가 안경을 착용하고 귀여운 외모를 자랑해 화제다. 18일 배우 남보라는 자신의 인스타그램 스토리를 통해 \"이틀 만에 집에서 나왔다 야호\"라는 글과 함께 근황을 담은 한 장의 인증 사진을 게재했다. 공개된 사진 속...',\n",
       "  '및 안경 무료 지원 행사를 실시했다. (사진=밝은누리안과병원 제공) 대전 밝은누리안과병원이 올해도 대전시 초·중·고등학교 저소득층 청소년들에게 시력검사 및 안경 무료 지원 행사를 실시했다고 18일 밝혔다....',\n",
       "  '이노티안경체인(대표 채경영)은 18일 \"춘해보건대학교(총장 김희진) 안경광학과(학과장 김봉환)가 지난 11월11일 춘해보건대학교에서 \\'산학협력에 대한 협약식\\'을 체결했다\"고 밝혔다. 이번 협약으로 이노티안경체인과...',\n",
       "  '다비치안경은 수험생을 대상으로 안경, 콘택트렌즈를 할인해 주는 수험생 할인 이벤트를 진행한다고 18일 밝혔다. 수험생 할인 이벤트는 수능 당일인 18일부터 다음 달 31일까지 수험생 본인 대상으로 안경 20%를...',\n",
       "  '유명 아이웨어브랜드 40개사, 국내 500여 안경원 참가 G.ECONOMY(지이코노미) 홍종락 기자 | 지난 11월 15일~16일... 500여 안경원이 참가해 상담 및 현장 계약을 진행했다. 이틀간 총 854건, 8억 3천만원 상당의 현장계약...',\n",
       "  \"◇마산대 안경광학과, 시재활 교육사업 마무리 마산대학교 안경광학과는 2021학년도 비정규 프로그램으로 진행한 '시각장애인을 위한 시재활 교육 사업'을 성공적으로 마무리했다고 18일 밝혔다. 프로그램은 ▲사전 이론...\",\n",
       "  '라라랜드 음악 제작진까지 의기투합해 기대를 더합니다. 20세기 초 프랑스의 가상 도시 블라제! 여기는 다양한 사건을 취재하는 미국 매거진 프렌치 디스패치입니다. 갑작스러운 편집장의 죽음에 최정예 저널리스트들이...',\n",
       "  '특히 많은 이들의 인생 뮤지컬 영화로 손꼽히고 있는 ‘라라랜드’, ‘위대한 쇼맨’의 음악 제작진이... 영화 ‘프렌치 디스패치’는 ‘그랜드 부다페스트 호텔’, ‘문라이즈 킹덤’, ‘개들의 섬’ 등의 작품을 통해...',\n",
       "  \"현재 시즌은 '신과 함께1, 2' '오케이 마담' '베놈' '라라랜드' '너의 이름은' '날씨의 아이' 'S.W.A.T' '닥터후' '굿닥터' '미란다' '치아문단순적소미호' 등 국내외 인기 콘텐츠를 서비스 중이다. 이 외에 '거침없이 하이킥...\",\n",
       "  '전자랜드도 이달 22일까지 100만원 이상의 조립PC를 구매하면 250GB의 SSD를 500GB로 무상 업그레이드해주는... 현대백화점 신촌점은 오는 28일까지 수험표를 지참하면 컨버스, 닥터마틴 등 10여개 브랜드에서 최대 30% 할인...',\n",
       "  '우.동.책의 두 번째 프로젝트는 ‘김포, 책 읽는 마을’이라는 기치를 내걸고 김포의 랜드마크 수로 상가 라베니체에서 열린 플리마켓에 참여한 것이었습니다. 책방마다 개성 있는 큐레이션을 선보이며 작은 책방들이...',\n",
       "  'Y 수능 페스타에 함께하는 브랜드는 KT를 비롯해 ▲에뛰드 ▲브랜디 ▲하이버 ▲AWA전시회(그라운드시소)... 브랜드의 쿠폰을 주는 프로모션으로 선착순으로 6063명에게 혜택을 제공한다. Y 수능 페스타의 쿠폰은 수능 후...'],\n",
       " '수집 날짜': ['2021.11.19',\n",
       "  '2021.11.19',\n",
       "  '2021.11.19',\n",
       "  '2021.11.19',\n",
       "  '2021.11.19',\n",
       "  '2021.11.19',\n",
       "  '2021.11.19',\n",
       "  '2021.11.19',\n",
       "  '2021.11.19',\n",
       "  '2021.11.19',\n",
       "  '2021.11.19',\n",
       "  '2021.11.19',\n",
       "  '2021.11.19',\n",
       "  '2021.11.19',\n",
       "  '2021.11.19',\n",
       "  '2021.11.19',\n",
       "  '2021.11.19',\n",
       "  '2021.11.19',\n",
       "  '2021.11.19',\n",
       "  '2021.11.19',\n",
       "  '2021.11.19',\n",
       "  '2021.11.19',\n",
       "  '2021.11.19',\n",
       "  '2021.11.19',\n",
       "  '2021.11.19',\n",
       "  '2021.11.19',\n",
       "  '2021.11.19'],\n",
       " '키워드': ['주토피아',\n",
       "  'AWS',\n",
       "  'AWS',\n",
       "  'AWS',\n",
       "  'AWS',\n",
       "  'AWS',\n",
       "  'AWS',\n",
       "  'AWS',\n",
       "  'AWS',\n",
       "  'AWS',\n",
       "  'AWS',\n",
       "  '안경',\n",
       "  '안경',\n",
       "  '안경',\n",
       "  '안경',\n",
       "  '안경',\n",
       "  '안경',\n",
       "  '안경',\n",
       "  '안경',\n",
       "  '안경',\n",
       "  '안경',\n",
       "  '라라랜드',\n",
       "  '라라랜드',\n",
       "  '라라랜드',\n",
       "  '라라랜드',\n",
       "  '라라랜드',\n",
       "  '라라랜드']}"
      ]
     },
     "execution_count": 9,
     "metadata": {},
     "output_type": "execute_result"
    }
   ],
   "source": [
    "info"
   ]
  },
  {
   "cell_type": "code",
   "execution_count": 10,
   "id": "f86b9d5d-ad7b-495a-adf5-62276c864b69",
   "metadata": {},
   "outputs": [],
   "source": [
    "news = pd.DataFrame(info)\n",
    "# dictionary를 DataFrame꼴로 저장한다."
   ]
  },
  {
   "cell_type": "code",
   "execution_count": 11,
   "id": "5f125821-6c52-40c4-9adf-0668704565a1",
   "metadata": {},
   "outputs": [],
   "source": [
    "news = news.to_json(\"example1.json\", orient = 'table')\n",
    "# orient는 'records','index','split','table','values' 중 하나로 결정 가능하다."
   ]
  },
  {
   "cell_type": "code",
   "execution_count": null,
   "id": "96120826-ec57-4b77-a1a8-6b1fd24df951",
   "metadata": {},
   "outputs": [],
   "source": []
  }
 ],
 "metadata": {
  "kernelspec": {
   "display_name": "mongta",
   "language": "python",
   "name": "mongta"
  },
  "language_info": {
   "codemirror_mode": {
    "name": "ipython",
    "version": 3
   },
   "file_extension": ".py",
   "mimetype": "text/x-python",
   "name": "python",
   "nbconvert_exporter": "python",
   "pygments_lexer": "ipython3",
   "version": "3.8.12"
  }
 },
 "nbformat": 4,
 "nbformat_minor": 5
}
