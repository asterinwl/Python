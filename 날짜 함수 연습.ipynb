{
 "cells": [
  {
   "cell_type": "code",
   "execution_count": 1,
   "id": "e09e6e42-d88c-40e1-821c-4d113935abf3",
   "metadata": {},
   "outputs": [
    {
     "name": "stdout",
     "output_type": "stream",
     "text": [
      "2021-11-18 10:11:39.075592\n"
     ]
    }
   ],
   "source": [
    "import datetime\n",
    "now = datetime.datetime.now()\n",
    "print(now)\n"
   ]
  },
  {
   "cell_type": "code",
   "execution_count": 2,
   "id": "2bf63268-e10a-4b33-b686-c451a3ca4926",
   "metadata": {},
   "outputs": [
    {
     "name": "stdout",
     "output_type": "stream",
     "text": [
      "2021.11.18.10.11\n"
     ]
    }
   ],
   "source": [
    "import time\n",
    "now = time.localtime()\n",
    "print(\"%04d.%02d.%02d.%02d.%02d\" % (now.tm_year, now.tm_mon, now.tm_mday, now.tm_hour, now.tm_min))"
   ]
  },
  {
   "cell_type": "code",
   "execution_count": 3,
   "id": "7c768a01-9ebd-4cba-9b6c-5eb3476c35ab",
   "metadata": {},
   "outputs": [
    {
     "name": "stdout",
     "output_type": "stream",
     "text": [
      "2021.11.17.10.11\n"
     ]
    }
   ],
   "source": [
    "import time\n",
    "now = time.localtime()\n",
    "print(\"%04d.%02d.%02d.%02d.%02d\" % (now.tm_year, now.tm_mon, now.tm_mday-1, now.tm_hour, now.tm_min))"
   ]
  },
  {
   "cell_type": "code",
   "execution_count": 4,
   "id": "59eeb164-f01a-4fb5-ba30-c1b15a1154a1",
   "metadata": {},
   "outputs": [
    {
     "name": "stdout",
     "output_type": "stream",
     "text": [
      "2021-11-18 10:11:40.365081\n",
      "2021-11-18\n",
      "10:11:40\n",
      "2021-11-18 10:11:40\n"
     ]
    }
   ],
   "source": [
    "import datetime\n",
    " \n",
    "now = datetime.datetime.now()\n",
    "print(now)          # 2015-04-19 12:11:32.669083\n",
    " \n",
    "nowDate = now.strftime('%Y-%m-%d')\n",
    "print(nowDate)      # 2015-04-19\n",
    " \n",
    "nowTime = now.strftime('%H:%M:%S')\n",
    "print(nowTime)      # 12:11:32\n",
    " \n",
    "nowDatetime = now.strftime('%Y-%m-%d %H:%M:%S')\n",
    "print(nowDatetime)  # 2015-04-19 12:11:32"
   ]
  },
  {
   "cell_type": "code",
   "execution_count": 5,
   "id": "568812ba-00c1-462c-9a70-da54cc4f3dc5",
   "metadata": {},
   "outputs": [
    {
     "name": "stdout",
     "output_type": "stream",
     "text": [
      "2021.11.18.10.11\n"
     ]
    }
   ],
   "source": [
    "import datetime\n",
    "nowDatetime = now.strftime('%Y.%m.%d.%H.%M')\n",
    "print(nowDatetime)  # 2015-04-19 12:11:32"
   ]
  },
  {
   "cell_type": "code",
   "execution_count": 6,
   "id": "d57f462f-af94-4711-a770-cd96580b0ccd",
   "metadata": {},
   "outputs": [
    {
     "data": {
      "text/plain": [
       "str"
      ]
     },
     "execution_count": 6,
     "metadata": {},
     "output_type": "execute_result"
    }
   ],
   "source": [
    "type(nowDatetime)"
   ]
  },
  {
   "cell_type": "code",
   "execution_count": 7,
   "id": "acaa1482-e5e5-48cf-98e8-7d1e25f70c17",
   "metadata": {},
   "outputs": [
    {
     "name": "stdout",
     "output_type": "stream",
     "text": [
      "2021.11.17.10.11\n"
     ]
    }
   ],
   "source": [
    "from datetime import datetime, timedelta\n",
    "deforeDatetime = now - timedelta(days=1)\n",
    "deforeDatetime = deforeDatetime.strftime('%Y.%m.%d.%H.%M')\n",
    "print(deforeDatetime)  # 2015-04-19 12:11:32"
   ]
  }
 ],
 "metadata": {
  "kernelspec": {
   "display_name": "mongta",
   "language": "python",
   "name": "mongta"
  },
  "language_info": {
   "codemirror_mode": {
    "name": "ipython",
    "version": 3
   },
   "file_extension": ".py",
   "mimetype": "text/x-python",
   "name": "python",
   "nbconvert_exporter": "python",
   "pygments_lexer": "ipython3",
   "version": "3.8.12"
  }
 },
 "nbformat": 4,
 "nbformat_minor": 5
}
