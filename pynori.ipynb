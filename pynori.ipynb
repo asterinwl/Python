{
 "cells": [
  {
   "cell_type": "code",
   "execution_count": 2,
   "id": "908ceea0-78e6-46c5-a4e1-b0d8b642724d",
   "metadata": {},
   "outputs": [
    {
     "name": "stdout",
     "output_type": "stream",
     "text": [
      "{'termAtt': ['아빠', '가', '방', '에', '들어가', '시', 'ᆫ다'], 'offsetAtt': [(0, 2), (2, 3), (4, 5), (5, 6), (7, 10), (10, 12), (10, 12)], 'posLengthAtt': [1, 1, 1, 1, 1, 1, 1], 'posTypeAtt': ['MORP', 'MORP', 'MORP', 'MORP', 'MORP', 'MORP', 'MORP'], 'posTagAtt': ['NNG', 'JKS', 'NNG', 'JKB', 'VV', 'EP', 'EF'], 'dictTypeAtt': ['KN', 'KN', 'KN', 'KN', 'KN', 'KN', 'KN']}\n"
     ]
    }
   ],
   "source": [
    "from pynori.korean_analyzer import KoreanAnalyzer\n",
    "nori = KoreanAnalyzer(\n",
    "           decompound_mode='DISCARD', # DISCARD or MIXED or NONE\n",
    "           infl_decompound_mode='DISCARD', # DISCARD or MIXED or NONE\n",
    "           discard_punctuation=True,\n",
    "           output_unknown_unigrams=False,\n",
    "           pos_filter=False, stop_tags=['JKS', 'JKB', 'VV', 'EF'],\n",
    "           synonym_filter=False, mode_synonym='NORM', # NORM or EXTENSION\n",
    "       ) \n",
    "\n",
    "print(nori.do_analysis(\"아빠가 방에 들어가신다.\"))"
   ]
  },
  {
   "cell_type": "code",
   "execution_count": 29,
   "id": "2d97c181-0777-4def-9721-078464d4629d",
   "metadata": {},
   "outputs": [
    {
     "name": "stdout",
     "output_type": "stream",
     "text": [
      "{'termAtt': ['미디어', '연합', '뉴스', '기사', '광고', '포털', '제재', '국민', '권리', '침'], 'offsetAtt': [(1, 4), (11, 13), (13, 15), (16, 18), (20, 22), (23, 25), (26, 28), (29, 31), (33, 35), (36, 37)], 'posLengthAtt': [1, 1, 1, 1, 1, 1, 1, 1, 1, 1], 'posTypeAtt': ['MORP', 'MORP', 'MORP', 'MORP', 'MORP', 'MORP', 'MORP', 'MORP', 'MORP', 'MORP'], 'posTagAtt': ['NNG', 'NNG', 'NNG', 'NNG', 'NNG', 'NNP', 'NNG', 'NNG', 'NNG', 'NNG'], 'dictTypeAtt': ['KN', 'KN', 'KN', 'KN', 'KN', 'KN', 'KN', 'KN', 'KN', 'KN']}\n"
     ]
    }
   ],
   "source": [
    "# 명사만 뽑는 분석기 만들기\n",
    "# 엘라스틱 서치의 노리를 파이썬과 결합해 만든 pynori를 사용\n",
    "\n",
    "from pynori.korean_analyzer import KoreanAnalyzer\n",
    "nori = KoreanAnalyzer(\n",
    "           decompound_mode='DISCARD', # DISCARD or MIXED or NONE\n",
    "           infl_decompound_mode='DISCARD', # DISCARD or MIXED or NONE\n",
    "           discard_punctuation=True,\n",
    "           output_unknown_unigrams=False,\n",
    "           pos_filter=True, stop_tags=['JKS',\n",
    "                                       'JKB',\n",
    "                                       'VV',\n",
    "                                       'EF',\n",
    "                                       'EP',\n",
    "                                       'JX',\n",
    "                                       'VA',\n",
    "                                       'ETM',\n",
    "                                       'VCP',\n",
    "                                       \"E\",\n",
    "                                      \"IC\",\n",
    "                                      \"J\",\n",
    "                                      \"MAG\",\n",
    "                                      \"MAJ\",\n",
    "                                      \"MM\",\n",
    "                                      \"NR\",\n",
    "                                      \"NA\",\n",
    "                                      \"SC\",\n",
    "                                      \"SE\",\n",
    "                                      \"SF\",\n",
    "                                      \"SH\",\n",
    "                                      \"SN\",\n",
    "                                      \"SP\",\n",
    "                                      \"SSC\",\n",
    "                                      \"SSO\",\n",
    "                                      \"SY\",\n",
    "                                      \"UNA\",\n",
    "                                      \"UNKNOWN\",\n",
    "                                      \"VA\",\n",
    "                                      \"VCN\",\n",
    "                                      \"VCP\",\n",
    "                                      \"VSV\",\n",
    "                                      \"VV\",\n",
    "                                      \"VX\",\n",
    "                                      \"XPN\",\n",
    "                                      \"XR\",\n",
    "                                      \"XSA\",\n",
    "                                      \"XSN\",\n",
    "                                      \"XSV\",\n",
    "                                      \"NNB\",\n",
    "                                      \"NNBC\",\n",
    "                                      \"EC\",\n",
    "                                      \"JKO\",\n",
    "                                      \"NP\"\n",
    "                                      ],\n",
    "           synonym_filter=False, mode_synonym='NORM', # NORM or EXTENSION\n",
    "       ) \n",
    "\n",
    "# print(nori.do_analysis(\"아빠가 방에 들어가신다.\"))\n",
    "# print(nori.do_analysis(\"김민형은 엄청난 개발자이다. wow\"))\n",
    "# print(nori.do_analysis(\"우리 가족은 총 5명으로 구성되어 있습니다.\"))\n",
    "# print(nori.do_analysis(\"어제 저는 공부를 했습니다. 오늘은, 제가 과자를 먹었습니다. 내일은 아마도? 잠을 자겠죠? !!\"))\n",
    "# print(nori.do_analysis(\"[사설] ‘기사형 광고’ 제재가 “국민 알권리 제약”이라는 연합뉴스\"))\n",
    "print(nori.do_analysis(\"[미디어 오물오물] 연합뉴스 기사형 광고 포털 제재 국민 알권리 침해?\"))"
   ]
  },
  {
   "cell_type": "code",
   "execution_count": 42,
   "id": "c193ea31-12f1-40e9-8d47-a83d459a44cd",
   "metadata": {},
   "outputs": [
    {
     "name": "stdout",
     "output_type": "stream",
     "text": [
      "아빠\n"
     ]
    }
   ],
   "source": [
    "print(nori.do_analysis(\"아빠가 방에 들어가신다.\")['termAtt'][0])"
   ]
  },
  {
   "cell_type": "code",
   "execution_count": 31,
   "id": "72102cb9-7193-4e0b-9bb6-7e2254841b5e",
   "metadata": {},
   "outputs": [
    {
     "name": "stdout",
     "output_type": "stream",
     "text": [
      "['김민형', '개발', '자', 'wow']\n"
     ]
    }
   ],
   "source": [
    "print(nori.do_analysis(\"김민형은 엄청난 개발자이다. wow\")['termAtt'])"
   ]
  },
  {
   "cell_type": "code",
   "execution_count": 43,
   "id": "05b06ca3-2b00-4931-b35e-bbdf32c9b7d3",
   "metadata": {},
   "outputs": [
    {
     "name": "stdout",
     "output_type": "stream",
     "text": [
      "['NNP', 'NNG', 'NNG', 'SL']\n"
     ]
    }
   ],
   "source": [
    "print(nori.do_analysis(\"김민형은 엄청난 개발자이다. wow\")['posTagAtt'])"
   ]
  },
  {
   "cell_type": "code",
   "execution_count": 34,
   "id": "ad285b28-a298-4d74-bf31-2c7aa967ac7c",
   "metadata": {},
   "outputs": [],
   "source": [
    "a=\"김민형은 천재다.\"\n",
    "b=\"김민형은 개발자이다.\"\n",
    "c=\"김민형은 천재 개발자이다\"\n",
    "d=a+b+c"
   ]
  },
  {
   "cell_type": "code",
   "execution_count": 36,
   "id": "631e8936-4152-402b-bff6-102a3012f48d",
   "metadata": {},
   "outputs": [
    {
     "name": "stdout",
     "output_type": "stream",
     "text": [
      "['김민형', '천재', '김민형', '개발', '자', '김민형', '천재', '개발', '자']\n"
     ]
    }
   ],
   "source": [
    "print(nori.do_analysis(d)['termAtt'])"
   ]
  },
  {
   "cell_type": "code",
   "execution_count": 39,
   "id": "b4ed4211-cdcd-4687-bd47-533022ab3a1b",
   "metadata": {},
   "outputs": [],
   "source": [
    "title=[[\"a,b\"],[\"b\",\"d\"],[\"c\",\"5\"]]"
   ]
  },
  {
   "cell_type": "markdown",
   "id": "19376555-b978-4a73-afde-6e98fcae2fbe",
   "metadata": {},
   "source": [
    "## `https://github.com/gritmind/python-nori` 참고"
   ]
  }
 ],
 "metadata": {
  "kernelspec": {
   "display_name": "mongta",
   "language": "python",
   "name": "mongta"
  },
  "language_info": {
   "codemirror_mode": {
    "name": "ipython",
    "version": 3
   },
   "file_extension": ".py",
   "mimetype": "text/x-python",
   "name": "python",
   "nbconvert_exporter": "python",
   "pygments_lexer": "ipython3",
   "version": "3.8.12"
  }
 },
 "nbformat": 4,
 "nbformat_minor": 5
}
