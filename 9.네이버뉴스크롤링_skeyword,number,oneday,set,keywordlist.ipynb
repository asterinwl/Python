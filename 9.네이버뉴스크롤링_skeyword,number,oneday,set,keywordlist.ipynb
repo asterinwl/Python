{
 "cells": [
  {
   "cell_type": "code",
   "execution_count": 1,
   "id": "db6eed67-fcd7-4beb-92f0-c44b49efc72a",
   "metadata": {},
   "outputs": [],
   "source": [
    "import requests\n",
    "from bs4 import BeautifulSoup\n",
    "import pandas as pd"
   ]
  },
  {
   "cell_type": "code",
   "execution_count": 2,
   "id": "b3382112-fe73-439e-98e0-2a8cf4d80969",
   "metadata": {},
   "outputs": [],
   "source": [
    "search=['주토피아','AWS']"
   ]
  },
  {
   "cell_type": "code",
   "execution_count": 3,
   "id": "048b85c3-4098-432e-8955-37d80e75bd77",
   "metadata": {},
   "outputs": [
    {
     "name": "stdout",
     "output_type": "stream",
     "text": [
      "['주토피아', 'AWS']\n"
     ]
    }
   ],
   "source": [
    "print(search)"
   ]
  },
  {
   "cell_type": "code",
   "execution_count": 4,
   "id": "bb1a1430-3c23-4854-bc8c-d728a7ff139b",
   "metadata": {},
   "outputs": [
    {
     "data": {
      "text/plain": [
       "'주토피아'"
      ]
     },
     "execution_count": 4,
     "metadata": {},
     "output_type": "execute_result"
    }
   ],
   "source": [
    "search[0]"
   ]
  },
  {
   "cell_type": "code",
   "execution_count": 5,
   "id": "33fe583f-a1f4-4d4c-8dc2-12f48d357f39",
   "metadata": {},
   "outputs": [
    {
     "data": {
      "text/plain": [
       "2"
      ]
     },
     "execution_count": 5,
     "metadata": {},
     "output_type": "execute_result"
    }
   ],
   "source": [
    "len(search)"
   ]
  },
  {
   "cell_type": "code",
   "execution_count": 6,
   "id": "3350fe36-9e87-4c80-817d-e79c7d02bf24",
   "metadata": {},
   "outputs": [
    {
     "name": "stdin",
     "output_type": "stream",
     "text": [
      "총 필요한 뉴스기사 수를 입력해주세요.(한 페이지 당 뉴스 10개 검색, 2선택시 20개 뉴스기사, 숫자만 검색) :  1\n"
     ]
    }
   ],
   "source": [
    "news_num = int(input('총 필요한 뉴스기사 수를 입력해주세요.(한 페이지 당 뉴스 10개 검색, 2선택시 20개 뉴스기사, 숫자만 검색) : '))"
   ]
  },
  {
   "cell_type": "code",
   "execution_count": 7,
   "id": "4cb56fc0-299c-444a-8e43-1c42a41603c1",
   "metadata": {},
   "outputs": [
    {
     "name": "stdout",
     "output_type": "stream",
     "text": [
      "2021.11.18.11.31\n",
      "2021.11.18\n"
     ]
    }
   ],
   "source": [
    "import datetime\n",
    "now = datetime.datetime.now()\n",
    "nowDatetime = now.strftime('%Y.%m.%d.%H.%M')\n",
    "nowDate = now.strftime('%Y.%m.%d')\n",
    "print(nowDatetime) \n",
    "print(nowDate)"
   ]
  },
  {
   "cell_type": "code",
   "execution_count": 8,
   "id": "4be5ae5e-861a-45f7-9db3-46d8d1b9603c",
   "metadata": {},
   "outputs": [
    {
     "name": "stdout",
     "output_type": "stream",
     "text": [
      "2021.11.17.11.31\n"
     ]
    }
   ],
   "source": [
    "from datetime import datetime, timedelta\n",
    "deforeDatetime = now - timedelta(days=1)\n",
    "deforeDatetime = deforeDatetime.strftime('%Y.%m.%d.%H.%M')\n",
    "print(deforeDatetime)  # 2015-04-19 12:11:32"
   ]
  },
  {
   "cell_type": "code",
   "execution_count": 13,
   "id": "4851ac0e-b2c4-4440-8836-b273e041cef6",
   "metadata": {},
   "outputs": [
    {
     "name": "stdout",
     "output_type": "stream",
     "text": [
      "디즈니+ 상륙에 국내 팬 환호...구독 '파티원' 구인글 봇물 http://www.edaily.co.kr/news/newspath.asp?newsid=04067206629246704&snapkey=71295, 이데일리 https://search.pstatic.net/common/?src=https%3A%2F%2Fimgnews.pstatic.net%2Fimage%2Forigin%2F018%2F2021%2F11%2F17%2F5088502.jpg&type=ff264_180&expire=2&refresh=true 현재 디즈니+에는 '라이온킹' '알라딘' '주토피아' '겨울왕국' 등 디즈니 콘텐츠와 픽사의 '토이스토리', '니모를 찾아서' 등 아이들이 즐겨 보는 애니메이션들이 포진돼 있다. 일각에서는 아쉬움도 나타냈다. 넷플릭스가... 2021.11.18\n",
      "일상에 지쳤다면 '엔칸토: 마법의 세계'로 떠나자 [마데핫리뷰] http://www.mydaily.co.kr/new_yk/html/read.php?newsid=202111171340865956&ext=na&utm_campaign=naver_news&utm_source=naver&utm_medium=related_news 마이데일리 https://search.pstatic.net/common/?src=https%3A%2F%2Fimgnews.pstatic.net%2Fimage%2Forigin%2F117%2F2021%2F11%2F18%2F3556422.jpg&type=ff264_180&expire=2&refresh=true '믿고 보는' 디즈니의 60번째 장편영화이자 '주토피아' 제작진이 5년 동안 제작한 '엔칸토'. 천혜의 자연환경을 지닌 콜롬비아에서 영감을 받은 자연과 마법의 세계라는 판타지의 조합은 기존에 어떤 영화에서도 볼 수... 2021.11.18\n",
      "라틴 음악과 어우러진 남미 천혜의 자연 속으로 https://www.donga.com/news/article/all/20211117/110302193/1 동아일보 https://search.pstatic.net/common/?src=https%3A%2F%2Fimgnews.pstatic.net%2Fimage%2Forigin%2F020%2F2021%2F11%2F18%2F3394372.jpg&type=ff264_180&expire=2&refresh=true ‘겨울왕국2’의 총괄 제작을 맡고 ‘주토피아’를 연출한 바이런 하워드가 감독인 데다 가족 이야기를 다루는 만큼 디즈니는 엔칸토가 ‘겨울왕국’ 시리즈의 신드롬을 이어갈 것으로 기대하고 있다. 콜롬비아의 비경을... 2021.11.18\n",
      "[스한초점②] '디어에반핸슨''프렌치디스패치''엔칸토', 11월 외화 '기대' https://sports.hankooki.com/lpage/entv/202111/sp20211118065552136680.htm?s_ref=nv 스포츠한국 https://search.pstatic.net/common/?src=https%3A%2F%2Fimgnews.pstatic.net%2Fimage%2Forigin%2F5359%2F2021%2F11%2F18%2F383898.jpg&type=ff264_180&expire=2&refresh=true 나오는 디즈니 뮤지컬로 전 세계 관객들의 폭발적인 기대를 받고 있다. '주토피아', '모아나', '코코' 제작진이 뭉쳐 만든 따뜻한 이야기, 환상적인 영상미, 흥겨운 음악으로 가족 관객들을 사로잡을 것으로 보인다. 스포츠한국 2021.11.18\n",
      "가끔 세상사는 뒤로, 나 자신에게 집중해야 http://www.psychiatricnews.net/news/articleView.html?idxno=32086 정신의학신문 https://search.pstatic.net/common/?src=https%3A%2F%2Fimgnews.pstatic.net%2Fimage%2Forigin%2F5473%2F2021%2F11%2F18%2F7273.jpg&type=ofullfill264_180_gray&expire=2&refresh=true 애니메이션 <주토피아 Zootopia>의 나무늘보를 떠올려보면 된다. 기뻐하는 것도 슬퍼하는 것도 남들보다 몇 박자씩 느렸다. 무슨 사건이 생기면 아내는 그 직후보다 시간이 조금 흐른 후의 내 표정과 반응을 살핀다. 나의... 2021.11.18\n",
      "[SR문화] \"디즈니가 디즈니 했다!\"...함연지 '엔칸토' 한국어 더빙·뮤직 포퍼... http://www.srtimes.kr/news/articleView.html?idxno=102922 SR타임스 https://search.pstatic.net/common/?src=https%3A%2F%2Fimgnews.pstatic.net%2Fimage%2Forigin%2F5589%2F2021%2F11%2F18%2F59144.jpg&type=ofullfill264_180_gray&expire=2&refresh=true '주토피아' '겨울왕국 2' 제작진의 놀라운 상상력을 담아낸 '엔칸토: 마법의 세계'는 특별한 능력을 가진 마드리갈 패밀리 중, 유일하게 평범한 주인공 '미라벨'이 마법이 사라질 위기에 처한 마을 '엔칸토'와 가족을... 2021.11.18\n",
      "경일대, 교육서비스 강화…'AWS 클라우드'로 전면 이전 http://www.newsis.com/view/?id=NISX20211118_0001655754&cID=10810&pID=10800 뉴시스 https://search.pstatic.net/common/?src=https%3A%2F%2Fimgnews.pstatic.net%2Fimage%2Forigin%2F003%2F2021%2F11%2F18%2F10839921.jpg&type=ff264_180&expire=2&refresh=true 경일대학교는 국내 4년제 대학 중 최초로 교육 서비스 강화 및 학업 성과 증진을 위해 아마존웹서비스(AWS) 클라우드로 전면 이전했다고 18일 밝혔다. 전체 IT 인프라스트럭처를 AWS로 이전한 경일대는 시스템의 신속한... 2021.11.18\n",
      "GS네오텍, 국내 최초 AWS ISV 파트너 패스 인증 https://zdnet.co.kr/view/?no=20211118102643 ZDNet Korea https://search.pstatic.net/common/?src=https%3A%2F%2Fimgnews.pstatic.net%2Fimage%2Forigin%2F092%2F2021%2F11%2F18%2F2239537.jpg&type=ff264_180&expire=2&refresh=true GS네오텍(지에스네오텍, 대표 남기정)이 국내 최초로 ‘AWS ISV 파트너 패스(Amazon Web Service Independent Solution Vendor Partners Path)’를 인증했다고 18일 밝혔다. 이번에 GS네오텍이 국내 최초로 인증한 AWS ISV 파트너... 2021.11.18\n",
      "교보정보통신, 아마존웹서비스(AWS) '어드밴스드 컨설팅 파트너' 등급 획득 http://www.fnnews.com/news/202111181022027455 파이낸셜뉴스 https://search.pstatic.net/common/?src=https%3A%2F%2Fimgnews.pstatic.net%2Fimage%2Forigin%2F014%2F2021%2F11%2F18%2F4741776.jpg&type=ff264_180&expire=2&refresh=true 교보정보통신은 글로벌 클라우드 선도기업인 아마존웹서비스(AWS)의 '어드밴스드 컨설팅 파트너' 자격을 획득했다고 18일 밝혔다. AWS 컨설팅 파트너는 AWS를 사용하고자 하는 고객을 대상으로 설계, 구축, 이관 및관리... 2021.11.18\n",
      "“클릭율 늘었다”…와디즈·무신사, AI 페이스 메이커 'AWS 효과' [IT돋보기... http://www.inews24.com/view/1423410 아이뉴스24 https://search.pstatic.net/common/?src=https%3A%2F%2Fimgnews.pstatic.net%2Fimage%2Forigin%2F031%2F2021%2F11%2F17%2F636640.jpg&type=ff264_180&expire=2&refresh=true “복잡한 인공지능(AI) 기술을 빠르게 적용해 클릭율 개선이라는 효과를 확인할 수 있었다.” 정인길 와디즈 플랫폼개발 이사는 17일 AWS ‘머신러닝(ML) 포 스타트업’ 미디어 브리핑에 나서 AWS 솔루션 도입 사례를... 2021.11.18\n",
      "글로벌 3위 클라우드社 구글 \"AWS‧MS 잡는다\" https://www.ebn.co.kr/news/view/1508681/?sc=Naver EBN https://search.pstatic.net/common/?src=https%3A%2F%2Fimgnews.pstatic.net%2Fimage%2Forigin%2F5093%2F2021%2F11%2F18%2F486516.jpg&type=ff264_180&expire=2&refresh=true 글로벌 3위 클라우드업체 구글 클라우드가 업계 1,2위 아마존웹서비스(AWS)와 마이크로소프트(MS)의 아성을... 구글은 최근 10%까지 점유율을 높이며 AWS와 MS를 바짝 뒤쫓고 있는 중이다. 올해 구글 클라우드의 1~3분기 매출... 2021.11.18\n",
      "무신사는 어떻게 '동대문 형들' 대체했나? http://www.bloter.net/newsView/blt202111170145 블로터 https://search.pstatic.net/common/?src=https%3A%2F%2Fimgnews.pstatic.net%2Fimage%2Forigin%2F293%2F2021%2F11%2F17%2F36987.jpg&type=ff264_180&expire=2&refresh=true 유환성 무신사 데이터솔루션팀장은 17일 아마존웹서비스(AWS)코리아가 온라인으로 진행한 미디어 브리핑에... AWS는 기업 자체적으로 도입하기 힘든 방대한 저장공간과 고성능 컴퓨터의 연산력을 빌려쓸 수 있도록 하는... 2021.11.18\n",
      "컴볼트 '인텔리전트 데이터 서비스', AWS 마켓플레이스 등록 http://www.itdaily.kr/news/articleView.html?idxno=205133 아이티데일리 https://search.pstatic.net/common/?src=https%3A%2F%2Fimgnews.pstatic.net%2Fimage%2Forigin%2F5046%2F2021%2F11%2F17%2F88968.jpg&type=ofullfill264_180_gray&expire=2&refresh=true 아마존웹서비스의 AWS 마켓플레이스에 등록됐다고 17일 밝혔다. 이번에 등록된 제품은 ▲'컴볼트 백업... 필수\"라며, \"AWS 마켓플레이스에 자사 백업 & 복구 및 재해 복구, 프로페셔널 서비스 솔루션을 출시해 AWS... 2021.11.18\n",
      "\"성장하는 스타트업은 AWS와 함께\"...와디즈·무신사, AWS와의 AI 도입 '성공... http://www.aitimes.com/news/articleView.html?idxno=141601 AI타임스 https://search.pstatic.net/common/?src=https%3A%2F%2Fimgnews.pstatic.net%2Fimage%2Forigin%2F5746%2F2021%2F11%2F18%2F82976.jpg&type=ofullfill264_180_gray&expire=2&refresh=true 와디즈와 무신사가 AI 도입에 AWS 도움이 컸다고 평가했다. (출처=셔터스톡, 편집=김동원 기자) \"아마존웹서비스(AWS)와 협업하면서 소수의 인공지능(AI) 개발자를 가진 스타트업에서도 AI 기술이 열려있다는 것을... 2021.11.18\n",
      "LGU+, 국내 최초 클라우드 백본 장비 실증…유연성·안정성 확보 https://www.itbiznews.com/news/articleView.html?idxno=56001 IT비즈뉴스 https://search.pstatic.net/common/?src=https%3A%2F%2Fimgnews.pstatic.net%2Fimage%2Forigin%2F5795%2F2021%2F11%2F18%2F15088.jpg&type=ofullfill264_180_gray&expire=2&refresh=true 이미 아마존(AWS), 구글, 마이크로소프트(MS) 등의 IT업계에서는 클라우드 인프라에 컨테이너 개념을 도입해... 앞서 8월에는 AWS 클라우드에 5G 코어장비와 MEC 서비스를 동시에 수용하는 실증을 완료한 바 있다. 개방형... 2021.11.18\n",
      "중국 ‘기술자립’ 속도… 비밀리에 '화이트리스트' 작성해 해외기업 대체중 https://www.ajunews.com/view/20211117112312859 아주경제 https://search.pstatic.net/common/?src=https%3A%2F%2Fimgnews.pstatic.net%2Fimage%2Forigin%2F5090%2F2021%2F11%2F17%2F2075140.jpg&type=ofullfill264_180_gray&expire=2&refresh=true 실제 중국은 최근 아마존웹서비스(AWS)와 마이크로소프트(MS) 등 해외 클라우드 서비스 기업들에 본토에서... 또 AMD는 룽신중커가, AWS와 팔로알토 네트웍스는 각각 알리바바와 치안신이 대체할 것이라고 전했다. ◆신촹... 2021.11.18\n"
     ]
    }
   ],
   "source": [
    "title_list = []\n",
    "url_list = []\n",
    "comp_list = []\n",
    "thumbnail_list = []\n",
    "text_list = []\n",
    "day_list = []\n",
    "keyword_list =[]\n",
    "\n",
    "\n",
    "for j in range(0,len(search)) :\n",
    "    response1 = 'https://search.naver.com/search.naver?where=news&sm=tab_jum&query='+ search[j]\n",
    "    response2= '&sort=0&photo=0&field=0&pd=4&ds=' + nowDatetime + '&de=' + deforeDatetime + '&cluster_rank=27&mynews=0&office_type=0&office_section_code=0&news_office_checked=&nso=so:r,p:1d,a:all&start='\n",
    "    postNum = 1\n",
    "    \n",
    "    #keyword_list.append(search[j])\n",
    "\n",
    "#     title_list = []\n",
    "#     url_list = []\n",
    "#     comp_list = []\n",
    "#     thumbnail_list = []\n",
    "#     text_list = []\n",
    "#     day_list = []\n",
    "\n",
    "    for i in range(news_num): #몇 페이지 까지 불러올지 \n",
    "        #response = response1+parse.quote_plus(search)+response2+str(postNum)\n",
    "        response = requests.get(response1+response2+str(postNum))\n",
    "\n",
    "        html = response.text\n",
    "\n",
    "        soup = BeautifulSoup(html, 'html.parser')\n",
    "\n",
    "        articles = soup.select('#main_pack > section > div > div.group_news > ul > li')\n",
    "\n",
    "        postNum = postNum+10\n",
    "        \n",
    "        #keyword_list.append(search[j])\n",
    "    \n",
    "#         title_list = []\n",
    "#         url_list = []\n",
    "#         comp_list = []\n",
    "#         thumbnail_list = []\n",
    "#         text_list = []\n",
    "#         day_list = []\n",
    "\n",
    "        for article in articles:\n",
    "            a_tag1 = article.select_one('.news_tit')\n",
    "            \n",
    "            keyword_list.append(search[j])\n",
    "\n",
    "\n",
    "            title = a_tag1.text\n",
    "            title_list.append(title.strip())\n",
    "            #title_list.append(str(title))\n",
    "\n",
    "            url = a_tag1['href']\n",
    "            url_list.append(url.strip())\n",
    "\n",
    "            comp = article.select_one('a.info.press').text\n",
    "            comp = comp.replace('언론사 선정', '')\n",
    "            comp_list.append(comp.strip())\n",
    "\n",
    "            try:\n",
    "                thumbnail = article.select_one('div > a > img')['src']\n",
    "                thumbnail_list.append(thumbnail.strip())\n",
    "\n",
    "            except:\n",
    "                thumbnail_list.append('https://search.pstatic.net/common/?src=https%3A%2F%2Fimgnews.pstatic.net%2Fimage%2Forigin%2F366%2F2021%2F09%2F23%2F762207.jpg&type=ff264_180&expire=2&refresh=true')\n",
    "        #         print('썸네일이 없습니다')\n",
    "\n",
    "            text = article.select_one('a.api_txt_lines.dsc_txt_wrap').text\n",
    "            text_list.append(text.strip())\n",
    "\n",
    "            day_list.append(nowDate)\n",
    "\n",
    "\n",
    "            print(title, url, comp, thumbnail, text, nowDate)"
   ]
  },
  {
   "cell_type": "code",
   "execution_count": 10,
   "id": "18275c48-5834-4325-a996-4caa7459f1a1",
   "metadata": {},
   "outputs": [],
   "source": [
    "#title_list=list(dict.fromkeys(title_list))"
   ]
  },
  {
   "cell_type": "code",
   "execution_count": 11,
   "id": "fbd18c02-21a6-4623-816d-7a6dd13d9dfc",
   "metadata": {},
   "outputs": [],
   "source": [
    "#url_list=list(dict.fromkeys(url_list))"
   ]
  },
  {
   "cell_type": "code",
   "execution_count": 12,
   "id": "7cd0fcc7-90d2-4b21-9cf5-416764f6d2a5",
   "metadata": {},
   "outputs": [],
   "source": [
    "#thumbnail_list=list(dict.fromkeys(thumbnail_list))"
   ]
  },
  {
   "cell_type": "code",
   "execution_count": 13,
   "id": "96b62e62-22f8-4147-9f07-a9ece8bf1aa9",
   "metadata": {},
   "outputs": [],
   "source": [
    "#text_list=list(dict.fromkeys(text_list))"
   ]
  },
  {
   "cell_type": "code",
   "execution_count": 14,
   "id": "9e204731-6175-438f-87ec-97e64354e7c7",
   "metadata": {},
   "outputs": [
    {
     "data": {
      "text/plain": [
       "16"
      ]
     },
     "execution_count": 14,
     "metadata": {},
     "output_type": "execute_result"
    }
   ],
   "source": [
    "#len(title_list)"
   ]
  },
  {
   "cell_type": "code",
   "execution_count": 15,
   "id": "3d2d639a-5cfc-4027-81b5-99d5d56306cf",
   "metadata": {},
   "outputs": [
    {
     "data": {
      "text/plain": [
       "16"
      ]
     },
     "execution_count": 15,
     "metadata": {},
     "output_type": "execute_result"
    }
   ],
   "source": [
    "#len(url_list)"
   ]
  },
  {
   "cell_type": "code",
   "execution_count": 16,
   "id": "8dc490a4-99cf-4824-b558-82067478c08f",
   "metadata": {},
   "outputs": [
    {
     "data": {
      "text/plain": [
       "16"
      ]
     },
     "execution_count": 16,
     "metadata": {},
     "output_type": "execute_result"
    }
   ],
   "source": [
    "#len(thumbnail_list)"
   ]
  },
  {
   "cell_type": "code",
   "execution_count": 17,
   "id": "4ffa06ad-615f-4c89-b7c5-1898e5c268ce",
   "metadata": {},
   "outputs": [
    {
     "data": {
      "text/plain": [
       "16"
      ]
     },
     "execution_count": 17,
     "metadata": {},
     "output_type": "execute_result"
    }
   ],
   "source": [
    "#len(text_list)"
   ]
  },
  {
   "cell_type": "code",
   "execution_count": 18,
   "id": "0e9283ac-355e-41e4-976e-c1f1ce777d1b",
   "metadata": {},
   "outputs": [],
   "source": [
    "#comp_list=comp_list[0:len(title_list)]"
   ]
  },
  {
   "cell_type": "code",
   "execution_count": 19,
   "id": "75b3843d-3d3e-4fc2-8194-208a4679bab2",
   "metadata": {},
   "outputs": [
    {
     "data": {
      "text/plain": [
       "['이데일리',\n",
       " '동아일보',\n",
       " '마이데일리',\n",
       " '스포츠한국',\n",
       " '정신의학신문',\n",
       " 'SR타임스',\n",
       " '뉴시스',\n",
       " 'ZDNet Korea',\n",
       " '아이뉴스24',\n",
       " '데일리한국',\n",
       " '디지털투데이',\n",
       " '파이낸셜뉴스',\n",
       " '블로터',\n",
       " '아이티데일리',\n",
       " 'AI타임스',\n",
       " 'IT비즈뉴스']"
      ]
     },
     "execution_count": 19,
     "metadata": {},
     "output_type": "execute_result"
    }
   ],
   "source": [
    "#comp_list"
   ]
  },
  {
   "cell_type": "code",
   "execution_count": 20,
   "id": "813895ac-e3f5-4b63-8b5c-d5c8b6d4a320",
   "metadata": {},
   "outputs": [],
   "source": [
    "#day_list=day_list[0:len(title_list)]"
   ]
  },
  {
   "cell_type": "code",
   "execution_count": 21,
   "id": "7e086fd9-4e36-42e6-86eb-56ca39406e10",
   "metadata": {},
   "outputs": [
    {
     "data": {
      "text/plain": [
       "['2021.11.18',\n",
       " '2021.11.18',\n",
       " '2021.11.18',\n",
       " '2021.11.18',\n",
       " '2021.11.18',\n",
       " '2021.11.18',\n",
       " '2021.11.18',\n",
       " '2021.11.18',\n",
       " '2021.11.18',\n",
       " '2021.11.18',\n",
       " '2021.11.18',\n",
       " '2021.11.18',\n",
       " '2021.11.18',\n",
       " '2021.11.18',\n",
       " '2021.11.18',\n",
       " '2021.11.18']"
      ]
     },
     "execution_count": 21,
     "metadata": {},
     "output_type": "execute_result"
    }
   ],
   "source": [
    "#day_list"
   ]
  },
  {
   "cell_type": "code",
   "execution_count": 14,
   "id": "263fa744-4165-42dc-b7fe-6e3fae1a20d5",
   "metadata": {},
   "outputs": [
    {
     "name": "stdout",
     "output_type": "stream",
     "text": [
      "[\"디즈니+ 상륙에 국내 팬 환호...구독 '파티원' 구인글 봇물\", \"일상에 지쳤다면 '엔칸토: 마법의 세계'로 떠나자 [마데핫리뷰]\", '라틴 음악과 어우러진 남미 천혜의 자연 속으로', \"[스한초점②] '디어에반핸슨''프렌치디스패치''엔칸토', 11월 외화 '기대'\", '가끔 세상사는 뒤로, 나 자신에게 집중해야', '[SR문화] \"디즈니가 디즈니 했다!\"...함연지 \\'엔칸토\\' 한국어 더빙·뮤직 포퍼...', \"경일대, 교육서비스 강화…'AWS 클라우드'로 전면 이전\", 'GS네오텍, 국내 최초 AWS ISV 파트너 패스 인증', \"교보정보통신, 아마존웹서비스(AWS) '어드밴스드 컨설팅 파트너' 등급 획득\", \"“클릭율 늘었다”…와디즈·무신사, AI 페이스 메이커 'AWS 효과' [IT돋보기...\", '글로벌 3위 클라우드社 구글 \"AWS‧MS 잡는다\"', \"무신사는 어떻게 '동대문 형들' 대체했나?\", \"컴볼트 '인텔리전트 데이터 서비스', AWS 마켓플레이스 등록\", '\"성장하는 스타트업은 AWS와 함께\"...와디즈·무신사, AWS와의 AI 도입 \\'성공...', 'LGU+, 국내 최초 클라우드 백본 장비 실증…유연성·안정성 확보', \"중국 ‘기술자립’ 속도… 비밀리에 '화이트리스트' 작성해 해외기업 대체중\"] ['http://www.edaily.co.kr/news/newspath.asp?newsid=04067206629246704&snapkey=71295,', 'http://www.mydaily.co.kr/new_yk/html/read.php?newsid=202111171340865956&ext=na&utm_campaign=naver_news&utm_source=naver&utm_medium=related_news', 'https://www.donga.com/news/article/all/20211117/110302193/1', 'https://sports.hankooki.com/lpage/entv/202111/sp20211118065552136680.htm?s_ref=nv', 'http://www.psychiatricnews.net/news/articleView.html?idxno=32086', 'http://www.srtimes.kr/news/articleView.html?idxno=102922', 'http://www.newsis.com/view/?id=NISX20211118_0001655754&cID=10810&pID=10800', 'https://zdnet.co.kr/view/?no=20211118102643', 'http://www.fnnews.com/news/202111181022027455', 'http://www.inews24.com/view/1423410', 'https://www.ebn.co.kr/news/view/1508681/?sc=Naver', 'http://www.bloter.net/newsView/blt202111170145', 'http://www.itdaily.kr/news/articleView.html?idxno=205133', 'http://www.aitimes.com/news/articleView.html?idxno=141601', 'https://www.itbiznews.com/news/articleView.html?idxno=56001', 'https://www.ajunews.com/view/20211117112312859'] ['이데일리', '마이데일리', '동아일보', '스포츠한국', '정신의학신문', 'SR타임스', '뉴시스', 'ZDNet Korea', '파이낸셜뉴스', '아이뉴스24', 'EBN', '블로터', '아이티데일리', 'AI타임스', 'IT비즈뉴스', '아주경제'] ['https://search.pstatic.net/common/?src=https%3A%2F%2Fimgnews.pstatic.net%2Fimage%2Forigin%2F018%2F2021%2F11%2F17%2F5088502.jpg&type=ff264_180&expire=2&refresh=true', 'https://search.pstatic.net/common/?src=https%3A%2F%2Fimgnews.pstatic.net%2Fimage%2Forigin%2F117%2F2021%2F11%2F18%2F3556422.jpg&type=ff264_180&expire=2&refresh=true', 'https://search.pstatic.net/common/?src=https%3A%2F%2Fimgnews.pstatic.net%2Fimage%2Forigin%2F020%2F2021%2F11%2F18%2F3394372.jpg&type=ff264_180&expire=2&refresh=true', 'https://search.pstatic.net/common/?src=https%3A%2F%2Fimgnews.pstatic.net%2Fimage%2Forigin%2F5359%2F2021%2F11%2F18%2F383898.jpg&type=ff264_180&expire=2&refresh=true', 'https://search.pstatic.net/common/?src=https%3A%2F%2Fimgnews.pstatic.net%2Fimage%2Forigin%2F5473%2F2021%2F11%2F18%2F7273.jpg&type=ofullfill264_180_gray&expire=2&refresh=true', 'https://search.pstatic.net/common/?src=https%3A%2F%2Fimgnews.pstatic.net%2Fimage%2Forigin%2F5589%2F2021%2F11%2F18%2F59144.jpg&type=ofullfill264_180_gray&expire=2&refresh=true', 'https://search.pstatic.net/common/?src=https%3A%2F%2Fimgnews.pstatic.net%2Fimage%2Forigin%2F003%2F2021%2F11%2F18%2F10839921.jpg&type=ff264_180&expire=2&refresh=true', 'https://search.pstatic.net/common/?src=https%3A%2F%2Fimgnews.pstatic.net%2Fimage%2Forigin%2F092%2F2021%2F11%2F18%2F2239537.jpg&type=ff264_180&expire=2&refresh=true', 'https://search.pstatic.net/common/?src=https%3A%2F%2Fimgnews.pstatic.net%2Fimage%2Forigin%2F014%2F2021%2F11%2F18%2F4741776.jpg&type=ff264_180&expire=2&refresh=true', 'https://search.pstatic.net/common/?src=https%3A%2F%2Fimgnews.pstatic.net%2Fimage%2Forigin%2F031%2F2021%2F11%2F17%2F636640.jpg&type=ff264_180&expire=2&refresh=true', 'https://search.pstatic.net/common/?src=https%3A%2F%2Fimgnews.pstatic.net%2Fimage%2Forigin%2F5093%2F2021%2F11%2F18%2F486516.jpg&type=ff264_180&expire=2&refresh=true', 'https://search.pstatic.net/common/?src=https%3A%2F%2Fimgnews.pstatic.net%2Fimage%2Forigin%2F293%2F2021%2F11%2F17%2F36987.jpg&type=ff264_180&expire=2&refresh=true', 'https://search.pstatic.net/common/?src=https%3A%2F%2Fimgnews.pstatic.net%2Fimage%2Forigin%2F5046%2F2021%2F11%2F17%2F88968.jpg&type=ofullfill264_180_gray&expire=2&refresh=true', 'https://search.pstatic.net/common/?src=https%3A%2F%2Fimgnews.pstatic.net%2Fimage%2Forigin%2F5746%2F2021%2F11%2F18%2F82976.jpg&type=ofullfill264_180_gray&expire=2&refresh=true', 'https://search.pstatic.net/common/?src=https%3A%2F%2Fimgnews.pstatic.net%2Fimage%2Forigin%2F5795%2F2021%2F11%2F18%2F15088.jpg&type=ofullfill264_180_gray&expire=2&refresh=true', 'https://search.pstatic.net/common/?src=https%3A%2F%2Fimgnews.pstatic.net%2Fimage%2Forigin%2F5090%2F2021%2F11%2F17%2F2075140.jpg&type=ofullfill264_180_gray&expire=2&refresh=true'] [\"현재 디즈니+에는 '라이온킹' '알라딘' '주토피아' '겨울왕국' 등 디즈니 콘텐츠와 픽사의 '토이스토리', '니모를 찾아서' 등 아이들이 즐겨 보는 애니메이션들이 포진돼 있다. 일각에서는 아쉬움도 나타냈다. 넷플릭스가...\", \"'믿고 보는' 디즈니의 60번째 장편영화이자 '주토피아' 제작진이 5년 동안 제작한 '엔칸토'. 천혜의 자연환경을 지닌 콜롬비아에서 영감을 받은 자연과 마법의 세계라는 판타지의 조합은 기존에 어떤 영화에서도 볼 수...\", '‘겨울왕국2’의 총괄 제작을 맡고 ‘주토피아’를 연출한 바이런 하워드가 감독인 데다 가족 이야기를 다루는 만큼 디즈니는 엔칸토가 ‘겨울왕국’ 시리즈의 신드롬을 이어갈 것으로 기대하고 있다. 콜롬비아의 비경을...', \"나오는 디즈니 뮤지컬로 전 세계 관객들의 폭발적인 기대를 받고 있다. '주토피아', '모아나', '코코' 제작진이 뭉쳐 만든 따뜻한 이야기, 환상적인 영상미, 흥겨운 음악으로 가족 관객들을 사로잡을 것으로 보인다. 스포츠한국\", '애니메이션 <주토피아 Zootopia>의 나무늘보를 떠올려보면 된다. 기뻐하는 것도 슬퍼하는 것도 남들보다 몇 박자씩 느렸다. 무슨 사건이 생기면 아내는 그 직후보다 시간이 조금 흐른 후의 내 표정과 반응을 살핀다. 나의...', \"'주토피아' '겨울왕국 2' 제작진의 놀라운 상상력을 담아낸 '엔칸토: 마법의 세계'는 특별한 능력을 가진 마드리갈 패밀리 중, 유일하게 평범한 주인공 '미라벨'이 마법이 사라질 위기에 처한 마을 '엔칸토'와 가족을...\", '경일대학교는 국내 4년제 대학 중 최초로 교육 서비스 강화 및 학업 성과 증진을 위해 아마존웹서비스(AWS) 클라우드로 전면 이전했다고 18일 밝혔다. 전체 IT 인프라스트럭처를 AWS로 이전한 경일대는 시스템의 신속한...', 'GS네오텍(지에스네오텍, 대표 남기정)이 국내 최초로 ‘AWS ISV 파트너 패스(Amazon Web Service Independent Solution Vendor Partners Path)’를 인증했다고 18일 밝혔다. 이번에 GS네오텍이 국내 최초로 인증한 AWS ISV 파트너...', \"교보정보통신은 글로벌 클라우드 선도기업인 아마존웹서비스(AWS)의 '어드밴스드 컨설팅 파트너' 자격을 획득했다고 18일 밝혔다. AWS 컨설팅 파트너는 AWS를 사용하고자 하는 고객을 대상으로 설계, 구축, 이관 및관리...\", '“복잡한 인공지능(AI) 기술을 빠르게 적용해 클릭율 개선이라는 효과를 확인할 수 있었다.” 정인길 와디즈 플랫폼개발 이사는 17일 AWS ‘머신러닝(ML) 포 스타트업’ 미디어 브리핑에 나서 AWS 솔루션 도입 사례를...', '글로벌 3위 클라우드업체 구글 클라우드가 업계 1,2위 아마존웹서비스(AWS)와 마이크로소프트(MS)의 아성을... 구글은 최근 10%까지 점유율을 높이며 AWS와 MS를 바짝 뒤쫓고 있는 중이다. 올해 구글 클라우드의 1~3분기 매출...', '유환성 무신사 데이터솔루션팀장은 17일 아마존웹서비스(AWS)코리아가 온라인으로 진행한 미디어 브리핑에... AWS는 기업 자체적으로 도입하기 힘든 방대한 저장공간과 고성능 컴퓨터의 연산력을 빌려쓸 수 있도록 하는...', '아마존웹서비스의 AWS 마켓플레이스에 등록됐다고 17일 밝혔다. 이번에 등록된 제품은 ▲\\'컴볼트 백업... 필수\"라며, \"AWS 마켓플레이스에 자사 백업 & 복구 및 재해 복구, 프로페셔널 서비스 솔루션을 출시해 AWS...', '와디즈와 무신사가 AI 도입에 AWS 도움이 컸다고 평가했다. (출처=셔터스톡, 편집=김동원 기자) \"아마존웹서비스(AWS)와 협업하면서 소수의 인공지능(AI) 개발자를 가진 스타트업에서도 AI 기술이 열려있다는 것을...', '이미 아마존(AWS), 구글, 마이크로소프트(MS) 등의 IT업계에서는 클라우드 인프라에 컨테이너 개념을 도입해... 앞서 8월에는 AWS 클라우드에 5G 코어장비와 MEC 서비스를 동시에 수용하는 실증을 완료한 바 있다. 개방형...', '실제 중국은 최근 아마존웹서비스(AWS)와 마이크로소프트(MS) 등 해외 클라우드 서비스 기업들에 본토에서... 또 AMD는 룽신중커가, AWS와 팔로알토 네트웍스는 각각 알리바바와 치안신이 대체할 것이라고 전했다. ◆신촹...'] ['2021.11.18', '2021.11.18', '2021.11.18', '2021.11.18', '2021.11.18', '2021.11.18', '2021.11.18', '2021.11.18', '2021.11.18', '2021.11.18', '2021.11.18', '2021.11.18', '2021.11.18', '2021.11.18', '2021.11.18', '2021.11.18'] ['주토피아', '주토피아', '주토피아', '주토피아', '주토피아', '주토피아', 'AWS', 'AWS', 'AWS', 'AWS', 'AWS', 'AWS', 'AWS', 'AWS', 'AWS', 'AWS']\n"
     ]
    }
   ],
   "source": [
    "print(title_list, url_list, comp_list, thumbnail_list, text_list, day_list, keyword_list)"
   ]
  },
  {
   "cell_type": "code",
   "execution_count": 15,
   "id": "1f20c2d5-638e-4c71-9055-556b039bbb63",
   "metadata": {},
   "outputs": [],
   "source": [
    "info = {'제목':title_list, 'url':url_list, '언론사':comp_list, '썸네일':thumbnail_list, '내용':text_list, '수집 날짜':day_list, '키워드':keyword_list}"
   ]
  },
  {
   "cell_type": "code",
   "execution_count": 16,
   "id": "d8d12abf-464c-4285-9f30-4153eeb4820f",
   "metadata": {},
   "outputs": [
    {
     "data": {
      "text/plain": [
       "{'제목': [\"디즈니+ 상륙에 국내 팬 환호...구독 '파티원' 구인글 봇물\",\n",
       "  \"일상에 지쳤다면 '엔칸토: 마법의 세계'로 떠나자 [마데핫리뷰]\",\n",
       "  '라틴 음악과 어우러진 남미 천혜의 자연 속으로',\n",
       "  \"[스한초점②] '디어에반핸슨''프렌치디스패치''엔칸토', 11월 외화 '기대'\",\n",
       "  '가끔 세상사는 뒤로, 나 자신에게 집중해야',\n",
       "  '[SR문화] \"디즈니가 디즈니 했다!\"...함연지 \\'엔칸토\\' 한국어 더빙·뮤직 포퍼...',\n",
       "  \"경일대, 교육서비스 강화…'AWS 클라우드'로 전면 이전\",\n",
       "  'GS네오텍, 국내 최초 AWS ISV 파트너 패스 인증',\n",
       "  \"교보정보통신, 아마존웹서비스(AWS) '어드밴스드 컨설팅 파트너' 등급 획득\",\n",
       "  \"“클릭율 늘었다”…와디즈·무신사, AI 페이스 메이커 'AWS 효과' [IT돋보기...\",\n",
       "  '글로벌 3위 클라우드社 구글 \"AWS‧MS 잡는다\"',\n",
       "  \"무신사는 어떻게 '동대문 형들' 대체했나?\",\n",
       "  \"컴볼트 '인텔리전트 데이터 서비스', AWS 마켓플레이스 등록\",\n",
       "  '\"성장하는 스타트업은 AWS와 함께\"...와디즈·무신사, AWS와의 AI 도입 \\'성공...',\n",
       "  'LGU+, 국내 최초 클라우드 백본 장비 실증…유연성·안정성 확보',\n",
       "  \"중국 ‘기술자립’ 속도… 비밀리에 '화이트리스트' 작성해 해외기업 대체중\"],\n",
       " 'url': ['http://www.edaily.co.kr/news/newspath.asp?newsid=04067206629246704&snapkey=71295,',\n",
       "  'http://www.mydaily.co.kr/new_yk/html/read.php?newsid=202111171340865956&ext=na&utm_campaign=naver_news&utm_source=naver&utm_medium=related_news',\n",
       "  'https://www.donga.com/news/article/all/20211117/110302193/1',\n",
       "  'https://sports.hankooki.com/lpage/entv/202111/sp20211118065552136680.htm?s_ref=nv',\n",
       "  'http://www.psychiatricnews.net/news/articleView.html?idxno=32086',\n",
       "  'http://www.srtimes.kr/news/articleView.html?idxno=102922',\n",
       "  'http://www.newsis.com/view/?id=NISX20211118_0001655754&cID=10810&pID=10800',\n",
       "  'https://zdnet.co.kr/view/?no=20211118102643',\n",
       "  'http://www.fnnews.com/news/202111181022027455',\n",
       "  'http://www.inews24.com/view/1423410',\n",
       "  'https://www.ebn.co.kr/news/view/1508681/?sc=Naver',\n",
       "  'http://www.bloter.net/newsView/blt202111170145',\n",
       "  'http://www.itdaily.kr/news/articleView.html?idxno=205133',\n",
       "  'http://www.aitimes.com/news/articleView.html?idxno=141601',\n",
       "  'https://www.itbiznews.com/news/articleView.html?idxno=56001',\n",
       "  'https://www.ajunews.com/view/20211117112312859'],\n",
       " '언론사': ['이데일리',\n",
       "  '마이데일리',\n",
       "  '동아일보',\n",
       "  '스포츠한국',\n",
       "  '정신의학신문',\n",
       "  'SR타임스',\n",
       "  '뉴시스',\n",
       "  'ZDNet Korea',\n",
       "  '파이낸셜뉴스',\n",
       "  '아이뉴스24',\n",
       "  'EBN',\n",
       "  '블로터',\n",
       "  '아이티데일리',\n",
       "  'AI타임스',\n",
       "  'IT비즈뉴스',\n",
       "  '아주경제'],\n",
       " '썸네일': ['https://search.pstatic.net/common/?src=https%3A%2F%2Fimgnews.pstatic.net%2Fimage%2Forigin%2F018%2F2021%2F11%2F17%2F5088502.jpg&type=ff264_180&expire=2&refresh=true',\n",
       "  'https://search.pstatic.net/common/?src=https%3A%2F%2Fimgnews.pstatic.net%2Fimage%2Forigin%2F117%2F2021%2F11%2F18%2F3556422.jpg&type=ff264_180&expire=2&refresh=true',\n",
       "  'https://search.pstatic.net/common/?src=https%3A%2F%2Fimgnews.pstatic.net%2Fimage%2Forigin%2F020%2F2021%2F11%2F18%2F3394372.jpg&type=ff264_180&expire=2&refresh=true',\n",
       "  'https://search.pstatic.net/common/?src=https%3A%2F%2Fimgnews.pstatic.net%2Fimage%2Forigin%2F5359%2F2021%2F11%2F18%2F383898.jpg&type=ff264_180&expire=2&refresh=true',\n",
       "  'https://search.pstatic.net/common/?src=https%3A%2F%2Fimgnews.pstatic.net%2Fimage%2Forigin%2F5473%2F2021%2F11%2F18%2F7273.jpg&type=ofullfill264_180_gray&expire=2&refresh=true',\n",
       "  'https://search.pstatic.net/common/?src=https%3A%2F%2Fimgnews.pstatic.net%2Fimage%2Forigin%2F5589%2F2021%2F11%2F18%2F59144.jpg&type=ofullfill264_180_gray&expire=2&refresh=true',\n",
       "  'https://search.pstatic.net/common/?src=https%3A%2F%2Fimgnews.pstatic.net%2Fimage%2Forigin%2F003%2F2021%2F11%2F18%2F10839921.jpg&type=ff264_180&expire=2&refresh=true',\n",
       "  'https://search.pstatic.net/common/?src=https%3A%2F%2Fimgnews.pstatic.net%2Fimage%2Forigin%2F092%2F2021%2F11%2F18%2F2239537.jpg&type=ff264_180&expire=2&refresh=true',\n",
       "  'https://search.pstatic.net/common/?src=https%3A%2F%2Fimgnews.pstatic.net%2Fimage%2Forigin%2F014%2F2021%2F11%2F18%2F4741776.jpg&type=ff264_180&expire=2&refresh=true',\n",
       "  'https://search.pstatic.net/common/?src=https%3A%2F%2Fimgnews.pstatic.net%2Fimage%2Forigin%2F031%2F2021%2F11%2F17%2F636640.jpg&type=ff264_180&expire=2&refresh=true',\n",
       "  'https://search.pstatic.net/common/?src=https%3A%2F%2Fimgnews.pstatic.net%2Fimage%2Forigin%2F5093%2F2021%2F11%2F18%2F486516.jpg&type=ff264_180&expire=2&refresh=true',\n",
       "  'https://search.pstatic.net/common/?src=https%3A%2F%2Fimgnews.pstatic.net%2Fimage%2Forigin%2F293%2F2021%2F11%2F17%2F36987.jpg&type=ff264_180&expire=2&refresh=true',\n",
       "  'https://search.pstatic.net/common/?src=https%3A%2F%2Fimgnews.pstatic.net%2Fimage%2Forigin%2F5046%2F2021%2F11%2F17%2F88968.jpg&type=ofullfill264_180_gray&expire=2&refresh=true',\n",
       "  'https://search.pstatic.net/common/?src=https%3A%2F%2Fimgnews.pstatic.net%2Fimage%2Forigin%2F5746%2F2021%2F11%2F18%2F82976.jpg&type=ofullfill264_180_gray&expire=2&refresh=true',\n",
       "  'https://search.pstatic.net/common/?src=https%3A%2F%2Fimgnews.pstatic.net%2Fimage%2Forigin%2F5795%2F2021%2F11%2F18%2F15088.jpg&type=ofullfill264_180_gray&expire=2&refresh=true',\n",
       "  'https://search.pstatic.net/common/?src=https%3A%2F%2Fimgnews.pstatic.net%2Fimage%2Forigin%2F5090%2F2021%2F11%2F17%2F2075140.jpg&type=ofullfill264_180_gray&expire=2&refresh=true'],\n",
       " '내용': [\"현재 디즈니+에는 '라이온킹' '알라딘' '주토피아' '겨울왕국' 등 디즈니 콘텐츠와 픽사의 '토이스토리', '니모를 찾아서' 등 아이들이 즐겨 보는 애니메이션들이 포진돼 있다. 일각에서는 아쉬움도 나타냈다. 넷플릭스가...\",\n",
       "  \"'믿고 보는' 디즈니의 60번째 장편영화이자 '주토피아' 제작진이 5년 동안 제작한 '엔칸토'. 천혜의 자연환경을 지닌 콜롬비아에서 영감을 받은 자연과 마법의 세계라는 판타지의 조합은 기존에 어떤 영화에서도 볼 수...\",\n",
       "  '‘겨울왕국2’의 총괄 제작을 맡고 ‘주토피아’를 연출한 바이런 하워드가 감독인 데다 가족 이야기를 다루는 만큼 디즈니는 엔칸토가 ‘겨울왕국’ 시리즈의 신드롬을 이어갈 것으로 기대하고 있다. 콜롬비아의 비경을...',\n",
       "  \"나오는 디즈니 뮤지컬로 전 세계 관객들의 폭발적인 기대를 받고 있다. '주토피아', '모아나', '코코' 제작진이 뭉쳐 만든 따뜻한 이야기, 환상적인 영상미, 흥겨운 음악으로 가족 관객들을 사로잡을 것으로 보인다. 스포츠한국\",\n",
       "  '애니메이션 <주토피아 Zootopia>의 나무늘보를 떠올려보면 된다. 기뻐하는 것도 슬퍼하는 것도 남들보다 몇 박자씩 느렸다. 무슨 사건이 생기면 아내는 그 직후보다 시간이 조금 흐른 후의 내 표정과 반응을 살핀다. 나의...',\n",
       "  \"'주토피아' '겨울왕국 2' 제작진의 놀라운 상상력을 담아낸 '엔칸토: 마법의 세계'는 특별한 능력을 가진 마드리갈 패밀리 중, 유일하게 평범한 주인공 '미라벨'이 마법이 사라질 위기에 처한 마을 '엔칸토'와 가족을...\",\n",
       "  '경일대학교는 국내 4년제 대학 중 최초로 교육 서비스 강화 및 학업 성과 증진을 위해 아마존웹서비스(AWS) 클라우드로 전면 이전했다고 18일 밝혔다. 전체 IT 인프라스트럭처를 AWS로 이전한 경일대는 시스템의 신속한...',\n",
       "  'GS네오텍(지에스네오텍, 대표 남기정)이 국내 최초로 ‘AWS ISV 파트너 패스(Amazon Web Service Independent Solution Vendor Partners Path)’를 인증했다고 18일 밝혔다. 이번에 GS네오텍이 국내 최초로 인증한 AWS ISV 파트너...',\n",
       "  \"교보정보통신은 글로벌 클라우드 선도기업인 아마존웹서비스(AWS)의 '어드밴스드 컨설팅 파트너' 자격을 획득했다고 18일 밝혔다. AWS 컨설팅 파트너는 AWS를 사용하고자 하는 고객을 대상으로 설계, 구축, 이관 및관리...\",\n",
       "  '“복잡한 인공지능(AI) 기술을 빠르게 적용해 클릭율 개선이라는 효과를 확인할 수 있었다.” 정인길 와디즈 플랫폼개발 이사는 17일 AWS ‘머신러닝(ML) 포 스타트업’ 미디어 브리핑에 나서 AWS 솔루션 도입 사례를...',\n",
       "  '글로벌 3위 클라우드업체 구글 클라우드가 업계 1,2위 아마존웹서비스(AWS)와 마이크로소프트(MS)의 아성을... 구글은 최근 10%까지 점유율을 높이며 AWS와 MS를 바짝 뒤쫓고 있는 중이다. 올해 구글 클라우드의 1~3분기 매출...',\n",
       "  '유환성 무신사 데이터솔루션팀장은 17일 아마존웹서비스(AWS)코리아가 온라인으로 진행한 미디어 브리핑에... AWS는 기업 자체적으로 도입하기 힘든 방대한 저장공간과 고성능 컴퓨터의 연산력을 빌려쓸 수 있도록 하는...',\n",
       "  '아마존웹서비스의 AWS 마켓플레이스에 등록됐다고 17일 밝혔다. 이번에 등록된 제품은 ▲\\'컴볼트 백업... 필수\"라며, \"AWS 마켓플레이스에 자사 백업 & 복구 및 재해 복구, 프로페셔널 서비스 솔루션을 출시해 AWS...',\n",
       "  '와디즈와 무신사가 AI 도입에 AWS 도움이 컸다고 평가했다. (출처=셔터스톡, 편집=김동원 기자) \"아마존웹서비스(AWS)와 협업하면서 소수의 인공지능(AI) 개발자를 가진 스타트업에서도 AI 기술이 열려있다는 것을...',\n",
       "  '이미 아마존(AWS), 구글, 마이크로소프트(MS) 등의 IT업계에서는 클라우드 인프라에 컨테이너 개념을 도입해... 앞서 8월에는 AWS 클라우드에 5G 코어장비와 MEC 서비스를 동시에 수용하는 실증을 완료한 바 있다. 개방형...',\n",
       "  '실제 중국은 최근 아마존웹서비스(AWS)와 마이크로소프트(MS) 등 해외 클라우드 서비스 기업들에 본토에서... 또 AMD는 룽신중커가, AWS와 팔로알토 네트웍스는 각각 알리바바와 치안신이 대체할 것이라고 전했다. ◆신촹...'],\n",
       " '수집 날짜': ['2021.11.18',\n",
       "  '2021.11.18',\n",
       "  '2021.11.18',\n",
       "  '2021.11.18',\n",
       "  '2021.11.18',\n",
       "  '2021.11.18',\n",
       "  '2021.11.18',\n",
       "  '2021.11.18',\n",
       "  '2021.11.18',\n",
       "  '2021.11.18',\n",
       "  '2021.11.18',\n",
       "  '2021.11.18',\n",
       "  '2021.11.18',\n",
       "  '2021.11.18',\n",
       "  '2021.11.18',\n",
       "  '2021.11.18'],\n",
       " '키워드': ['주토피아',\n",
       "  '주토피아',\n",
       "  '주토피아',\n",
       "  '주토피아',\n",
       "  '주토피아',\n",
       "  '주토피아',\n",
       "  'AWS',\n",
       "  'AWS',\n",
       "  'AWS',\n",
       "  'AWS',\n",
       "  'AWS',\n",
       "  'AWS',\n",
       "  'AWS',\n",
       "  'AWS',\n",
       "  'AWS',\n",
       "  'AWS']}"
      ]
     },
     "execution_count": 16,
     "metadata": {},
     "output_type": "execute_result"
    }
   ],
   "source": [
    "info"
   ]
  },
  {
   "cell_type": "code",
   "execution_count": 17,
   "id": "f86b9d5d-ad7b-495a-adf5-62276c864b69",
   "metadata": {},
   "outputs": [],
   "source": [
    "news = pd.DataFrame(info)"
   ]
  },
  {
   "cell_type": "code",
   "execution_count": 18,
   "id": "116a7f05-e5b3-4d0c-b294-ac1d9e75ccb8",
   "metadata": {},
   "outputs": [
    {
     "data": {
      "text/plain": [
       "\"디즈니+ 상륙에 국내 팬 환호...구독 '파티원' 구인글 봇물\""
      ]
     },
     "execution_count": 18,
     "metadata": {},
     "output_type": "execute_result"
    }
   ],
   "source": [
    "(news.제목[0])"
   ]
  },
  {
   "cell_type": "code",
   "execution_count": 19,
   "id": "e2af0c2c-ecbe-4285-be43-5af145807969",
   "metadata": {},
   "outputs": [],
   "source": [
    "news.to_excel(excel_writer='sample2.xlsx')"
   ]
  },
  {
   "cell_type": "markdown",
   "id": "fd08726b-b562-4504-8af9-aa2104786ce6",
   "metadata": {},
   "source": [
    "## 날짜 함수 연습"
   ]
  },
  {
   "cell_type": "code",
   "execution_count": 11,
   "id": "571f087d-7411-46aa-91bd-e05a54690229",
   "metadata": {},
   "outputs": [
    {
     "name": "stdout",
     "output_type": "stream",
     "text": [
      "2021-11-17 16:35:14.121840\n"
     ]
    }
   ],
   "source": [
    "import datetime\n",
    "now = datetime.datetime.now()\n",
    "print(now)\n"
   ]
  },
  {
   "cell_type": "code",
   "execution_count": 15,
   "id": "1d6fb7f2-2a4f-47fc-bbe7-782a7d53c236",
   "metadata": {},
   "outputs": [
    {
     "name": "stdout",
     "output_type": "stream",
     "text": [
      "2021.11.17.16.38\n"
     ]
    }
   ],
   "source": [
    "import time\n",
    "now = time.localtime()\n",
    "print(\"%04d.%02d.%02d.%02d.%02d\" % (now.tm_year, now.tm_mon, now.tm_mday, now.tm_hour, now.tm_min))"
   ]
  },
  {
   "cell_type": "code",
   "execution_count": 17,
   "id": "688c3a2f-b6a9-4d7a-8c53-c9f8e9b0edf4",
   "metadata": {},
   "outputs": [
    {
     "name": "stdout",
     "output_type": "stream",
     "text": [
      "2021.11.16.16.40\n"
     ]
    }
   ],
   "source": [
    "import time\n",
    "now = time.localtime()\n",
    "print(\"%04d.%02d.%02d.%02d.%02d\" % (now.tm_year, now.tm_mon, now.tm_mday-1, now.tm_hour, now.tm_min))"
   ]
  },
  {
   "cell_type": "code",
   "execution_count": 18,
   "id": "9f603fd9-5da7-49af-a235-8654159cb014",
   "metadata": {},
   "outputs": [
    {
     "name": "stdout",
     "output_type": "stream",
     "text": [
      "2021-11-17 16:40:52.314112\n",
      "2021-11-17\n",
      "16:40:52\n",
      "2021-11-17 16:40:52\n"
     ]
    }
   ],
   "source": [
    "import datetime\n",
    " \n",
    "now = datetime.datetime.now()\n",
    "print(now)          # 2015-04-19 12:11:32.669083\n",
    " \n",
    "nowDate = now.strftime('%Y-%m-%d')\n",
    "print(nowDate)      # 2015-04-19\n",
    " \n",
    "nowTime = now.strftime('%H:%M:%S')\n",
    "print(nowTime)      # 12:11:32\n",
    " \n",
    "nowDatetime = now.strftime('%Y-%m-%d %H:%M:%S')\n",
    "print(nowDatetime)  # 2015-04-19 12:11:32"
   ]
  },
  {
   "cell_type": "code",
   "execution_count": 19,
   "id": "5203578a-b3d5-4691-a956-bc4d49e687a6",
   "metadata": {},
   "outputs": [
    {
     "name": "stdout",
     "output_type": "stream",
     "text": [
      "2021.11.17.16.40\n"
     ]
    }
   ],
   "source": [
    "import datetime\n",
    "nowDatetime = now.strftime('%Y.%m.%d.%H.%M')\n",
    "print(nowDatetime)  # 2015-04-19 12:11:32"
   ]
  },
  {
   "cell_type": "code",
   "execution_count": 27,
   "id": "4d218079-37a0-4777-bc5b-bcaa7c80ae81",
   "metadata": {},
   "outputs": [
    {
     "data": {
      "text/plain": [
       "str"
      ]
     },
     "execution_count": 27,
     "metadata": {},
     "output_type": "execute_result"
    }
   ],
   "source": [
    "type(nowDatetime)"
   ]
  },
  {
   "cell_type": "code",
   "execution_count": 25,
   "id": "d5292e2d-a73c-4411-bd91-f1ac232c8541",
   "metadata": {},
   "outputs": [
    {
     "name": "stdout",
     "output_type": "stream",
     "text": [
      "2021.11.16.16.40\n"
     ]
    }
   ],
   "source": [
    "from datetime import datetime, timedelta\n",
    "deforeDatetime = now - timedelta(days=1)\n",
    "deforeDatetime = deforeDatetime.strftime('%Y.%m.%d.%H.%M')\n",
    "print(deforeDatetime)  # 2015-04-19 12:11:32"
   ]
  },
  {
   "cell_type": "markdown",
   "id": "475e95d1-c4eb-47cf-85bd-b9e94639bcd0",
   "metadata": {},
   "source": [
    "## 네이버뉴스 하루단위만 뜨게 하는 코드"
   ]
  },
  {
   "cell_type": "code",
   "execution_count": null,
   "id": "a2e8cd14-5904-47ec-b1f0-03654f79c4f6",
   "metadata": {},
   "outputs": [],
   "source": [
    "#https://search.naver.com/search.naver?where=news&sm=tab_pge&query='몽타'&sort=0&photo=0&field=0&pd=4&ds=2021.11.16.16.28&de=2021.11.17.16.28&cluster_rank=27&mynews=0&office_type=0&office_section_code=0&news_office_checked=&nso=so:r,p:1d,a:all"
   ]
  }
 ],
 "metadata": {
  "kernelspec": {
   "display_name": "mongta",
   "language": "python",
   "name": "mongta"
  },
  "language_info": {
   "codemirror_mode": {
    "name": "ipython",
    "version": 3
   },
   "file_extension": ".py",
   "mimetype": "text/x-python",
   "name": "python",
   "nbconvert_exporter": "python",
   "pygments_lexer": "ipython3",
   "version": "3.8.12"
  }
 },
 "nbformat": 4,
 "nbformat_minor": 5
}
