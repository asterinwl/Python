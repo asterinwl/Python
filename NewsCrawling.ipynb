{
 "cells": [
  {
   "cell_type": "code",
   "execution_count": 2,
   "id": "db6eed67-fcd7-4beb-92f0-c44b49efc72a",
   "metadata": {},
   "outputs": [],
   "source": [
    "import requests\n",
    "from bs4 import BeautifulSoup\n",
    "import pandas as pd"
   ]
  },
  {
   "cell_type": "code",
   "execution_count": 3,
   "id": "a220565f-d510-4d06-ab36-c6ffbf0cec77",
   "metadata": {},
   "outputs": [],
   "source": [
    "response = requests.get('https://search.naver.com/search.naver?where=news&sm=tab_jum&query=%EC%88%98%EC%86%8C+%EC%B6%A9%EC%A0%84')"
   ]
  },
  {
   "cell_type": "code",
   "execution_count": 4,
   "id": "2a6ce1d8-53c5-4de3-9cd7-35232663065f",
   "metadata": {},
   "outputs": [],
   "source": [
    "html = response.text"
   ]
  },
  {
   "cell_type": "code",
   "execution_count": 5,
   "id": "83993d2b-c290-4ed5-ab2f-7f3d9ba02999",
   "metadata": {},
   "outputs": [],
   "source": [
    "soup = BeautifulSoup(html, 'html.parser')"
   ]
  },
  {
   "cell_type": "code",
   "execution_count": 6,
   "id": "3f7ed438-4df0-4974-b7d4-d95751db4bf8",
   "metadata": {},
   "outputs": [],
   "source": [
    "articles = soup.select('#main_pack > section > div > div.group_news > ul > li')"
   ]
  },
  {
   "cell_type": "code",
   "execution_count": 7,
   "id": "72cefb01-e399-4cf1-bfe4-0500fd07f102",
   "metadata": {},
   "outputs": [],
   "source": [
    "title_list = []\n",
    "url_list = []\n",
    "comp_list = []\n",
    "thumbnail_list = []"
   ]
  },
  {
   "cell_type": "code",
   "execution_count": 8,
   "id": "375718d3-55a8-4844-911d-01634dae361f",
   "metadata": {},
   "outputs": [
    {
     "name": "stdout",
     "output_type": "stream",
     "text": [
      "E1, 복합충전소 브랜드 'E1 오렌지 플러스' 런칭 http://www.fnnews.com/news/202111150926525824 파이낸셜뉴스 https://search.pstatic.net/common/?src=https%3A%2F%2Fimgnews.pstatic.net%2Fimage%2Forigin%2F014%2F2021%2F11%2F15%2F4739580.jpg&type=ff264_180&expire=2&refresh=true\n",
      "요소수 필요 없는 수소트럭 화물운송 현장 투입한다 https://biz.chosun.com/policy/policy_sub/2021/11/15/PTYQIEPJVVFYNERY2N6QBA54IQ/?utm_source=naver&utm_medium=original&utm_campaign=biz 조선비즈 https://search.pstatic.net/common/?src=https%3A%2F%2Fimgnews.pstatic.net%2Fimage%2Forigin%2F366%2F2021%2F11%2F15%2F773951.jpg&type=ff264_180&expire=2&refresh=true\n",
      "‘수소 동맹’ 맺는 기업들…수소는 왜 혼자 못할까 https://magazine.hankyung.com/business/article/202111100704b 한경비즈니스 https://search.pstatic.net/common/?src=https%3A%2F%2Fimgnews.pstatic.net%2Fimage%2Forigin%2F050%2F2021%2F11%2F15%2F59025.jpg&type=ff264_180&expire=2&refresh=true\n",
      "E1, 충전·세차하고 커피까지…미래형 복합충전소 '오렌지 플러스' 론칭 http://www.newsis.com/view/?id=NISX20211115_0001651686&cID=13001&pID=13000 뉴시스 https://search.pstatic.net/common/?src=https%3A%2F%2Fimgnews.pstatic.net%2Fimage%2Forigin%2F003%2F2021%2F11%2F15%2F10833423.jpg&type=ff264_180&expire=2&refresh=true\n",
      "거제 1호 수소충전소 운영 … 하루 60~70대 충전 https://www.pressian.com/pages/articles/2021111516010989072?utm_source=naver&utm_medium=search 프레시안 https://search.pstatic.net/common/?src=https%3A%2F%2Fimgnews.pstatic.net%2Fimage%2Forigin%2F002%2F2021%2F11%2F15%2F2218948.jpg&type=ff264_180&expire=2&refresh=true\n",
      "국내 최초 바나듐 이온 배터리 ESS로 전기 충전 실증 http://www.e-platform.net/news/articleView.html?idxno=70315 에너지플랫폼뉴스 https://search.pstatic.net/common/?src=https%3A%2F%2Fimgnews.pstatic.net%2Fimage%2Forigin%2F5563%2F2021%2F11%2F15%2F12509.jpg&type=ofullfill264_180_gray&expire=2&refresh=true\n",
      "정유업계 '수소' 바람타고 탈(脫)정유 릴레이 http://www.fortunekorea.co.kr/news/articleView.html?idxno=20612 포춘코리아 https://search.pstatic.net/common/?src=https%3A%2F%2Fimgnews.pstatic.net%2Fimage%2Forigin%2F5727%2F2021%2F11%2F15%2F2382.jpg&type=ofullfill264_180_gray&expire=2&refresh=true\n",
      "일진하이솔루스, 3분기 매출액 268억원…“수소사업 속도낸다” http://www.newsway.co.kr/news/view?tp=1&ud=2021111516402165743 뉴스웨이 https://search.pstatic.net/common/?src=https%3A%2F%2Fimgnews.pstatic.net%2Fimage%2Forigin%2F5270%2F2021%2F11%2F15%2F738788.jpg&type=ofullfill264_180_gray&expire=2&refresh=true\n",
      "‘탈요소수’ 나선 쿠팡… CJ대한통운·현대글로비스 이어 수소트럭 화물운송... http://news.kmib.co.kr/article/view.asp?arcid=0016469857&code=61141111&cp=nv 국민일보 https://search.pstatic.net/common/?src=https%3A%2F%2Fimgnews.pstatic.net%2Fimage%2Forigin%2F005%2F2021%2F11%2F15%2F1484384.jpg&type=ff264_180&expire=2&refresh=true\n",
      "'하루 수소차 500대 충전량' 춘천 수소추출시설 조성 무산 http://www.kado.net/news/articleView.html?idxno=1099315 강원도민일보 https://search.pstatic.net/common/?src=https%3A%2F%2Fimgnews.pstatic.net%2Fimage%2Forigin%2F5105%2F2021%2F11%2F15%2F549428.jpg&type=ofullfill264_180_gray&expire=2&refresh=true\n"
     ]
    }
   ],
   "source": [
    "for article in articles:\n",
    "    a_tag1 = article.select_one('.news_tit')\n",
    "    \n",
    "    title = a_tag1.text\n",
    "    title_list.append(title.strip())\n",
    "    \n",
    "    url = a_tag1['href']\n",
    "    url_list.append(url.strip())\n",
    "    \n",
    "    comp = article.select_one('a.info.press').text\n",
    "    comp = comp.replace('언론사 선정', '')\n",
    "    comp_list.append(comp.strip())\n",
    "    \n",
    "    try:\n",
    "        thumbnail = article.select_one('div > a > img')['src']\n",
    "        thumbnail_list.append(thumbnail.strip())\n",
    "    \n",
    "    except:\n",
    "        thumbnail_list.append('https://search.pstatic.net/common/?src=https%3A%2F%2Fimgnews.pstatic.net%2Fimage%2Forigin%2F366%2F2021%2F09%2F23%2F762207.jpg&type=ff264_180&expire=2&refresh=true')\n",
    "#         print('썸네일이 없습니다')\n",
    "    \n",
    "    print(title, url, comp, thumbnail)"
   ]
  },
  {
   "cell_type": "code",
   "execution_count": 9,
   "id": "263fa744-4165-42dc-b7fe-6e3fae1a20d5",
   "metadata": {},
   "outputs": [
    {
     "name": "stdout",
     "output_type": "stream",
     "text": [
      "[\"E1, 복합충전소 브랜드 'E1 오렌지 플러스' 런칭\", '요소수 필요 없는 수소트럭 화물운송 현장 투입한다', '‘수소 동맹’ 맺는 기업들…수소는 왜 혼자 못할까', \"E1, 충전·세차하고 커피까지…미래형 복합충전소 '오렌지 플러스' 론칭\", '거제 1호 수소충전소 운영 … 하루 60~70대 충전', '국내 최초 바나듐 이온 배터리 ESS로 전기 충전 실증', \"정유업계 '수소' 바람타고 탈(脫)정유 릴레이\", '일진하이솔루스, 3분기 매출액 268억원…“수소사업 속도낸다”', '‘탈요소수’ 나선 쿠팡… CJ대한통운·현대글로비스 이어 수소트럭 화물운송...', \"'하루 수소차 500대 충전량' 춘천 수소추출시설 조성 무산\"] ['http://www.fnnews.com/news/202111150926525824', 'https://biz.chosun.com/policy/policy_sub/2021/11/15/PTYQIEPJVVFYNERY2N6QBA54IQ/?utm_source=naver&utm_medium=original&utm_campaign=biz', 'https://magazine.hankyung.com/business/article/202111100704b', 'http://www.newsis.com/view/?id=NISX20211115_0001651686&cID=13001&pID=13000', 'https://www.pressian.com/pages/articles/2021111516010989072?utm_source=naver&utm_medium=search', 'http://www.e-platform.net/news/articleView.html?idxno=70315', 'http://www.fortunekorea.co.kr/news/articleView.html?idxno=20612', 'http://www.newsway.co.kr/news/view?tp=1&ud=2021111516402165743', 'http://news.kmib.co.kr/article/view.asp?arcid=0016469857&code=61141111&cp=nv', 'http://www.kado.net/news/articleView.html?idxno=1099315'] ['파이낸셜뉴스', '조선비즈', '한경비즈니스', '뉴시스', '프레시안', '에너지플랫폼뉴스', '포춘코리아', '뉴스웨이', '국민일보', '강원도민일보'] ['https://search.pstatic.net/common/?src=https%3A%2F%2Fimgnews.pstatic.net%2Fimage%2Forigin%2F014%2F2021%2F11%2F15%2F4739580.jpg&type=ff264_180&expire=2&refresh=true', 'https://search.pstatic.net/common/?src=https%3A%2F%2Fimgnews.pstatic.net%2Fimage%2Forigin%2F366%2F2021%2F11%2F15%2F773951.jpg&type=ff264_180&expire=2&refresh=true', 'https://search.pstatic.net/common/?src=https%3A%2F%2Fimgnews.pstatic.net%2Fimage%2Forigin%2F050%2F2021%2F11%2F15%2F59025.jpg&type=ff264_180&expire=2&refresh=true', 'https://search.pstatic.net/common/?src=https%3A%2F%2Fimgnews.pstatic.net%2Fimage%2Forigin%2F003%2F2021%2F11%2F15%2F10833423.jpg&type=ff264_180&expire=2&refresh=true', 'https://search.pstatic.net/common/?src=https%3A%2F%2Fimgnews.pstatic.net%2Fimage%2Forigin%2F002%2F2021%2F11%2F15%2F2218948.jpg&type=ff264_180&expire=2&refresh=true', 'https://search.pstatic.net/common/?src=https%3A%2F%2Fimgnews.pstatic.net%2Fimage%2Forigin%2F5563%2F2021%2F11%2F15%2F12509.jpg&type=ofullfill264_180_gray&expire=2&refresh=true', 'https://search.pstatic.net/common/?src=https%3A%2F%2Fimgnews.pstatic.net%2Fimage%2Forigin%2F5727%2F2021%2F11%2F15%2F2382.jpg&type=ofullfill264_180_gray&expire=2&refresh=true', 'https://search.pstatic.net/common/?src=https%3A%2F%2Fimgnews.pstatic.net%2Fimage%2Forigin%2F5270%2F2021%2F11%2F15%2F738788.jpg&type=ofullfill264_180_gray&expire=2&refresh=true', 'https://search.pstatic.net/common/?src=https%3A%2F%2Fimgnews.pstatic.net%2Fimage%2Forigin%2F005%2F2021%2F11%2F15%2F1484384.jpg&type=ff264_180&expire=2&refresh=true', 'https://search.pstatic.net/common/?src=https%3A%2F%2Fimgnews.pstatic.net%2Fimage%2Forigin%2F5105%2F2021%2F11%2F15%2F549428.jpg&type=ofullfill264_180_gray&expire=2&refresh=true']\n"
     ]
    }
   ],
   "source": [
    "print(title_list, url_list, comp_list, thumbnail_list)"
   ]
  },
  {
   "cell_type": "code",
   "execution_count": 10,
   "id": "1f20c2d5-638e-4c71-9055-556b039bbb63",
   "metadata": {},
   "outputs": [],
   "source": [
    "info = {'제목':title_list, 'url':url_list, '언론사':comp_list, '썸네일':thumbnail_list}"
   ]
  },
  {
   "cell_type": "code",
   "execution_count": 11,
   "id": "d8d12abf-464c-4285-9f30-4153eeb4820f",
   "metadata": {},
   "outputs": [
    {
     "data": {
      "text/plain": [
       "{'제목': [\"E1, 복합충전소 브랜드 'E1 오렌지 플러스' 런칭\",\n",
       "  '요소수 필요 없는 수소트럭 화물운송 현장 투입한다',\n",
       "  '‘수소 동맹’ 맺는 기업들…수소는 왜 혼자 못할까',\n",
       "  \"E1, 충전·세차하고 커피까지…미래형 복합충전소 '오렌지 플러스' 론칭\",\n",
       "  '거제 1호 수소충전소 운영 … 하루 60~70대 충전',\n",
       "  '국내 최초 바나듐 이온 배터리 ESS로 전기 충전 실증',\n",
       "  \"정유업계 '수소' 바람타고 탈(脫)정유 릴레이\",\n",
       "  '일진하이솔루스, 3분기 매출액 268억원…“수소사업 속도낸다”',\n",
       "  '‘탈요소수’ 나선 쿠팡… CJ대한통운·현대글로비스 이어 수소트럭 화물운송...',\n",
       "  \"'하루 수소차 500대 충전량' 춘천 수소추출시설 조성 무산\"],\n",
       " 'url': ['http://www.fnnews.com/news/202111150926525824',\n",
       "  'https://biz.chosun.com/policy/policy_sub/2021/11/15/PTYQIEPJVVFYNERY2N6QBA54IQ/?utm_source=naver&utm_medium=original&utm_campaign=biz',\n",
       "  'https://magazine.hankyung.com/business/article/202111100704b',\n",
       "  'http://www.newsis.com/view/?id=NISX20211115_0001651686&cID=13001&pID=13000',\n",
       "  'https://www.pressian.com/pages/articles/2021111516010989072?utm_source=naver&utm_medium=search',\n",
       "  'http://www.e-platform.net/news/articleView.html?idxno=70315',\n",
       "  'http://www.fortunekorea.co.kr/news/articleView.html?idxno=20612',\n",
       "  'http://www.newsway.co.kr/news/view?tp=1&ud=2021111516402165743',\n",
       "  'http://news.kmib.co.kr/article/view.asp?arcid=0016469857&code=61141111&cp=nv',\n",
       "  'http://www.kado.net/news/articleView.html?idxno=1099315'],\n",
       " '언론사': ['파이낸셜뉴스',\n",
       "  '조선비즈',\n",
       "  '한경비즈니스',\n",
       "  '뉴시스',\n",
       "  '프레시안',\n",
       "  '에너지플랫폼뉴스',\n",
       "  '포춘코리아',\n",
       "  '뉴스웨이',\n",
       "  '국민일보',\n",
       "  '강원도민일보'],\n",
       " '썸네일': ['https://search.pstatic.net/common/?src=https%3A%2F%2Fimgnews.pstatic.net%2Fimage%2Forigin%2F014%2F2021%2F11%2F15%2F4739580.jpg&type=ff264_180&expire=2&refresh=true',\n",
       "  'https://search.pstatic.net/common/?src=https%3A%2F%2Fimgnews.pstatic.net%2Fimage%2Forigin%2F366%2F2021%2F11%2F15%2F773951.jpg&type=ff264_180&expire=2&refresh=true',\n",
       "  'https://search.pstatic.net/common/?src=https%3A%2F%2Fimgnews.pstatic.net%2Fimage%2Forigin%2F050%2F2021%2F11%2F15%2F59025.jpg&type=ff264_180&expire=2&refresh=true',\n",
       "  'https://search.pstatic.net/common/?src=https%3A%2F%2Fimgnews.pstatic.net%2Fimage%2Forigin%2F003%2F2021%2F11%2F15%2F10833423.jpg&type=ff264_180&expire=2&refresh=true',\n",
       "  'https://search.pstatic.net/common/?src=https%3A%2F%2Fimgnews.pstatic.net%2Fimage%2Forigin%2F002%2F2021%2F11%2F15%2F2218948.jpg&type=ff264_180&expire=2&refresh=true',\n",
       "  'https://search.pstatic.net/common/?src=https%3A%2F%2Fimgnews.pstatic.net%2Fimage%2Forigin%2F5563%2F2021%2F11%2F15%2F12509.jpg&type=ofullfill264_180_gray&expire=2&refresh=true',\n",
       "  'https://search.pstatic.net/common/?src=https%3A%2F%2Fimgnews.pstatic.net%2Fimage%2Forigin%2F5727%2F2021%2F11%2F15%2F2382.jpg&type=ofullfill264_180_gray&expire=2&refresh=true',\n",
       "  'https://search.pstatic.net/common/?src=https%3A%2F%2Fimgnews.pstatic.net%2Fimage%2Forigin%2F5270%2F2021%2F11%2F15%2F738788.jpg&type=ofullfill264_180_gray&expire=2&refresh=true',\n",
       "  'https://search.pstatic.net/common/?src=https%3A%2F%2Fimgnews.pstatic.net%2Fimage%2Forigin%2F005%2F2021%2F11%2F15%2F1484384.jpg&type=ff264_180&expire=2&refresh=true',\n",
       "  'https://search.pstatic.net/common/?src=https%3A%2F%2Fimgnews.pstatic.net%2Fimage%2Forigin%2F5105%2F2021%2F11%2F15%2F549428.jpg&type=ofullfill264_180_gray&expire=2&refresh=true']}"
      ]
     },
     "execution_count": 11,
     "metadata": {},
     "output_type": "execute_result"
    }
   ],
   "source": [
    "info"
   ]
  },
  {
   "cell_type": "code",
   "execution_count": 12,
   "id": "f86b9d5d-ad7b-495a-adf5-62276c864b69",
   "metadata": {},
   "outputs": [],
   "source": [
    "news = pd.DataFrame(info)"
   ]
  },
  {
   "cell_type": "code",
   "execution_count": 13,
   "id": "116a7f05-e5b3-4d0c-b294-ac1d9e75ccb8",
   "metadata": {},
   "outputs": [
    {
     "data": {
      "text/plain": [
       "'요소수 필요 없는 수소트럭 화물운송 현장 투입한다'"
      ]
     },
     "execution_count": 13,
     "metadata": {},
     "output_type": "execute_result"
    }
   ],
   "source": [
    "(news.제목[1])"
   ]
  },
  {
   "cell_type": "code",
   "execution_count": null,
   "id": "9ff5b151-7b4f-4322-b4a3-de9fd6be6611",
   "metadata": {},
   "outputs": [],
   "source": []
  }
 ],
 "metadata": {
  "kernelspec": {
   "display_name": "mongta",
   "language": "python",
   "name": "mongta"
  },
  "language_info": {
   "codemirror_mode": {
    "name": "ipython",
    "version": 3
   },
   "file_extension": ".py",
   "mimetype": "text/x-python",
   "name": "python",
   "nbconvert_exporter": "python",
   "pygments_lexer": "ipython3",
   "version": "3.8.12"
  }
 },
 "nbformat": 4,
 "nbformat_minor": 5
}
