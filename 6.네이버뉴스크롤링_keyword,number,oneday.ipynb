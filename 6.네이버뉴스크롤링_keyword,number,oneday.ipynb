{
 "cells": [
  {
   "cell_type": "code",
   "execution_count": 1,
   "id": "db6eed67-fcd7-4beb-92f0-c44b49efc72a",
   "metadata": {},
   "outputs": [],
   "source": [
    "import requests\n",
    "from bs4 import BeautifulSoup\n",
    "import pandas as pd"
   ]
  },
  {
   "cell_type": "code",
   "execution_count": 2,
   "id": "b3382112-fe73-439e-98e0-2a8cf4d80969",
   "metadata": {},
   "outputs": [
    {
     "name": "stdin",
     "output_type": "stream",
     "text": [
      "검색할 키워드를 입력해주세요. :  엘라스틱\n"
     ]
    }
   ],
   "source": [
    "search = input(\"검색할 키워드를 입력해주세요. : \")"
   ]
  },
  {
   "cell_type": "code",
   "execution_count": 3,
   "id": "3350fe36-9e87-4c80-817d-e79c7d02bf24",
   "metadata": {},
   "outputs": [
    {
     "name": "stdin",
     "output_type": "stream",
     "text": [
      "총 필요한 뉴스기사 수를 입력해주세요.(한 페이지 당 뉴스 10개 검색, 2선택시 20개 뉴스기사, 숫자만 검색) :  4\n"
     ]
    }
   ],
   "source": [
    "news_num = int(input('총 필요한 뉴스기사 수를 입력해주세요.(한 페이지 당 뉴스 10개 검색, 2선택시 20개 뉴스기사, 숫자만 검색) : '))"
   ]
  },
  {
   "cell_type": "code",
   "execution_count": 4,
   "id": "4cb56fc0-299c-444a-8e43-1c42a41603c1",
   "metadata": {},
   "outputs": [
    {
     "name": "stdout",
     "output_type": "stream",
     "text": [
      "2021.11.17.17.05\n",
      "2021.11.17\n"
     ]
    }
   ],
   "source": [
    "import datetime\n",
    "now = datetime.datetime.now()\n",
    "nowDatetime = now.strftime('%Y.%m.%d.%H.%M')\n",
    "nowDate = now.strftime('%Y.%m.%d')\n",
    "print(nowDatetime) \n",
    "print(nowDate)"
   ]
  },
  {
   "cell_type": "code",
   "execution_count": 5,
   "id": "4be5ae5e-861a-45f7-9db3-46d8d1b9603c",
   "metadata": {},
   "outputs": [
    {
     "name": "stdout",
     "output_type": "stream",
     "text": [
      "2021.11.16.17.05\n"
     ]
    }
   ],
   "source": [
    "from datetime import datetime, timedelta\n",
    "deforeDatetime = now - timedelta(days=1)\n",
    "deforeDatetime = deforeDatetime.strftime('%Y.%m.%d.%H.%M')\n",
    "print(deforeDatetime)  # 2015-04-19 12:11:32"
   ]
  },
  {
   "cell_type": "code",
   "execution_count": 6,
   "id": "d52544bb-2009-4f37-af17-69465070bb2c",
   "metadata": {},
   "outputs": [],
   "source": [
    "response1 = 'https://search.naver.com/search.naver?where=news&sm=tab_jum&query='+ search\n",
    "response2= '&sort=0&photo=0&field=0&pd=4&ds=' + nowDatetime + '&de=' + deforeDatetime + '&cluster_rank=27&mynews=0&office_type=0&office_section_code=0&news_office_checked=&nso=so:r,p:1d,a:all&start='\n",
    "postNum = 1"
   ]
  },
  {
   "cell_type": "code",
   "execution_count": 7,
   "id": "c88fa4ac-6265-4ed0-bdfc-de0b8f0c3d1b",
   "metadata": {},
   "outputs": [],
   "source": [
    "title_list = []\n",
    "url_list = []\n",
    "comp_list = []\n",
    "thumbnail_list = []\n",
    "text_list = []\n",
    "day_list = []"
   ]
  },
  {
   "cell_type": "code",
   "execution_count": 8,
   "id": "ceb6f29e-ad23-446d-9723-78752eda9fc8",
   "metadata": {},
   "outputs": [
    {
     "name": "stdout",
     "output_type": "stream",
     "text": [
      "AWS \"스타트업 비즈니스, AWS의 AI‧ML 서비스로 혁신하라\" http://www.itdaily.kr/news/articleView.html?idxno=205123 아이티데일리 https://search.pstatic.net/common/?src=https%3A%2F%2Fimgnews.pstatic.net%2Fimage%2Forigin%2F5046%2F2021%2F11%2F17%2F88958.jpg&type=ofullfill264_180_gray&expire=2&refresh=true 인스턴스', '엘라스틱 인퍼런스' 등이 적합하다고 소개했다. 와디즈가 활용하고 있는 AWS의 AI 서비스 한편, 이날 간담회에는 AWS의 스타트업 대표 고객인 와디즈와 무신사의 사례도 소개됐다. 와디즈는 프로젝트가... 2021.11.17\n"
     ]
    }
   ],
   "source": [
    "for i in range(news_num): #몇 페이지 까지 불러올지 \n",
    "    #response = response1+parse.quote_plus(search)+response2+str(postNum)\n",
    "    response = requests.get(response1+response2+str(postNum))\n",
    "\n",
    "    html = response.text\n",
    "\n",
    "    soup = BeautifulSoup(html, 'html.parser')\n",
    "\n",
    "    articles = soup.select('#main_pack > section > div > div.group_news > ul > li')\n",
    "    \n",
    "    postNum = postNum+10\n",
    "\n",
    "\n",
    "    for article in articles:\n",
    "        a_tag1 = article.select_one('.news_tit')\n",
    "\n",
    "\n",
    "        title = a_tag1.text\n",
    "        title_list.append(title.strip())\n",
    "\n",
    "        url = a_tag1['href']\n",
    "        url_list.append(url.strip())\n",
    "\n",
    "        comp = article.select_one('a.info.press').text\n",
    "        comp = comp.replace('언론사 선정', '')\n",
    "        comp_list.append(comp.strip())\n",
    "\n",
    "        try:\n",
    "            thumbnail = article.select_one('div > a > img')['src']\n",
    "            thumbnail_list.append(thumbnail.strip())\n",
    "\n",
    "        except:\n",
    "            thumbnail_list.append('https://search.pstatic.net/common/?src=https%3A%2F%2Fimgnews.pstatic.net%2Fimage%2Forigin%2F366%2F2021%2F09%2F23%2F762207.jpg&type=ff264_180&expire=2&refresh=true')\n",
    "    #         print('썸네일이 없습니다')\n",
    "\n",
    "        text = article.select_one('a.api_txt_lines.dsc_txt_wrap').text\n",
    "        text_list.append(text.strip())\n",
    "        \n",
    "        day_list.append(nowDate)\n",
    "        \n",
    "\n",
    "        print(title, url, comp, thumbnail, text, nowDate)"
   ]
  },
  {
   "cell_type": "code",
   "execution_count": 9,
   "id": "263fa744-4165-42dc-b7fe-6e3fae1a20d5",
   "metadata": {},
   "outputs": [
    {
     "name": "stdout",
     "output_type": "stream",
     "text": [
      "['AWS \"스타트업 비즈니스, AWS의 AI‧ML 서비스로 혁신하라\"'] ['http://www.itdaily.kr/news/articleView.html?idxno=205123'] ['아이티데일리'] ['https://search.pstatic.net/common/?src=https%3A%2F%2Fimgnews.pstatic.net%2Fimage%2Forigin%2F5046%2F2021%2F11%2F17%2F88958.jpg&type=ofullfill264_180_gray&expire=2&refresh=true'] [\"인스턴스', '엘라스틱 인퍼런스' 등이 적합하다고 소개했다. 와디즈가 활용하고 있는 AWS의 AI 서비스 한편, 이날 간담회에는 AWS의 스타트업 대표 고객인 와디즈와 무신사의 사례도 소개됐다. 와디즈는 프로젝트가...\"] ['2021.11.17']\n"
     ]
    }
   ],
   "source": [
    "print(title_list, url_list, comp_list, thumbnail_list, text_list, day_list)"
   ]
  },
  {
   "cell_type": "code",
   "execution_count": 10,
   "id": "1f20c2d5-638e-4c71-9055-556b039bbb63",
   "metadata": {},
   "outputs": [],
   "source": [
    "info = {'제목':title_list, 'url':url_list, '언론사':comp_list, '썸네일':thumbnail_list, '내용':text_list, '수집 날짜':day_list}"
   ]
  },
  {
   "cell_type": "code",
   "execution_count": 11,
   "id": "d8d12abf-464c-4285-9f30-4153eeb4820f",
   "metadata": {},
   "outputs": [
    {
     "data": {
      "text/plain": [
       "{'제목': ['AWS \"스타트업 비즈니스, AWS의 AI‧ML 서비스로 혁신하라\"'],\n",
       " 'url': ['http://www.itdaily.kr/news/articleView.html?idxno=205123'],\n",
       " '언론사': ['아이티데일리'],\n",
       " '썸네일': ['https://search.pstatic.net/common/?src=https%3A%2F%2Fimgnews.pstatic.net%2Fimage%2Forigin%2F5046%2F2021%2F11%2F17%2F88958.jpg&type=ofullfill264_180_gray&expire=2&refresh=true'],\n",
       " '내용': [\"인스턴스', '엘라스틱 인퍼런스' 등이 적합하다고 소개했다. 와디즈가 활용하고 있는 AWS의 AI 서비스 한편, 이날 간담회에는 AWS의 스타트업 대표 고객인 와디즈와 무신사의 사례도 소개됐다. 와디즈는 프로젝트가...\"],\n",
       " '수집 날짜': ['2021.11.17']}"
      ]
     },
     "execution_count": 11,
     "metadata": {},
     "output_type": "execute_result"
    }
   ],
   "source": [
    "info"
   ]
  },
  {
   "cell_type": "code",
   "execution_count": 12,
   "id": "f86b9d5d-ad7b-495a-adf5-62276c864b69",
   "metadata": {},
   "outputs": [],
   "source": [
    "news = pd.DataFrame(info)"
   ]
  },
  {
   "cell_type": "code",
   "execution_count": 13,
   "id": "116a7f05-e5b3-4d0c-b294-ac1d9e75ccb8",
   "metadata": {},
   "outputs": [
    {
     "data": {
      "text/plain": [
       "'AWS \"스타트업 비즈니스, AWS의 AI‧ML 서비스로 혁신하라\"'"
      ]
     },
     "execution_count": 13,
     "metadata": {},
     "output_type": "execute_result"
    }
   ],
   "source": [
    "(news.제목[0])"
   ]
  },
  {
   "cell_type": "markdown",
   "id": "fd08726b-b562-4504-8af9-aa2104786ce6",
   "metadata": {},
   "source": [
    "## 날짜 함수 연습"
   ]
  },
  {
   "cell_type": "code",
   "execution_count": 11,
   "id": "571f087d-7411-46aa-91bd-e05a54690229",
   "metadata": {},
   "outputs": [
    {
     "name": "stdout",
     "output_type": "stream",
     "text": [
      "2021-11-17 16:35:14.121840\n"
     ]
    }
   ],
   "source": [
    "import datetime\n",
    "now = datetime.datetime.now()\n",
    "print(now)\n"
   ]
  },
  {
   "cell_type": "code",
   "execution_count": 15,
   "id": "1d6fb7f2-2a4f-47fc-bbe7-782a7d53c236",
   "metadata": {},
   "outputs": [
    {
     "name": "stdout",
     "output_type": "stream",
     "text": [
      "2021.11.17.16.38\n"
     ]
    }
   ],
   "source": [
    "import time\n",
    "now = time.localtime()\n",
    "print(\"%04d.%02d.%02d.%02d.%02d\" % (now.tm_year, now.tm_mon, now.tm_mday, now.tm_hour, now.tm_min))"
   ]
  },
  {
   "cell_type": "code",
   "execution_count": 17,
   "id": "688c3a2f-b6a9-4d7a-8c53-c9f8e9b0edf4",
   "metadata": {},
   "outputs": [
    {
     "name": "stdout",
     "output_type": "stream",
     "text": [
      "2021.11.16.16.40\n"
     ]
    }
   ],
   "source": [
    "import time\n",
    "now = time.localtime()\n",
    "print(\"%04d.%02d.%02d.%02d.%02d\" % (now.tm_year, now.tm_mon, now.tm_mday-1, now.tm_hour, now.tm_min))"
   ]
  },
  {
   "cell_type": "code",
   "execution_count": 18,
   "id": "9f603fd9-5da7-49af-a235-8654159cb014",
   "metadata": {},
   "outputs": [
    {
     "name": "stdout",
     "output_type": "stream",
     "text": [
      "2021-11-17 16:40:52.314112\n",
      "2021-11-17\n",
      "16:40:52\n",
      "2021-11-17 16:40:52\n"
     ]
    }
   ],
   "source": [
    "import datetime\n",
    " \n",
    "now = datetime.datetime.now()\n",
    "print(now)          # 2015-04-19 12:11:32.669083\n",
    " \n",
    "nowDate = now.strftime('%Y-%m-%d')\n",
    "print(nowDate)      # 2015-04-19\n",
    " \n",
    "nowTime = now.strftime('%H:%M:%S')\n",
    "print(nowTime)      # 12:11:32\n",
    " \n",
    "nowDatetime = now.strftime('%Y-%m-%d %H:%M:%S')\n",
    "print(nowDatetime)  # 2015-04-19 12:11:32"
   ]
  },
  {
   "cell_type": "code",
   "execution_count": 19,
   "id": "5203578a-b3d5-4691-a956-bc4d49e687a6",
   "metadata": {},
   "outputs": [
    {
     "name": "stdout",
     "output_type": "stream",
     "text": [
      "2021.11.17.16.40\n"
     ]
    }
   ],
   "source": [
    "import datetime\n",
    "nowDatetime = now.strftime('%Y.%m.%d.%H.%M')\n",
    "print(nowDatetime)  # 2015-04-19 12:11:32"
   ]
  },
  {
   "cell_type": "code",
   "execution_count": 27,
   "id": "4d218079-37a0-4777-bc5b-bcaa7c80ae81",
   "metadata": {},
   "outputs": [
    {
     "data": {
      "text/plain": [
       "str"
      ]
     },
     "execution_count": 27,
     "metadata": {},
     "output_type": "execute_result"
    }
   ],
   "source": [
    "type(nowDatetime)"
   ]
  },
  {
   "cell_type": "code",
   "execution_count": 25,
   "id": "d5292e2d-a73c-4411-bd91-f1ac232c8541",
   "metadata": {},
   "outputs": [
    {
     "name": "stdout",
     "output_type": "stream",
     "text": [
      "2021.11.16.16.40\n"
     ]
    }
   ],
   "source": [
    "from datetime import datetime, timedelta\n",
    "deforeDatetime = now - timedelta(days=1)\n",
    "deforeDatetime = deforeDatetime.strftime('%Y.%m.%d.%H.%M')\n",
    "print(deforeDatetime)  # 2015-04-19 12:11:32"
   ]
  },
  {
   "cell_type": "markdown",
   "id": "475e95d1-c4eb-47cf-85bd-b9e94639bcd0",
   "metadata": {},
   "source": [
    "## 네이버뉴스 하루단위만 뜨게 하는 코드"
   ]
  },
  {
   "cell_type": "code",
   "execution_count": null,
   "id": "a2e8cd14-5904-47ec-b1f0-03654f79c4f6",
   "metadata": {},
   "outputs": [],
   "source": [
    "#https://search.naver.com/search.naver?where=news&sm=tab_pge&query='몽타'&sort=0&photo=0&field=0&pd=4&ds=2021.11.16.16.28&de=2021.11.17.16.28&cluster_rank=27&mynews=0&office_type=0&office_section_code=0&news_office_checked=&nso=so:r,p:1d,a:all"
   ]
  }
 ],
 "metadata": {
  "kernelspec": {
   "display_name": "mongta",
   "language": "python",
   "name": "mongta"
  },
  "language_info": {
   "codemirror_mode": {
    "name": "ipython",
    "version": 3
   },
   "file_extension": ".py",
   "mimetype": "text/x-python",
   "name": "python",
   "nbconvert_exporter": "python",
   "pygments_lexer": "ipython3",
   "version": "3.8.12"
  }
 },
 "nbformat": 4,
 "nbformat_minor": 5
}
