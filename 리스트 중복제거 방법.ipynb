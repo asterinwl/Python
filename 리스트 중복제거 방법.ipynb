{
 "cells": [
  {
   "cell_type": "code",
   "execution_count": 1,
   "id": "77d0e4ec-31ba-4ec0-a633-a34e16b3c458",
   "metadata": {},
   "outputs": [],
   "source": [
    "a=[1,2,3,4,5,6,7,8,9,9,1,2]"
   ]
  },
  {
   "cell_type": "code",
   "execution_count": 3,
   "id": "1d4fa1f9-9a03-41f9-ac45-30a7056b2a1e",
   "metadata": {},
   "outputs": [],
   "source": [
    "b=[2,3,4,5,6,7,8,9,1,2,3,4,5,6]"
   ]
  },
  {
   "cell_type": "markdown",
   "id": "342e91cf-b0ba-4ca8-9a9c-3fe2c2405956",
   "metadata": {},
   "source": [
    "## 작은 수부터 정렬하여 중복제거"
   ]
  },
  {
   "cell_type": "code",
   "execution_count": 2,
   "id": "681e475f-411c-4e0c-8722-d223ee2f467d",
   "metadata": {},
   "outputs": [
    {
     "data": {
      "text/plain": [
       "{1, 2, 3, 4, 5, 6, 7, 8, 9}"
      ]
     },
     "execution_count": 2,
     "metadata": {},
     "output_type": "execute_result"
    }
   ],
   "source": [
    "set(a)"
   ]
  },
  {
   "cell_type": "code",
   "execution_count": 4,
   "id": "0fb93e86-d3d8-4e5d-a137-1a7f0069e1fe",
   "metadata": {},
   "outputs": [
    {
     "data": {
      "text/plain": [
       "{1, 2, 3, 4, 5, 6, 7, 8, 9}"
      ]
     },
     "execution_count": 4,
     "metadata": {},
     "output_type": "execute_result"
    }
   ],
   "source": [
    "set(b)"
   ]
  },
  {
   "cell_type": "code",
   "execution_count": 5,
   "id": "56cda872-6e29-4cf4-bfa2-b847ea56649f",
   "metadata": {},
   "outputs": [
    {
     "data": {
      "text/plain": [
       "[1, 2, 3, 4, 5, 6, 7, 8, 9]"
      ]
     },
     "execution_count": 5,
     "metadata": {},
     "output_type": "execute_result"
    }
   ],
   "source": [
    "sorted(set(b))"
   ]
  },
  {
   "cell_type": "markdown",
   "id": "e6275bee-9232-4408-b343-7a4029ae4786",
   "metadata": {},
   "source": [
    "## 원본모양 유지하며 중복제거"
   ]
  },
  {
   "cell_type": "code",
   "execution_count": 7,
   "id": "d9b1b354-16da-4a0a-9718-269cfe845fb0",
   "metadata": {},
   "outputs": [
    {
     "data": {
      "text/plain": [
       "[2, 3, 4, 5, 6, 7, 8, 9, 1]"
      ]
     },
     "execution_count": 7,
     "metadata": {},
     "output_type": "execute_result"
    }
   ],
   "source": [
    "sorted(set(b),key=lambda x:b.index(x))"
   ]
  },
  {
   "cell_type": "code",
   "execution_count": 10,
   "id": "f8f20a11-52b9-466a-8d3b-0b2b0f41e117",
   "metadata": {},
   "outputs": [
    {
     "data": {
      "text/plain": [
       "[2, 3, 4, 5, 6, 7, 8, 9, 1]"
      ]
     },
     "execution_count": 10,
     "metadata": {},
     "output_type": "execute_result"
    }
   ],
   "source": [
    "list(dict.fromkeys(b))"
   ]
  },
  {
   "cell_type": "markdown",
   "id": "a3327663-c17d-4292-afd4-4678b7165a4a",
   "metadata": {},
   "source": [
    "## 특정 자리 수 가져오기"
   ]
  },
  {
   "cell_type": "code",
   "execution_count": 12,
   "id": "f24da445-3b44-4dfb-99a6-331ab23da618",
   "metadata": {},
   "outputs": [
    {
     "data": {
      "text/plain": [
       "[2, 3, 4, 5, 6]"
      ]
     },
     "execution_count": 12,
     "metadata": {},
     "output_type": "execute_result"
    }
   ],
   "source": [
    "b[0:5]"
   ]
  },
  {
   "cell_type": "code",
   "execution_count": 13,
   "id": "795c2db4-9da3-4d0a-b136-3620029d74f9",
   "metadata": {},
   "outputs": [
    {
     "data": {
      "text/plain": [
       "[1, 2, 3, 4, 5]"
      ]
     },
     "execution_count": 13,
     "metadata": {},
     "output_type": "execute_result"
    }
   ],
   "source": [
    "a[0:5]"
   ]
  }
 ],
 "metadata": {
  "kernelspec": {
   "display_name": "mongta",
   "language": "python",
   "name": "mongta"
  },
  "language_info": {
   "codemirror_mode": {
    "name": "ipython",
    "version": 3
   },
   "file_extension": ".py",
   "mimetype": "text/x-python",
   "name": "python",
   "nbconvert_exporter": "python",
   "pygments_lexer": "ipython3",
   "version": "3.8.12"
  }
 },
 "nbformat": 4,
 "nbformat_minor": 5
}
