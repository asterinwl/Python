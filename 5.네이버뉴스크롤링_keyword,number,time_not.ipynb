{
 "cells": [
  {
   "cell_type": "code",
   "execution_count": 1,
   "id": "db6eed67-fcd7-4beb-92f0-c44b49efc72a",
   "metadata": {},
   "outputs": [],
   "source": [
    "import requests\n",
    "from bs4 import BeautifulSoup\n",
    "import pandas as pd\n",
    "import time\n",
    "import schedule"
   ]
  },
  {
   "cell_type": "code",
   "execution_count": 2,
   "id": "b3382112-fe73-439e-98e0-2a8cf4d80969",
   "metadata": {},
   "outputs": [
    {
     "name": "stdin",
     "output_type": "stream",
     "text": [
      "검색할 키워드를 입력해주세요: 몽타\n"
     ]
    }
   ],
   "source": [
    "search = input(\"검색할 키워드를 입력해주세요:\")"
   ]
  },
  {
   "cell_type": "code",
   "execution_count": 3,
   "id": "3350fe36-9e87-4c80-817d-e79c7d02bf24",
   "metadata": {},
   "outputs": [
    {
     "name": "stdin",
     "output_type": "stream",
     "text": [
      "총 필요한 뉴스기사 수를 입력해주세요.(한 페이지 당 뉴스 10개 검색, 2선택시 20개 뉴스기사, 숫자만 검색) :  2\n"
     ]
    }
   ],
   "source": [
    "news_num = int(input('총 필요한 뉴스기사 수를 입력해주세요.(한 페이지 당 뉴스 10개 검색, 2선택시 20개 뉴스기사, 숫자만 검색) : '))"
   ]
  },
  {
   "cell_type": "code",
   "execution_count": 4,
   "id": "d52544bb-2009-4f37-af17-69465070bb2c",
   "metadata": {},
   "outputs": [],
   "source": [
    "response1 = 'https://search.naver.com/search.naver?where=news&sm=tab_jum&query='+ search\n",
    "response2= \"&start=\"\n",
    "postNum = 1"
   ]
  },
  {
   "cell_type": "code",
   "execution_count": 5,
   "id": "c88fa4ac-6265-4ed0-bdfc-de0b8f0c3d1b",
   "metadata": {},
   "outputs": [],
   "source": [
    "title_list = []\n",
    "url_list = []\n",
    "comp_list = []\n",
    "#thumbnail_list = []\n",
    "text_list = []"
   ]
  },
  {
   "cell_type": "code",
   "execution_count": 6,
   "id": "ceb6f29e-ad23-446d-9723-78752eda9fc8",
   "metadata": {},
   "outputs": [
    {
     "name": "stdout",
     "output_type": "stream",
     "text": [
      "파리에 오픈한 일러스트레이터의 마린 몽타구의 감각적인 소품숍 https://www.maisonkorea.com/2020/09/04/%ec%9d%bc%eb%9f%ac%ec%8a%a4%ed%8a%b8%eb%a0%88%ec%9d%b4%ed%84%b0%ec%9d%98-%ec%86%8c%ed%92%88%ec%88%8d/?_N_=01 메종 다양한 분야에서 활동하는 일러스트레이터 마린 몽타구의 소품 매장이 파리 한복판에 문을 열었다. 가장 파리지앵 답다는 평가를 받고 있는 일러스트레이터 마린 몽타구 Marin Montagut의 소품 매장이 지난 6월...\n",
      "김상경, 15년만에 형사 \"살인의추억 미제사건 몽타주서 해결한 느낌\" http://www.nocutnews.co.kr/Show.asp?IDX=2467972 노컷뉴스 영화 '몽타주'에서다. 몽타주는 완전범죄로 끝난 15년 전 미결사건이 공소시효 며칠을 앞두고 다시 발생하면서 15년전 범죄 피해자와 당시 사건담당형사가 다시 사건에 뛰어들어 범인을 추적한다는 내용의 스릴러....\n",
      "한립철강, 佛에 굴삭기브레이커 공급 http://www.hankyung.com/news/app/newsview.php?aid=2011122235381 한국경제 스테니치 몽타베르트 사장이 업무 협조를 담은 협약서를 교환하고 있다. /한립철강 제공 내년 2000만弗 수출 목표 특수강 및 금형강 전문업체인 한립철강(대표 서재열)이 프랑스 몽타베르트에 굴삭기용 브레이커...\n",
      "中 \"中 간첩들 미 정부내 암약은 완전 날조\" https://news.naver.com/main/read.naver?mode=LSD&mid=sec&sid1=104&oid=001&aid=0000037685 연합뉴스 로널드 몽타페르토 군사 분석가가 중국대사관 무관들인 인민해방군소장과 공군 장교 위정허 등과의 절친한 관계를 통해 기밀자료를 유출했으며 몽타페르토는 FBI 조사 당시인 92년 초 국방부 정보국 중국처...\n",
      "[책 속의 풍경]암흑기로 불리는 중세, 그 속살은 어땠을까 http://www.khan.co.kr/kh_news/art_view.html?artid=201303011925225&code=900308 경향신문 기록했던 몽타유의 침실 이야기들은 여성들이 실생활에서도 상당히 자유로웠음을 보여준다. 특히 이 이야기들은 남성을 유혹하는 다양한 기술에 대해서 기록하고 있다. 몽타유의 사제가 고백한 것처럼 사회적 지위는...\n",
      "남영호씨, 몽펠리에축제 신작 위촉받아 https://news.naver.com/main/read.naver?mode=LSD&mid=sec&sid1=100&oid=001&aid=0001043338 연합뉴스 이 축제의 장-폴 몽타나리(Jean-Paul Montanari) 예술감독은 지난 3일 남씨를 만난 자리에서 내년 제26회... 몽타나리 감독은 아울러 서울세계무용축제(SIDance) 측에 이 작품의 공동 제작자로 참여해 달라고 제안했다....\n",
      "[김상미의 창업 클리닉] 온라인마케팅성공사례 황금피켈상패 국내제작사 엔케... https://www.econovill.com/news/articleView.html?idxno=378981 이코노믹리뷰 고산등반협회와 몽타뉴라는 프랑스 산악전문지가 제정한 상이다. 한 해 동안 최고의 등정을 한... 한국의 산악전문지인 [월간 사람과 산]이 프랑스 산악전문지 [몽타뉴]와 협업해서 2006년부터 시상하고...\n",
      "[더벨]두산인프라, '구조조정의 힘' 순차입금 8년만에 최저 http://www.thebell.co.kr/front/free/contents/news/article_view.asp?key=201802080100016650001025 더벨 비주력 법인인 몽타베르도 매각한 결과 두산인프라코어는 약 2270억원의 구조조정 효과를 거뒀다. 이듬해에는 두산밥캣 기업공개(IPO)로 3000억원의 현금을 확보했다. 포트폴리오 재편 작업도 병행했다....\n",
      "조현 외교부 2차관, 구르도-몽타뉴 佛 외교 차관과 '북핵 공조' 논의 http://www.asiatoday.co.kr/view.php?key=20171207010003894 아시아투데이 구르도-몽타 외교부 차관과 만나 한·불 관계 증진과 북핵대응 공조 등에 대해 의견을 교환했다. 조 차관은... 이에 구르도-몽타뉴 차관은 “평창동계올림픽이 안전하고 성공적으로 개최될 것이라는 확신을 갖고 있다”...\n",
      "마스터 소믈리에 전성완의 ‘와인의 정석’…상파뉴의 쌍두마차! 돔 루이나 &... http://sports.khan.co.kr/news/sk_index.html?art_id=201707182102003&sec_id=563101&pt=nv 스포츠경향 샹파뉴 중심 지역인 실러니·푸시외가 위치한 몽타뉴 드 랭스 지역에서 생산되는 샤르도네만 사용하기 때문에 순수 혈통을 자랑한다. 몽타뉴 샴페인은 다른 지역과 달리 좀 더 묵직하고 둥글둥글한 맛이 특징이다....\n",
      "바닥만 파던 굴삭기주, 구조조정 효과에 '기지개' http://stock.hankyung.com/news/app/newsview.php?aid=2016042260021 한국경제 벨기에 브라질 등지에 있는 수익성이 떨어진 생산 공장을 폐쇄하고 비주력 사업인 프랑스 자회사 몽타베르도 매각했다. ◆가시화되는 구조조정 효과 추락하던 중국 건설시장이 되살아나면서 반전이 시작됐다. 중국...\n",
      "두산인프라코어, 中 굴착기 판매 호조로 1분기 흑자 기대 http://news.mk.co.kr/newsRead.php?no=281774&year=2016 매일경제 벨기에·브라질 등지에 있는 수익성이 떨어진 생산 공장을 폐쇄하고 비주력 사업인 프랑스 자회사 몽타베르도 매각했다. 회사 측은 이 같은 구조조정 과정에서 총 7349억원의 비용이 소요된 것으로 계산했다....\n",
      "모바일 영상 콘텐츠 POOP TV, 차별성 있는 360VR에 도전장 http://www.viva100.com/main/view.php?key=20160222001745569 브릿지경제 콘텐츠 ‘오빠 뭐해?’ 시리즈를 360 VR로 제공할 예정이다. 이재복 · 임도경 기자 jaebok3693@viva100.com몽타미디어 이승훈 감독 외 임직원들 (사진제공 = 임도경기자)360 VR로 촬영한 스텔라 '찔려'(사진제공 = 임도경기자)\n",
      "[유라시안 경제 브리핑] 7월 3일 http://biz.chosun.com/site/data/html_dir/2015/07/03/2015070300769.html 조선비즈 <프랑스> 프랑스 파리 사법당국이 미국 패스트푸드 체인점인 맥도날드가 오래된 카페와 상점이 밀집한 몽타지구에 재개장하는 것을 2일 불허했다고 프랑스 영문매체 프랑스24가 보도했다. 당국은 전통상권과 청소년의...\n",
      "서울서 통영까지, 클래식에 싸인 봄 http://news.donga.com/3/all/20150401/70459893/1 동아일보 20세기 독일 다다이스트들의 포토몽타주 작업에서 착안했다는 젊은 작곡가 박명훈의 ‘몽타’도 세계 초연된다. 7일 오후 8시 서울 강남구 LG아트센터에서 열리는 두 번째 공연은 정명훈 예술감독이 지휘봉을 잡고...\n",
      "서울시향 진은숙의 ‘아르스 노바’ 外 클래식 음악제 ‘풍성’ http://news.donga.com/3/all/20150331/70447321/1 동아일보 20세기 독일 다다이스트들의 포토몽타주 작업에서 착안했다는 젊은 작곡가 박명훈의 ‘몽타’도 세계 초연된다. 7일 오후8시 서울 강남구 LG아트센터에서 열리는 두 번째 공연은 정명훈 예술감독이 지휘봉을 잡고...\n",
      "서울시향 아르스 노바 10년째.. 올해는 프랑스·미국 현대음악 http://www.ajunews.com/view/20150331082359922 아주경제 2013년 국제윤이상작곡상 등 여러 콩쿠르 입상자인 젊은 작곡가 박명훈의 '몽타'(MONTA)로, 20세기 베를린 다다이스트들의 포토몽타주 작업에서 착안했다. 서울시향 더블베이스 수석 안동혁의 협연으로 몽타주 제작에서...\n",
      "서울시향 아르스 노바 10년… 美ㆍ佛 현대음악 연주 http://www.hankookilbo.com/v/e4ada1793b9846a485f2f235ba9ecfda 한국일보 2013년 국제윤이상작곡상에 입상한 젊은 작곡가 박명훈의 ‘몽타(MONTA)’로, 20세기 베를린 다다이스트들의 포토몽타주 작업에서 착안했다. 서울시향 더블베이스 수석 안동혁이 협연한다. 4월 7일 LG아트센터에서 열리는...\n",
      "진은숙 \"서울시향 10년 성과 폄하는 공정하지 않다\" http://www.newsis.com/ar_detail/view.html?ar_id=NISX20150330_0013568429&cID=10702&pID=10700 뉴시스 젊은 작곡가 작품 위촉 프로그램으로 박명훈의 '몽타'가 세계 초연된다. 서울시향이 '아르스 노바'를 통해 위촉한 곡이다. 진은숙, 서울시향 상임작곡가(사진=서울시향) 이날 자리에 함께 한 최수열 부지휘자는 2년 동안...\n",
      "봄을 알리는 ‘여성행복객석’ 공연나들이 갈까 http://www.ibabynews.com/news/newsview.aspx?newscode=201503261324312950006759&categorycode=0013 베이비뉴스 위한 ‘몽타’ 등을 선사한다. 7일 오후 8시 LG아트센터에서는 지휘 정명훈, 바이올린 강혜선, 앙리 뒤티외, 메타볼, 파스칼 뒤사팽, 바이올린과 오케스트라를 위한 ‘상승’(아시아 초연) 올리비에 메시앙...\n",
      "봄 클래식 향연…관현악 등 초연 잇따라 http://www.hankookilbo.com/v/621f3d4f49b24a8f8bd699c21e83f5d4 한국일보 (02)544-9092 다음달 1일 서울시향의 ‘아르스노바 시리즈Ⅰ&Ⅱ’에서 소개되는 박명훈의 신작 ‘몽타’는 베를린 다다이스트들의 몽타주 작업에서 아이디어를 얻은 작품. 2005년 한국인 최초로 벨기에 퀸 엘리자베스...\n",
      "파리에 '한국 정원' 조성...한·불 건축가 부부 http://www.ytn.co.kr/_ln/0104_201311030005222517 YTN [인터뷰:프랑수아 몽타하스, 파리7대학 건축개발 부사장] \"한국의 역사를 떠오르게 하는 상징들을 현대적인 관점으로 해석하는 창작과 표현력이 흥미롭습니다. \" 이 정원을 만든 사람은 한국인 윤경란 씨와 프랑스인 필립...\n",
      "[리그1-16R] 몽타뉴에 PK얻어맞은 모나코, 또다시 패배 http://www.ibest11.com/National/news_world_01_view.asp?iBoard=17&iIDX=32061 베스트일레븐 후반17분 몽타뉴에게 페널티킥을 얻어맞고 패배를 맛봤다. 모나코는 승리를 바라기 힘들 정도로 부진한... 모나코의 멘디가 위험지역 안에서 핸드볼 파울을 범해 PK를 내줬고 이를 몽타뉴가 성공시킨 것이다. 이 PK가...\n",
      "현금가방 훔친 페루인 징역형 http://www.ccdailynews.com/section/?knum=143773 충청일보 방 판사는 판결문을 통해 \"피고인은 공범인 몽타야(57)가 혼자 범행을 했다고 주장하고 있지만 훔친 돈의... 한국으로 신병이 인계됐다. 로드리게스씨와 함께 범행을 저지른 페루인 몽타야씨(56)는 아직 검거되지 않았다.\n",
      "청주지법, 현금 탈취 페루인 징역 3년 https://news.naver.com/main/read.naver?mode=LSD&mid=sec&sid1=102&oid=003&aid=0003178893 뉴시스 방 판사는 판결문을 통해 “피고인은 공범인 몽타야 혼자 범행을 한 것이며 함께 범행을 공모하지는 않았다고 주장하지만 제출된 증거와 피고인의 진술, 몽타야와 대한민국에 들어와 사건 당일 서울IC를 출발해...\n",
      "이종호씨, 카리브 댄스 비엔날레 심사위원 https://news.naver.com/main/read.naver?mode=LSD&mid=sec&sid1=103&oid=001&aid=0003182184 연합뉴스 심사위원에는 이 감독 외에 장-폴 몽타나리(몽펠리에 무용축제 예술감독), 아니타 마티외(생 드니 안무가대회 예술감독), 메르세데스 보르헤스(쿠바 평론가) 등 9명이 위촉됐다. engine@yna.co.kr\n",
      "[특별기고] 영화언어에 능통한 감독을 발견하다 http://www.cine21.com/Index/magazine.php?mm=005004001&mag_id=59946 씨네21 더 많은 증거를 원한다면, 영화에서 태훈이 서울의 도로를 따라 스쿠터를 타고 가는 두개의 몽타주를 비교해보라. 얼마나 완벽하게 첫 몽타부가 파괴적인 두 번째 몽타주로 이어지는지 확인해보라. 또 한 사람의 훌륭한...\n",
      "정읍 일가족 피습사건 용의자 몽타주 https://news.naver.com/main/read.naver?mode=LSD&mid=sec&sid1=102&oid=003&aid=0000574830 뉴시스 정읍 일가족 피습사건 용의자 몽타주 【정읍=뉴시스】 지난 21일 전북 정읍 정우면에서 발생한 일가족 3명 피습 사건을 수사 중인 전북 정읍경찰서가 피해자 진술을 토대로 작성한 몽타주. 경찰은 이 몽타 2000여매를...\n",
      "<새책>노예혁명 성공국 아이티의 땀과 꿈 https://news.naver.com/main/read.naver?mode=LSD&mid=sec&sid1=103&oid=086&aid=0000054606 내일신문 반기문 유엔 사무총장의 대변인 미셸 몽타스도 대표적인 피해자. 몽타스의 남편은 2000년 4월 아리스티드 정권을 비판했다는 이유로 암살된 언론인 장 도미니크이다. ◆새로운 아이티는 순탄할까 = 혼란은 겪던 아이티는...\n",
      "中企서 제2삶 찾은`사장님의 꿈` https://news.naver.com/main/read.naver?mode=LSD&mid=sec&sid1=101&oid=016&aid=0000187546 헤럴드경제 미국의 중장비업체 봅캣과 프랑스의 몽타벨트 사를 인수한 스웨덴의 잉거솔란트 사는 대모엔지니어링으로 직접 찾아와 OEM을 요청하기도 했다. 강 사장은 \"이같은 경영혁신을 거쳐 올해 매출 250억, 내년 500억원등 3년내...\n",
      "정읍 일가족 피습사건 용의자 몽타주 https://news.naver.com/main/read.naver?mode=LSD&mid=sec&sid1=102&oid=003&aid=0000574830 뉴시스 정읍 일가족 피습사건 용의자 몽타주 【정읍=뉴시스】 지난 21일 전북 정읍 정우면에서 발생한 일가족 3명 피습 사건을 수사 중인 전북 정읍경찰서가 피해자 진술을 토대로 작성한 몽타주. 경찰은 이 몽타 2000여매를...\n",
      "<새책>노예혁명 성공국 아이티의 땀과 꿈 https://news.naver.com/main/read.naver?mode=LSD&mid=sec&sid1=103&oid=086&aid=0000054606 내일신문 반기문 유엔 사무총장의 대변인 미셸 몽타스도 대표적인 피해자. 몽타스의 남편은 2000년 4월 아리스티드 정권을 비판했다는 이유로 암살된 언론인 장 도미니크이다. ◆새로운 아이티는 순탄할까 = 혼란은 겪던 아이티는...\n",
      "中企서 제2삶 찾은`사장님의 꿈` https://news.naver.com/main/read.naver?mode=LSD&mid=sec&sid1=101&oid=016&aid=0000187546 헤럴드경제 미국의 중장비업체 봅캣과 프랑스의 몽타벨트 사를 인수한 스웨덴의 잉거솔란트 사는 대모엔지니어링으로 직접 찾아와 OEM을 요청하기도 했다. 강 사장은 \"이같은 경영혁신을 거쳐 올해 매출 250억, 내년 500억원등 3년내...\n",
      "在佛 안무·무용가 남영호씨…몽펠리에 무용축제 신작발표 https://news.naver.com/main/read.naver?mode=LSD&mid=sec&sid1=102&oid=005&aid=0000211003 국민일보 이 축제의 장 폴 몽타나리 예술감독은 최근 남씨를 만난 자리에서 내년 제26회 행사에서 한국과 프랑스 양국 무용수들과 스태프로 공연팀이 출연하는 신작 발표를 의뢰하면서 제작비 지원을 약속했다. 남씨는 이화여대...\n",
      "캐릭터 파생상품 영역 확대, 성공 비즈니스 모델로 자리잡을 전망 https://news.naver.com/main/read.naver?mode=LSD&mid=sec&sid1=105&oid=030&aid=0000059837 전자신문 애니멀은 이달 중 ‘강박쌍웅’과 ‘몽타꼴라쥬’ 등의 후속게임을 잇따라 선보일 예정이다. 오즈는 ‘토야모야 12별자리 이야기’ 캐릭터를 활용해 최초의 휴대폰 동영상 운세 서비스를 선보였다. 기존 텍스트 기반의...\n",
      "[도올]우리시대 진정한목탁 만났다 https://news.naver.com/main/read.naver?mode=LSD&mid=sec&sid1=102&oid=021&aid=0000049430 문화일보 나의 언어는 혼용이 아닌 그 이상의 몽타 주였다. 그리고 문어와 구어의 구분을 허락지 않았다. 그리고 6 하원칙의 모범답안을 고수하지 않았다. 둘째, 나는 어떠한 정치적 이념의 입장에도 나의 기사의 관점을...\n",
      "러시아인 몽타주 배포 https://news.naver.com/main/read.naver?mode=LSD&mid=sec&sid1=115&oid=052&aid=0000002451 YTN 러시아인 총기 피격 사건을 수사하고 있는 경찰은 렌터카 종업원 등의 진술에 따라 용의자의 몽타 주를 제작해 배포 하는 등 수사에 박차를 가하고 있습니다. 용의자는 185센티 미터 정도의 키에 스포츠 형보다 약간...\n",
      "<화제> 40여개국 8백명 참가하는 무용행사 https://news.naver.com/main/read.naver?mode=LSD&mid=sec&sid1=103&oid=001&aid=0004323293 연합뉴스 건국이래 최대 규모의 무용축제인 이 행사는 특히 몽펠리에 국제무용페스티벌 조직위원장인 장 폴 몽타나리, 로잔콩쿠르 창설자인 필립 브라운슈베그, 이비뇽페스티벌조직위원장인 베르나르 페브르 다르시에...\n",
      "<화제>올 가을 서울서 최대 세계무용제 SIDance 열려 https://news.naver.com/main/read.naver?mode=LSD&mid=sec&sid1=103&oid=001&aid=0004357897 연합뉴스 폴 몽타나리, 로잔콩쿠르창설자겸 무용수직업전환국제기구(IOTPD) 이사장인 필립 브라운슈베그등이다. 한편 미국과 유럽, 아프리카, 아시아의 유명 무용단이 대거 출연하는 세계무용축제도 주로 미국의 현대무용에...\n",
      "放送 https://news.naver.com/main/read.naver?mode=LSD&mid=sec&sid1=103&oid=001&aid=0003428012 연합뉴스 그리고 지명수배자의 몽타지나 사진등을 2-3차례 방송하여 시민의 제보 전화를 유도하고 시민들이 범죄에 대한 불안감을 줄이고 나름대로의 자구책을 강구할수 있도록 강력사건의 유형을 드라마화하여 사례별...\n"
     ]
    },
    {
     "ename": "KeyboardInterrupt",
     "evalue": "",
     "output_type": "error",
     "traceback": [
      "\u001b[1;31m---------------------------------------------------------------------------\u001b[0m",
      "\u001b[1;31mKeyboardInterrupt\u001b[0m                         Traceback (most recent call last)",
      "\u001b[1;32m~\\AppData\\Local\\Temp/ipykernel_1376/2527492249.py\u001b[0m in \u001b[0;36m<module>\u001b[1;34m\u001b[0m\n\u001b[0;32m     50\u001b[0m \u001b[1;32mwhile\u001b[0m \u001b[1;32mTrue\u001b[0m\u001b[1;33m:\u001b[0m\u001b[1;33m\u001b[0m\u001b[1;33m\u001b[0m\u001b[0m\n\u001b[0;32m     51\u001b[0m     \u001b[0mschedule\u001b[0m\u001b[1;33m.\u001b[0m\u001b[0mrun_pending\u001b[0m\u001b[1;33m(\u001b[0m\u001b[1;33m)\u001b[0m\u001b[1;33m\u001b[0m\u001b[1;33m\u001b[0m\u001b[0m\n\u001b[1;32m---> 52\u001b[1;33m     \u001b[0mtime\u001b[0m\u001b[1;33m.\u001b[0m\u001b[0msleep\u001b[0m\u001b[1;33m(\u001b[0m\u001b[1;36m1\u001b[0m\u001b[1;33m)\u001b[0m\u001b[1;33m\u001b[0m\u001b[1;33m\u001b[0m\u001b[0m\n\u001b[0m",
      "\u001b[1;31mKeyboardInterrupt\u001b[0m: "
     ]
    }
   ],
   "source": [
    "def mongta():\n",
    "    global postNum\n",
    "    for i in range(news_num): #몇 페이지 까지 불러올지 \n",
    "        #response = response1+parse.quote_plus(search)+response2+str(postNum)\n",
    "        response = requests.get(response1+response2+str(postNum))\n",
    "\n",
    "        html = response.text\n",
    "\n",
    "        soup = BeautifulSoup(html, 'html.parser')\n",
    "\n",
    "        articles = soup.select('#main_pack > section > div > div.group_news > ul > li')\n",
    "\n",
    "        postNum = postNum+10\n",
    "\n",
    "\n",
    "        for article in articles:\n",
    "            \n",
    "            a_tag1 = article.select_one('.news_tit')\n",
    "\n",
    "\n",
    "            title = a_tag1.text\n",
    "            title_list.append(title.strip())\n",
    "\n",
    "            url = a_tag1['href']\n",
    "            url_list.append(url.strip())\n",
    "\n",
    "            comp = article.select_one('a.info.press').text\n",
    "            comp = comp.replace('언론사 선정', '')\n",
    "            comp_list.append(comp.strip())\n",
    "            \n",
    "\n",
    "\n",
    "            #try:\n",
    "                #thumbnail = article.select_one('div > a > img')['src']\n",
    "                #thumbnail_list.append(thumbnail.strip())\n",
    "\n",
    "            #except:\n",
    "                #thumbnail_list.append('https://search.pstatic.net/common/?src=https%3A%2F%2Fimgnews.pstatic.net%2Fimage%2Forigin%2F366%2F2021%2F09%2F23%2F762207.jpg&type=ff264_180&expire=2&refresh=true')\n",
    "        #         print('썸네일이 없습니다')\n",
    "\n",
    "            text = article.select_one('a.api_txt_lines.dsc_txt_wrap').text\n",
    "            text_list.append(text.strip())\n",
    "\n",
    "            print(title, url, comp, text)\n",
    "\n",
    "schedule.every(1).minutes.do(mongta) #30분마다 실행\n",
    "schedule.every().monday.at(\"00:10\").do(mongta) #월요일 00:10분에 실행\n",
    "schedule.every().day.at(\"10:30\").do(mongta) #매일 10시 30분에\n",
    "\n",
    "while True:\n",
    "    schedule.run_pending()\n",
    "    time.sleep(1)"
   ]
  },
  {
   "cell_type": "code",
   "execution_count": 7,
   "id": "263fa744-4165-42dc-b7fe-6e3fae1a20d5",
   "metadata": {},
   "outputs": [
    {
     "name": "stdout",
     "output_type": "stream",
     "text": [
      "['파리에 오픈한 일러스트레이터의 마린 몽타구의 감각적인 소품숍', '김상경, 15년만에 형사 \"살인의추억 미제사건 몽타주서 해결한 느낌\"', '한립철강, 佛에 굴삭기브레이커 공급', '中 \"中 간첩들 미 정부내 암약은 완전 날조\"', '[책 속의 풍경]암흑기로 불리는 중세, 그 속살은 어땠을까', '남영호씨, 몽펠리에축제 신작 위촉받아', '[김상미의 창업 클리닉] 온라인마케팅성공사례 황금피켈상패 국내제작사 엔케...', \"[더벨]두산인프라, '구조조정의 힘' 순차입금 8년만에 최저\", \"조현 외교부 2차관, 구르도-몽타뉴 佛 외교 차관과 '북핵 공조' 논의\", '마스터 소믈리에 전성완의 ‘와인의 정석’…상파뉴의 쌍두마차! 돔 루이나 &...', \"바닥만 파던 굴삭기주, 구조조정 효과에 '기지개'\", '두산인프라코어, 中 굴착기 판매 호조로 1분기 흑자 기대', '모바일 영상 콘텐츠 POOP TV, 차별성 있는 360VR에 도전장', '[유라시안 경제 브리핑] 7월 3일', '서울서 통영까지, 클래식에 싸인 봄', '서울시향 진은숙의 ‘아르스 노바’ 外 클래식 음악제 ‘풍성’', '서울시향 아르스 노바 10년째.. 올해는 프랑스·미국 현대음악', '서울시향 아르스 노바 10년… 美ㆍ佛 현대음악 연주', '진은숙 \"서울시향 10년 성과 폄하는 공정하지 않다\"', '봄을 알리는 ‘여성행복객석’ 공연나들이 갈까', '봄 클래식 향연…관현악 등 초연 잇따라', \"파리에 '한국 정원' 조성...한·불 건축가 부부\", '[리그1-16R] 몽타뉴에 PK얻어맞은 모나코, 또다시 패배', '현금가방 훔친 페루인 징역형', '청주지법, 현금 탈취 페루인 징역 3년', '이종호씨, 카리브 댄스 비엔날레 심사위원', '[특별기고] 영화언어에 능통한 감독을 발견하다', '정읍 일가족 피습사건 용의자 몽타주', '<새책>노예혁명 성공국 아이티의 땀과 꿈', '中企서 제2삶 찾은`사장님의 꿈`'] ['https://www.maisonkorea.com/2020/09/04/%ec%9d%bc%eb%9f%ac%ec%8a%a4%ed%8a%b8%eb%a0%88%ec%9d%b4%ed%84%b0%ec%9d%98-%ec%86%8c%ed%92%88%ec%88%8d/?_N_=01', 'http://www.nocutnews.co.kr/Show.asp?IDX=2467972', 'http://www.hankyung.com/news/app/newsview.php?aid=2011122235381', 'https://news.naver.com/main/read.naver?mode=LSD&mid=sec&sid1=104&oid=001&aid=0000037685', 'http://www.khan.co.kr/kh_news/art_view.html?artid=201303011925225&code=900308', 'https://news.naver.com/main/read.naver?mode=LSD&mid=sec&sid1=100&oid=001&aid=0001043338', 'https://www.econovill.com/news/articleView.html?idxno=378981', 'http://www.thebell.co.kr/front/free/contents/news/article_view.asp?key=201802080100016650001025', 'http://www.asiatoday.co.kr/view.php?key=20171207010003894', 'http://sports.khan.co.kr/news/sk_index.html?art_id=201707182102003&sec_id=563101&pt=nv', 'http://stock.hankyung.com/news/app/newsview.php?aid=2016042260021', 'http://news.mk.co.kr/newsRead.php?no=281774&year=2016', 'http://www.viva100.com/main/view.php?key=20160222001745569', 'http://biz.chosun.com/site/data/html_dir/2015/07/03/2015070300769.html', 'http://news.donga.com/3/all/20150401/70459893/1', 'http://news.donga.com/3/all/20150331/70447321/1', 'http://www.ajunews.com/view/20150331082359922', 'http://www.hankookilbo.com/v/e4ada1793b9846a485f2f235ba9ecfda', 'http://www.newsis.com/ar_detail/view.html?ar_id=NISX20150330_0013568429&cID=10702&pID=10700', 'http://www.ibabynews.com/news/newsview.aspx?newscode=201503261324312950006759&categorycode=0013', 'http://www.hankookilbo.com/v/621f3d4f49b24a8f8bd699c21e83f5d4', 'http://www.ytn.co.kr/_ln/0104_201311030005222517', 'http://www.ibest11.com/National/news_world_01_view.asp?iBoard=17&iIDX=32061', 'http://www.ccdailynews.com/section/?knum=143773', 'https://news.naver.com/main/read.naver?mode=LSD&mid=sec&sid1=102&oid=003&aid=0003178893', 'https://news.naver.com/main/read.naver?mode=LSD&mid=sec&sid1=103&oid=001&aid=0003182184', 'http://www.cine21.com/Index/magazine.php?mm=005004001&mag_id=59946', 'https://news.naver.com/main/read.naver?mode=LSD&mid=sec&sid1=102&oid=003&aid=0000574830', 'https://news.naver.com/main/read.naver?mode=LSD&mid=sec&sid1=103&oid=086&aid=0000054606', 'https://news.naver.com/main/read.naver?mode=LSD&mid=sec&sid1=101&oid=016&aid=0000187546'] ['메종', '노컷뉴스', '한국경제', '연합뉴스', '경향신문', '연합뉴스', '이코노믹리뷰', '더벨', '아시아투데이', '스포츠경향', '한국경제', '매일경제', '브릿지경제', '조선비즈', '동아일보', '동아일보', '아주경제', '한국일보', '뉴시스', '베이비뉴스', '한국일보', 'YTN', '베스트일레븐', '충청일보', '뉴시스', '연합뉴스', '씨네21', '뉴시스', '내일신문', '헤럴드경제'] ['https://search.pstatic.net/common/?src=https%3A%2F%2Fimgnews.pstatic.net%2Fimage%2Forigin%2F5640%2F2020%2F09%2F07%2F1516.jpg&type=ofullfill264_180_gray&expire=2&refresh=true', 'https://search.pstatic.net/common/?src=https%3A%2F%2Fimgnews.pstatic.net%2Fimage%2Forigin%2F079%2F2013%2F04%2F18%2F2462489.jpg&type=ff264_180&expire=2&refresh=true', 'https://search.pstatic.net/common/?src=https%3A%2F%2Fimgnews.pstatic.net%2Fimage%2Fthumb140%2F015%2F2011%2F12%2F22%2F2604276.jpg&type=ff264_180&expire=2&refresh=true', 'https://search.pstatic.net/common/?src=https%3A%2F%2Fimgnews.pstatic.net%2Fimage%2Forigin%2F366%2F2021%2F09%2F23%2F762207.jpg&type=ff264_180&expire=2&refresh=true', 'https://search.pstatic.net/common/?src=https%3A%2F%2Fimgnews.pstatic.net%2Fimage%2Forigin%2F032%2F2013%2F03%2F01%2F2310894.jpg&type=ff264_180&expire=2&refresh=true', 'https://search.pstatic.net/common/?src=https%3A%2F%2Fimgnews.pstatic.net%2Fimage%2Fthumb140%2F001%2F2005%2F07%2F06%2F1043338.jpg&type=ofullfill264_180_gray&expire=2&refresh=true', 'https://search.pstatic.net/common/?src=https%3A%2F%2Fimgnews.pstatic.net%2Fimage%2Forigin%2F5097%2F2019%2F12%2F03%2F190162.jpg&type=ofullfill264_180_gray&expire=2&refresh=true', 'https://search.pstatic.net/common/?src=https%3A%2F%2Fimgnews.pstatic.net%2Fimage%2Forigin%2F5254%2F2018%2F02%2F09%2F58829.jpg&type=ff264_180&expire=2&refresh=true', 'https://search.pstatic.net/common/?src=https%3A%2F%2Fimgnews.pstatic.net%2Fimage%2Forigin%2F5268%2F2017%2F12%2F07%2F816460.jpg&type=ofullfill264_180_gray&expire=2&refresh=true', 'https://search.pstatic.net/common/?src=https%3A%2F%2Fimgnews.pstatic.net%2Fimage%2Forigin%2F144%2F2017%2F07%2F18%2F503020.jpg&type=ofullfill264_180_gray&expire=2&refresh=true', 'https://search.pstatic.net/common/?src=https%3A%2F%2Fimgnews.pstatic.net%2Fimage%2Forigin%2F015%2F2016%2F04%2F22%2F3583519.jpg&type=ff264_180&expire=2&refresh=true', 'https://search.pstatic.net/common/?src=https%3A%2F%2Fimgnews.pstatic.net%2Fimage%2Forigin%2F009%2F2016%2F04%2F18%2F3716513.jpg&type=ff264_180&expire=2&refresh=true', 'https://search.pstatic.net/common/?src=https%3A%2F%2Fimgnews.pstatic.net%2Fimage%2Forigin%2F5394%2F2016%2F02%2F22%2F80071.jpg&type=ofullfill264_180_gray&expire=2&refresh=true', 'https://search.pstatic.net/common/?src=https%3A%2F%2Fimgnews.pstatic.net%2Fimage%2Forigin%2F366%2F2015%2F07%2F03%2F276523.jpg&type=ff264_180&expire=2&refresh=true', 'https://search.pstatic.net/common/?src=https%3A%2F%2Fimgnews.pstatic.net%2Fimage%2Forigin%2F020%2F2015%2F04%2F01%2F2771471.jpg&type=ff264_180&expire=2&refresh=true', 'https://search.pstatic.net/common/?src=https%3A%2F%2Fimgnews.pstatic.net%2Fimage%2Forigin%2F366%2F2021%2F09%2F23%2F762207.jpg&type=ff264_180&expire=2&refresh=true', 'https://search.pstatic.net/common/?src=https%3A%2F%2Fimgnews.pstatic.net%2Fimage%2Forigin%2F5090%2F2015%2F03%2F31%2F973223.jpg&type=ofullfill264_180_gray&expire=2&refresh=true', 'https://search.pstatic.net/common/?src=https%3A%2F%2Fimgnews.pstatic.net%2Fimage%2Forigin%2F469%2F2015%2F03%2F30%2F55372.jpg&type=ff264_180&expire=2&refresh=true', 'https://search.pstatic.net/common/?src=https%3A%2F%2Fimgnews.pstatic.net%2Fimage%2Forigin%2F003%2F2015%2F03%2F30%2F6434025.jpg&type=ff264_180&expire=2&refresh=true', 'https://search.pstatic.net/common/?src=https%3A%2F%2Fimgnews.pstatic.net%2Fimage%2Forigin%2F5295%2F2015%2F03%2F26%2F11418.jpg&type=ff264_180&expire=2&refresh=true', 'https://search.pstatic.net/common/?src=https%3A%2F%2Fimgnews.pstatic.net%2Fimage%2Forigin%2F366%2F2021%2F09%2F23%2F762207.jpg&type=ff264_180&expire=2&refresh=true', 'https://search.pstatic.net/common/?src=https%3A%2F%2Fimgnews.pstatic.net%2Fimage%2Forigin%2F052%2F2013%2F11%2F03%2F484023.jpg&type=ff264_180&expire=2&refresh=true', 'https://search.pstatic.net/common/?src=https%3A%2F%2Fimgnews.pstatic.net%2Fimage%2Fthumb140%2F343%2F2010%2F12%2F05%2F7072.jpg&type=ff264_180&expire=2&refresh=true', 'https://search.pstatic.net/common/?src=https%3A%2F%2Fimgnews.pstatic.net%2Fimage%2Forigin%2F366%2F2021%2F09%2F23%2F762207.jpg&type=ff264_180&expire=2&refresh=true', 'https://search.pstatic.net/common/?src=https%3A%2F%2Fimgnews.pstatic.net%2Fimage%2Forigin%2F366%2F2021%2F09%2F23%2F762207.jpg&type=ff264_180&expire=2&refresh=true', 'https://search.pstatic.net/common/?src=https%3A%2F%2Fimgnews.pstatic.net%2Fimage%2Fthumb140%2F001%2F2010%2F03%2F22%2F3182184.jpg&type=ff264_180&expire=2&refresh=true', 'https://search.pstatic.net/common/?src=https%3A%2F%2Fimgnews.pstatic.net%2Fimage%2Fthumb140%2F140%2F2010%2F03%2F04%2F15530.jpg&type=ff264_180&expire=2&refresh=true', 'https://search.pstatic.net/common/?src=https%3A%2F%2Fimgnews.pstatic.net%2Fimage%2Fthumb140%2F003%2F2007%2F09%2F22%2F574830.jpg&type=ff264_180&expire=2&refresh=true', 'https://search.pstatic.net/common/?src=https%3A%2F%2Fimgnews.pstatic.net%2Fimage%2Forigin%2F366%2F2021%2F09%2F23%2F762207.jpg&type=ff264_180&expire=2&refresh=true', 'https://search.pstatic.net/common/?src=https%3A%2F%2Fimgnews.pstatic.net%2Fimage%2Forigin%2F366%2F2021%2F09%2F23%2F762207.jpg&type=ff264_180&expire=2&refresh=true'] ['다양한 분야에서 활동하는 일러스트레이터 마린 몽타구의 소품 매장이 파리 한복판에 문을 열었다. 가장 파리지앵 답다는 평가를 받고 있는 일러스트레이터 마린 몽타구 Marin Montagut의 소품 매장이 지난 6월...', \"영화 '몽타주'에서다. 몽타주는 완전범죄로 끝난 15년 전 미결사건이 공소시효 며칠을 앞두고 다시 발생하면서 15년전 범죄 피해자와 당시 사건담당형사가 다시 사건에 뛰어들어 범인을 추적한다는 내용의 스릴러....\", '스테니치 몽타베르트 사장이 업무 협조를 담은 협약서를 교환하고 있다. /한립철강 제공 내년 2000만弗 수출 목표 특수강 및 금형강 전문업체인 한립철강(대표 서재열)이 프랑스 몽타베르트에 굴삭기용 브레이커...', '로널드 몽타페르토 군사 분석가가 중국대사관 무관들인 인민해방군소장과 공군 장교 위정허 등과의 절친한 관계를 통해 기밀자료를 유출했으며 몽타페르토는 FBI 조사 당시인 92년 초 국방부 정보국 중국처...', '기록했던 몽타유의 침실 이야기들은 여성들이 실생활에서도 상당히 자유로웠음을 보여준다. 특히 이 이야기들은 남성을 유혹하는 다양한 기술에 대해서 기록하고 있다. 몽타유의 사제가 고백한 것처럼 사회적 지위는...', '이 축제의 장-폴 몽타나리(Jean-Paul Montanari) 예술감독은 지난 3일 남씨를 만난 자리에서 내년 제26회... 몽타나리 감독은 아울러 서울세계무용축제(SIDance) 측에 이 작품의 공동 제작자로 참여해 달라고 제안했다....', '고산등반협회와\\xa0몽타뉴라는\\xa0프랑스\\xa0산악전문지가\\xa0제정한\\xa0상이다.\\xa0한\\xa0해\\xa0동안\\xa0최고의\\xa0등정을\\xa0한... 한국의\\xa0산악전문지인\\xa0[월간\\xa0사람과\\xa0산]이\\xa0프랑스\\xa0산악전문지\\xa0[몽타뉴]와\\xa0협업해서\\xa02006년부터\\xa0시상하고...', '비주력 법인인 몽타베르도 매각한 결과 두산인프라코어는 약 2270억원의 구조조정 효과를 거뒀다. 이듬해에는 두산밥캣 기업공개(IPO)로 3000억원의 현금을 확보했다. 포트폴리오 재편 작업도 병행했다....', '구르도-몽타 외교부 차관과 만나 한·불 관계 증진과 북핵대응 공조 등에 대해 의견을 교환했다. 조 차관은... 이에 구르도-몽타뉴 차관은 “평창동계올림픽이 안전하고 성공적으로 개최될 것이라는 확신을 갖고 있다”...', '샹파뉴 중심 지역인 실러니·푸시외가 위치한 몽타뉴 드 랭스 지역에서 생산되는 샤르도네만 사용하기 때문에 순수 혈통을 자랑한다. 몽타뉴 샴페인은 다른 지역과 달리 좀 더 묵직하고 둥글둥글한 맛이 특징이다....', '벨기에 브라질 등지에 있는 수익성이 떨어진 생산 공장을 폐쇄하고 비주력 사업인 프랑스 자회사 몽타베르도 매각했다. ◆가시화되는 구조조정 효과 추락하던 중국 건설시장이 되살아나면서 반전이 시작됐다. 중국...', '벨기에·브라질 등지에 있는 수익성이 떨어진 생산 공장을 폐쇄하고 비주력 사업인 프랑스 자회사 몽타베르도 매각했다. 회사 측은 이 같은 구조조정 과정에서 총 7349억원의 비용이 소요된 것으로 계산했다....', \"콘텐츠 ‘오빠 뭐해?’ 시리즈를 360 VR로 제공할 예정이다. 이재복 · 임도경 기자 jaebok3693@viva100.com몽타미디어 이승훈 감독 외 임직원들 (사진제공 = 임도경기자)360 VR로 촬영한 스텔라 '찔려'(사진제공 = 임도경기자)\", '<프랑스> 프랑스 파리 사법당국이 미국 패스트푸드 체인점인 맥도날드가 오래된 카페와 상점이 밀집한 몽타지구에 재개장하는 것을 2일 불허했다고 프랑스 영문매체 프랑스24가 보도했다. 당국은 전통상권과 청소년의...', '20세기 독일 다다이스트들의 포토몽타주 작업에서 착안했다는 젊은 작곡가 박명훈의 ‘몽타’도 세계 초연된다. 7일 오후 8시 서울 강남구 LG아트센터에서 열리는 두 번째 공연은 정명훈 예술감독이 지휘봉을 잡고...', '20세기 독일 다다이스트들의 포토몽타주 작업에서 착안했다는 젊은 작곡가 박명훈의 ‘몽타’도 세계 초연된다. 7일 오후8시 서울 강남구 LG아트센터에서 열리는 두 번째 공연은 정명훈 예술감독이 지휘봉을 잡고...', \"2013년 국제윤이상작곡상 등 여러 콩쿠르 입상자인 젊은 작곡가 박명훈의 '몽타'(MONTA)로, 20세기 베를린 다다이스트들의 포토몽타주 작업에서 착안했다. 서울시향 더블베이스 수석 안동혁의 협연으로 몽타주 제작에서...\", '2013년 국제윤이상작곡상에 입상한 젊은 작곡가 박명훈의 ‘몽타(MONTA)’로, 20세기 베를린 다다이스트들의 포토몽타주 작업에서 착안했다. 서울시향 더블베이스 수석 안동혁이 협연한다. 4월 7일 LG아트센터에서 열리는...', \"젊은 작곡가 작품 위촉 프로그램으로 박명훈의 '몽타'가 세계 초연된다. 서울시향이 '아르스 노바'를 통해 위촉한 곡이다. 진은숙, 서울시향 상임작곡가(사진=서울시향) 이날 자리에 함께 한 최수열 부지휘자는 2년 동안...\", '위한 ‘몽타’ 등을 선사한다. 7일 오후 8시 LG아트센터에서는 지휘 정명훈, 바이올린 강혜선, 앙리 뒤티외, 메타볼, 파스칼 뒤사팽, 바이올린과 오케스트라를 위한 ‘상승’(아시아 초연) 올리비에 메시앙...', '(02)544-9092 다음달 1일 서울시향의 ‘아르스노바 시리즈Ⅰ&Ⅱ’에서 소개되는 박명훈의 신작 ‘몽타’는 베를린 다다이스트들의 몽타주 작업에서 아이디어를 얻은 작품. 2005년 한국인 최초로 벨기에 퀸 엘리자베스...', '[인터뷰:프랑수아 몽타하스, 파리7대학 건축개발 부사장] \"한국의 역사를 떠오르게 하는 상징들을 현대적인 관점으로 해석하는 창작과 표현력이 흥미롭습니다. \" 이 정원을 만든 사람은 한국인 윤경란 씨와 프랑스인 필립...', '후반17분 몽타뉴에게 페널티킥을 얻어맞고 패배를 맛봤다. 모나코는 승리를 바라기 힘들 정도로 부진한... 모나코의 멘디가 위험지역 안에서 핸드볼 파울을 범해 PK를 내줬고 이를 몽타뉴가 성공시킨 것이다. 이 PK가...', '방 판사는 판결문을 통해 \"피고인은 공범인 몽타야(57)가 혼자 범행을 했다고 주장하고 있지만 훔친 돈의... 한국으로 신병이 인계됐다. 로드리게스씨와 함께 범행을 저지른 페루인 몽타야씨(56)는 아직 검거되지 않았다.', '방 판사는 판결문을 통해 “피고인은 공범인 몽타야 혼자 범행을 한 것이며 함께 범행을 공모하지는 않았다고 주장하지만 제출된 증거와 피고인의 진술, 몽타야와 대한민국에 들어와 사건 당일 서울IC를 출발해...', '심사위원에는 이 감독 외에 장-폴 몽타나리(몽펠리에 무용축제 예술감독), 아니타 마티외(생 드니 안무가대회 예술감독), 메르세데스 보르헤스(쿠바 평론가) 등 9명이 위촉됐다. engine@yna.co.kr', '더 많은 증거를 원한다면, 영화에서 태훈이 서울의 도로를 따라 스쿠터를 타고 가는 두개의 몽타주를 비교해보라. 얼마나 완벽하게 첫 몽타부가 파괴적인 두 번째 몽타주로 이어지는지 확인해보라. 또 한 사람의 훌륭한...', '정읍 일가족 피습사건 용의자 몽타주 【정읍=뉴시스】 지난 21일 전북 정읍 정우면에서 발생한 일가족 3명 피습 사건을 수사 중인 전북 정읍경찰서가 피해자 진술을 토대로 작성한 몽타주. 경찰은 이 몽타 2000여매를...', '반기문 유엔 사무총장의 대변인 미셸 몽타스도 대표적인 피해자. 몽타스의 남편은 2000년 4월 아리스티드 정권을 비판했다는 이유로 암살된 언론인 장 도미니크이다. ◆새로운 아이티는 순탄할까 = 혼란은 겪던 아이티는...', '미국의 중장비업체 봅캣과 프랑스의 몽타벨트 사를 인수한 스웨덴의 잉거솔란트 사는 대모엔지니어링으로 직접 찾아와 OEM을 요청하기도 했다. 강 사장은 \"이같은 경영혁신을 거쳐 올해 매출 250억, 내년 500억원등 3년내...']\n"
     ]
    }
   ],
   "source": [
    "print(title_list, url_list, comp_list, thumbnail_list, text_list)"
   ]
  },
  {
   "cell_type": "code",
   "execution_count": 8,
   "id": "1f20c2d5-638e-4c71-9055-556b039bbb63",
   "metadata": {},
   "outputs": [],
   "source": [
    "info = {'제목':title_list, 'url':url_list, '언론사':comp_list, '썸네일':thumbnail_list, '내용':text_list}"
   ]
  },
  {
   "cell_type": "code",
   "execution_count": 9,
   "id": "d8d12abf-464c-4285-9f30-4153eeb4820f",
   "metadata": {},
   "outputs": [
    {
     "data": {
      "text/plain": [
       "{'제목': ['파리에 오픈한 일러스트레이터의 마린 몽타구의 감각적인 소품숍',\n",
       "  '김상경, 15년만에 형사 \"살인의추억 미제사건 몽타주서 해결한 느낌\"',\n",
       "  '한립철강, 佛에 굴삭기브레이커 공급',\n",
       "  '中 \"中 간첩들 미 정부내 암약은 완전 날조\"',\n",
       "  '[책 속의 풍경]암흑기로 불리는 중세, 그 속살은 어땠을까',\n",
       "  '남영호씨, 몽펠리에축제 신작 위촉받아',\n",
       "  '[김상미의 창업 클리닉] 온라인마케팅성공사례 황금피켈상패 국내제작사 엔케...',\n",
       "  \"[더벨]두산인프라, '구조조정의 힘' 순차입금 8년만에 최저\",\n",
       "  \"조현 외교부 2차관, 구르도-몽타뉴 佛 외교 차관과 '북핵 공조' 논의\",\n",
       "  '마스터 소믈리에 전성완의 ‘와인의 정석’…상파뉴의 쌍두마차! 돔 루이나 &...',\n",
       "  \"바닥만 파던 굴삭기주, 구조조정 효과에 '기지개'\",\n",
       "  '두산인프라코어, 中 굴착기 판매 호조로 1분기 흑자 기대',\n",
       "  '모바일 영상 콘텐츠 POOP TV, 차별성 있는 360VR에 도전장',\n",
       "  '[유라시안 경제 브리핑] 7월 3일',\n",
       "  '서울서 통영까지, 클래식에 싸인 봄',\n",
       "  '서울시향 진은숙의 ‘아르스 노바’ 外 클래식 음악제 ‘풍성’',\n",
       "  '서울시향 아르스 노바 10년째.. 올해는 프랑스·미국 현대음악',\n",
       "  '서울시향 아르스 노바 10년… 美ㆍ佛 현대음악 연주',\n",
       "  '진은숙 \"서울시향 10년 성과 폄하는 공정하지 않다\"',\n",
       "  '봄을 알리는 ‘여성행복객석’ 공연나들이 갈까',\n",
       "  '봄 클래식 향연…관현악 등 초연 잇따라',\n",
       "  \"파리에 '한국 정원' 조성...한·불 건축가 부부\",\n",
       "  '[리그1-16R] 몽타뉴에 PK얻어맞은 모나코, 또다시 패배',\n",
       "  '현금가방 훔친 페루인 징역형',\n",
       "  '청주지법, 현금 탈취 페루인 징역 3년',\n",
       "  '이종호씨, 카리브 댄스 비엔날레 심사위원',\n",
       "  '[특별기고] 영화언어에 능통한 감독을 발견하다',\n",
       "  '정읍 일가족 피습사건 용의자 몽타주',\n",
       "  '<새책>노예혁명 성공국 아이티의 땀과 꿈',\n",
       "  '中企서 제2삶 찾은`사장님의 꿈`'],\n",
       " 'url': ['https://www.maisonkorea.com/2020/09/04/%ec%9d%bc%eb%9f%ac%ec%8a%a4%ed%8a%b8%eb%a0%88%ec%9d%b4%ed%84%b0%ec%9d%98-%ec%86%8c%ed%92%88%ec%88%8d/?_N_=01',\n",
       "  'http://www.nocutnews.co.kr/Show.asp?IDX=2467972',\n",
       "  'http://www.hankyung.com/news/app/newsview.php?aid=2011122235381',\n",
       "  'https://news.naver.com/main/read.naver?mode=LSD&mid=sec&sid1=104&oid=001&aid=0000037685',\n",
       "  'http://www.khan.co.kr/kh_news/art_view.html?artid=201303011925225&code=900308',\n",
       "  'https://news.naver.com/main/read.naver?mode=LSD&mid=sec&sid1=100&oid=001&aid=0001043338',\n",
       "  'https://www.econovill.com/news/articleView.html?idxno=378981',\n",
       "  'http://www.thebell.co.kr/front/free/contents/news/article_view.asp?key=201802080100016650001025',\n",
       "  'http://www.asiatoday.co.kr/view.php?key=20171207010003894',\n",
       "  'http://sports.khan.co.kr/news/sk_index.html?art_id=201707182102003&sec_id=563101&pt=nv',\n",
       "  'http://stock.hankyung.com/news/app/newsview.php?aid=2016042260021',\n",
       "  'http://news.mk.co.kr/newsRead.php?no=281774&year=2016',\n",
       "  'http://www.viva100.com/main/view.php?key=20160222001745569',\n",
       "  'http://biz.chosun.com/site/data/html_dir/2015/07/03/2015070300769.html',\n",
       "  'http://news.donga.com/3/all/20150401/70459893/1',\n",
       "  'http://news.donga.com/3/all/20150331/70447321/1',\n",
       "  'http://www.ajunews.com/view/20150331082359922',\n",
       "  'http://www.hankookilbo.com/v/e4ada1793b9846a485f2f235ba9ecfda',\n",
       "  'http://www.newsis.com/ar_detail/view.html?ar_id=NISX20150330_0013568429&cID=10702&pID=10700',\n",
       "  'http://www.ibabynews.com/news/newsview.aspx?newscode=201503261324312950006759&categorycode=0013',\n",
       "  'http://www.hankookilbo.com/v/621f3d4f49b24a8f8bd699c21e83f5d4',\n",
       "  'http://www.ytn.co.kr/_ln/0104_201311030005222517',\n",
       "  'http://www.ibest11.com/National/news_world_01_view.asp?iBoard=17&iIDX=32061',\n",
       "  'http://www.ccdailynews.com/section/?knum=143773',\n",
       "  'https://news.naver.com/main/read.naver?mode=LSD&mid=sec&sid1=102&oid=003&aid=0003178893',\n",
       "  'https://news.naver.com/main/read.naver?mode=LSD&mid=sec&sid1=103&oid=001&aid=0003182184',\n",
       "  'http://www.cine21.com/Index/magazine.php?mm=005004001&mag_id=59946',\n",
       "  'https://news.naver.com/main/read.naver?mode=LSD&mid=sec&sid1=102&oid=003&aid=0000574830',\n",
       "  'https://news.naver.com/main/read.naver?mode=LSD&mid=sec&sid1=103&oid=086&aid=0000054606',\n",
       "  'https://news.naver.com/main/read.naver?mode=LSD&mid=sec&sid1=101&oid=016&aid=0000187546'],\n",
       " '언론사': ['메종',\n",
       "  '노컷뉴스',\n",
       "  '한국경제',\n",
       "  '연합뉴스',\n",
       "  '경향신문',\n",
       "  '연합뉴스',\n",
       "  '이코노믹리뷰',\n",
       "  '더벨',\n",
       "  '아시아투데이',\n",
       "  '스포츠경향',\n",
       "  '한국경제',\n",
       "  '매일경제',\n",
       "  '브릿지경제',\n",
       "  '조선비즈',\n",
       "  '동아일보',\n",
       "  '동아일보',\n",
       "  '아주경제',\n",
       "  '한국일보',\n",
       "  '뉴시스',\n",
       "  '베이비뉴스',\n",
       "  '한국일보',\n",
       "  'YTN',\n",
       "  '베스트일레븐',\n",
       "  '충청일보',\n",
       "  '뉴시스',\n",
       "  '연합뉴스',\n",
       "  '씨네21',\n",
       "  '뉴시스',\n",
       "  '내일신문',\n",
       "  '헤럴드경제'],\n",
       " '썸네일': ['https://search.pstatic.net/common/?src=https%3A%2F%2Fimgnews.pstatic.net%2Fimage%2Forigin%2F5640%2F2020%2F09%2F07%2F1516.jpg&type=ofullfill264_180_gray&expire=2&refresh=true',\n",
       "  'https://search.pstatic.net/common/?src=https%3A%2F%2Fimgnews.pstatic.net%2Fimage%2Forigin%2F079%2F2013%2F04%2F18%2F2462489.jpg&type=ff264_180&expire=2&refresh=true',\n",
       "  'https://search.pstatic.net/common/?src=https%3A%2F%2Fimgnews.pstatic.net%2Fimage%2Fthumb140%2F015%2F2011%2F12%2F22%2F2604276.jpg&type=ff264_180&expire=2&refresh=true',\n",
       "  'https://search.pstatic.net/common/?src=https%3A%2F%2Fimgnews.pstatic.net%2Fimage%2Forigin%2F366%2F2021%2F09%2F23%2F762207.jpg&type=ff264_180&expire=2&refresh=true',\n",
       "  'https://search.pstatic.net/common/?src=https%3A%2F%2Fimgnews.pstatic.net%2Fimage%2Forigin%2F032%2F2013%2F03%2F01%2F2310894.jpg&type=ff264_180&expire=2&refresh=true',\n",
       "  'https://search.pstatic.net/common/?src=https%3A%2F%2Fimgnews.pstatic.net%2Fimage%2Fthumb140%2F001%2F2005%2F07%2F06%2F1043338.jpg&type=ofullfill264_180_gray&expire=2&refresh=true',\n",
       "  'https://search.pstatic.net/common/?src=https%3A%2F%2Fimgnews.pstatic.net%2Fimage%2Forigin%2F5097%2F2019%2F12%2F03%2F190162.jpg&type=ofullfill264_180_gray&expire=2&refresh=true',\n",
       "  'https://search.pstatic.net/common/?src=https%3A%2F%2Fimgnews.pstatic.net%2Fimage%2Forigin%2F5254%2F2018%2F02%2F09%2F58829.jpg&type=ff264_180&expire=2&refresh=true',\n",
       "  'https://search.pstatic.net/common/?src=https%3A%2F%2Fimgnews.pstatic.net%2Fimage%2Forigin%2F5268%2F2017%2F12%2F07%2F816460.jpg&type=ofullfill264_180_gray&expire=2&refresh=true',\n",
       "  'https://search.pstatic.net/common/?src=https%3A%2F%2Fimgnews.pstatic.net%2Fimage%2Forigin%2F144%2F2017%2F07%2F18%2F503020.jpg&type=ofullfill264_180_gray&expire=2&refresh=true',\n",
       "  'https://search.pstatic.net/common/?src=https%3A%2F%2Fimgnews.pstatic.net%2Fimage%2Forigin%2F015%2F2016%2F04%2F22%2F3583519.jpg&type=ff264_180&expire=2&refresh=true',\n",
       "  'https://search.pstatic.net/common/?src=https%3A%2F%2Fimgnews.pstatic.net%2Fimage%2Forigin%2F009%2F2016%2F04%2F18%2F3716513.jpg&type=ff264_180&expire=2&refresh=true',\n",
       "  'https://search.pstatic.net/common/?src=https%3A%2F%2Fimgnews.pstatic.net%2Fimage%2Forigin%2F5394%2F2016%2F02%2F22%2F80071.jpg&type=ofullfill264_180_gray&expire=2&refresh=true',\n",
       "  'https://search.pstatic.net/common/?src=https%3A%2F%2Fimgnews.pstatic.net%2Fimage%2Forigin%2F366%2F2015%2F07%2F03%2F276523.jpg&type=ff264_180&expire=2&refresh=true',\n",
       "  'https://search.pstatic.net/common/?src=https%3A%2F%2Fimgnews.pstatic.net%2Fimage%2Forigin%2F020%2F2015%2F04%2F01%2F2771471.jpg&type=ff264_180&expire=2&refresh=true',\n",
       "  'https://search.pstatic.net/common/?src=https%3A%2F%2Fimgnews.pstatic.net%2Fimage%2Forigin%2F366%2F2021%2F09%2F23%2F762207.jpg&type=ff264_180&expire=2&refresh=true',\n",
       "  'https://search.pstatic.net/common/?src=https%3A%2F%2Fimgnews.pstatic.net%2Fimage%2Forigin%2F5090%2F2015%2F03%2F31%2F973223.jpg&type=ofullfill264_180_gray&expire=2&refresh=true',\n",
       "  'https://search.pstatic.net/common/?src=https%3A%2F%2Fimgnews.pstatic.net%2Fimage%2Forigin%2F469%2F2015%2F03%2F30%2F55372.jpg&type=ff264_180&expire=2&refresh=true',\n",
       "  'https://search.pstatic.net/common/?src=https%3A%2F%2Fimgnews.pstatic.net%2Fimage%2Forigin%2F003%2F2015%2F03%2F30%2F6434025.jpg&type=ff264_180&expire=2&refresh=true',\n",
       "  'https://search.pstatic.net/common/?src=https%3A%2F%2Fimgnews.pstatic.net%2Fimage%2Forigin%2F5295%2F2015%2F03%2F26%2F11418.jpg&type=ff264_180&expire=2&refresh=true',\n",
       "  'https://search.pstatic.net/common/?src=https%3A%2F%2Fimgnews.pstatic.net%2Fimage%2Forigin%2F366%2F2021%2F09%2F23%2F762207.jpg&type=ff264_180&expire=2&refresh=true',\n",
       "  'https://search.pstatic.net/common/?src=https%3A%2F%2Fimgnews.pstatic.net%2Fimage%2Forigin%2F052%2F2013%2F11%2F03%2F484023.jpg&type=ff264_180&expire=2&refresh=true',\n",
       "  'https://search.pstatic.net/common/?src=https%3A%2F%2Fimgnews.pstatic.net%2Fimage%2Fthumb140%2F343%2F2010%2F12%2F05%2F7072.jpg&type=ff264_180&expire=2&refresh=true',\n",
       "  'https://search.pstatic.net/common/?src=https%3A%2F%2Fimgnews.pstatic.net%2Fimage%2Forigin%2F366%2F2021%2F09%2F23%2F762207.jpg&type=ff264_180&expire=2&refresh=true',\n",
       "  'https://search.pstatic.net/common/?src=https%3A%2F%2Fimgnews.pstatic.net%2Fimage%2Forigin%2F366%2F2021%2F09%2F23%2F762207.jpg&type=ff264_180&expire=2&refresh=true',\n",
       "  'https://search.pstatic.net/common/?src=https%3A%2F%2Fimgnews.pstatic.net%2Fimage%2Fthumb140%2F001%2F2010%2F03%2F22%2F3182184.jpg&type=ff264_180&expire=2&refresh=true',\n",
       "  'https://search.pstatic.net/common/?src=https%3A%2F%2Fimgnews.pstatic.net%2Fimage%2Fthumb140%2F140%2F2010%2F03%2F04%2F15530.jpg&type=ff264_180&expire=2&refresh=true',\n",
       "  'https://search.pstatic.net/common/?src=https%3A%2F%2Fimgnews.pstatic.net%2Fimage%2Fthumb140%2F003%2F2007%2F09%2F22%2F574830.jpg&type=ff264_180&expire=2&refresh=true',\n",
       "  'https://search.pstatic.net/common/?src=https%3A%2F%2Fimgnews.pstatic.net%2Fimage%2Forigin%2F366%2F2021%2F09%2F23%2F762207.jpg&type=ff264_180&expire=2&refresh=true',\n",
       "  'https://search.pstatic.net/common/?src=https%3A%2F%2Fimgnews.pstatic.net%2Fimage%2Forigin%2F366%2F2021%2F09%2F23%2F762207.jpg&type=ff264_180&expire=2&refresh=true'],\n",
       " '내용': ['다양한 분야에서 활동하는 일러스트레이터 마린 몽타구의 소품 매장이 파리 한복판에 문을 열었다. 가장 파리지앵 답다는 평가를 받고 있는 일러스트레이터 마린 몽타구 Marin Montagut의 소품 매장이 지난 6월...',\n",
       "  \"영화 '몽타주'에서다. 몽타주는 완전범죄로 끝난 15년 전 미결사건이 공소시효 며칠을 앞두고 다시 발생하면서 15년전 범죄 피해자와 당시 사건담당형사가 다시 사건에 뛰어들어 범인을 추적한다는 내용의 스릴러....\",\n",
       "  '스테니치 몽타베르트 사장이 업무 협조를 담은 협약서를 교환하고 있다. /한립철강 제공 내년 2000만弗 수출 목표 특수강 및 금형강 전문업체인 한립철강(대표 서재열)이 프랑스 몽타베르트에 굴삭기용 브레이커...',\n",
       "  '로널드 몽타페르토 군사 분석가가 중국대사관 무관들인 인민해방군소장과 공군 장교 위정허 등과의 절친한 관계를 통해 기밀자료를 유출했으며 몽타페르토는 FBI 조사 당시인 92년 초 국방부 정보국 중국처...',\n",
       "  '기록했던 몽타유의 침실 이야기들은 여성들이 실생활에서도 상당히 자유로웠음을 보여준다. 특히 이 이야기들은 남성을 유혹하는 다양한 기술에 대해서 기록하고 있다. 몽타유의 사제가 고백한 것처럼 사회적 지위는...',\n",
       "  '이 축제의 장-폴 몽타나리(Jean-Paul Montanari) 예술감독은 지난 3일 남씨를 만난 자리에서 내년 제26회... 몽타나리 감독은 아울러 서울세계무용축제(SIDance) 측에 이 작품의 공동 제작자로 참여해 달라고 제안했다....',\n",
       "  '고산등반협회와\\xa0몽타뉴라는\\xa0프랑스\\xa0산악전문지가\\xa0제정한\\xa0상이다.\\xa0한\\xa0해\\xa0동안\\xa0최고의\\xa0등정을\\xa0한... 한국의\\xa0산악전문지인\\xa0[월간\\xa0사람과\\xa0산]이\\xa0프랑스\\xa0산악전문지\\xa0[몽타뉴]와\\xa0협업해서\\xa02006년부터\\xa0시상하고...',\n",
       "  '비주력 법인인 몽타베르도 매각한 결과 두산인프라코어는 약 2270억원의 구조조정 효과를 거뒀다. 이듬해에는 두산밥캣 기업공개(IPO)로 3000억원의 현금을 확보했다. 포트폴리오 재편 작업도 병행했다....',\n",
       "  '구르도-몽타 외교부 차관과 만나 한·불 관계 증진과 북핵대응 공조 등에 대해 의견을 교환했다. 조 차관은... 이에 구르도-몽타뉴 차관은 “평창동계올림픽이 안전하고 성공적으로 개최될 것이라는 확신을 갖고 있다”...',\n",
       "  '샹파뉴 중심 지역인 실러니·푸시외가 위치한 몽타뉴 드 랭스 지역에서 생산되는 샤르도네만 사용하기 때문에 순수 혈통을 자랑한다. 몽타뉴 샴페인은 다른 지역과 달리 좀 더 묵직하고 둥글둥글한 맛이 특징이다....',\n",
       "  '벨기에 브라질 등지에 있는 수익성이 떨어진 생산 공장을 폐쇄하고 비주력 사업인 프랑스 자회사 몽타베르도 매각했다. ◆가시화되는 구조조정 효과 추락하던 중국 건설시장이 되살아나면서 반전이 시작됐다. 중국...',\n",
       "  '벨기에·브라질 등지에 있는 수익성이 떨어진 생산 공장을 폐쇄하고 비주력 사업인 프랑스 자회사 몽타베르도 매각했다. 회사 측은 이 같은 구조조정 과정에서 총 7349억원의 비용이 소요된 것으로 계산했다....',\n",
       "  \"콘텐츠 ‘오빠 뭐해?’ 시리즈를 360 VR로 제공할 예정이다. 이재복 · 임도경 기자 jaebok3693@viva100.com몽타미디어 이승훈 감독 외 임직원들 (사진제공 = 임도경기자)360 VR로 촬영한 스텔라 '찔려'(사진제공 = 임도경기자)\",\n",
       "  '<프랑스> 프랑스 파리 사법당국이 미국 패스트푸드 체인점인 맥도날드가 오래된 카페와 상점이 밀집한 몽타지구에 재개장하는 것을 2일 불허했다고 프랑스 영문매체 프랑스24가 보도했다. 당국은 전통상권과 청소년의...',\n",
       "  '20세기 독일 다다이스트들의 포토몽타주 작업에서 착안했다는 젊은 작곡가 박명훈의 ‘몽타’도 세계 초연된다. 7일 오후 8시 서울 강남구 LG아트센터에서 열리는 두 번째 공연은 정명훈 예술감독이 지휘봉을 잡고...',\n",
       "  '20세기 독일 다다이스트들의 포토몽타주 작업에서 착안했다는 젊은 작곡가 박명훈의 ‘몽타’도 세계 초연된다. 7일 오후8시 서울 강남구 LG아트센터에서 열리는 두 번째 공연은 정명훈 예술감독이 지휘봉을 잡고...',\n",
       "  \"2013년 국제윤이상작곡상 등 여러 콩쿠르 입상자인 젊은 작곡가 박명훈의 '몽타'(MONTA)로, 20세기 베를린 다다이스트들의 포토몽타주 작업에서 착안했다. 서울시향 더블베이스 수석 안동혁의 협연으로 몽타주 제작에서...\",\n",
       "  '2013년 국제윤이상작곡상에 입상한 젊은 작곡가 박명훈의 ‘몽타(MONTA)’로, 20세기 베를린 다다이스트들의 포토몽타주 작업에서 착안했다. 서울시향 더블베이스 수석 안동혁이 협연한다. 4월 7일 LG아트센터에서 열리는...',\n",
       "  \"젊은 작곡가 작품 위촉 프로그램으로 박명훈의 '몽타'가 세계 초연된다. 서울시향이 '아르스 노바'를 통해 위촉한 곡이다. 진은숙, 서울시향 상임작곡가(사진=서울시향) 이날 자리에 함께 한 최수열 부지휘자는 2년 동안...\",\n",
       "  '위한 ‘몽타’ 등을 선사한다. 7일 오후 8시 LG아트센터에서는 지휘 정명훈, 바이올린 강혜선, 앙리 뒤티외, 메타볼, 파스칼 뒤사팽, 바이올린과 오케스트라를 위한 ‘상승’(아시아 초연) 올리비에 메시앙...',\n",
       "  '(02)544-9092 다음달 1일 서울시향의 ‘아르스노바 시리즈Ⅰ&Ⅱ’에서 소개되는 박명훈의 신작 ‘몽타’는 베를린 다다이스트들의 몽타주 작업에서 아이디어를 얻은 작품. 2005년 한국인 최초로 벨기에 퀸 엘리자베스...',\n",
       "  '[인터뷰:프랑수아 몽타하스, 파리7대학 건축개발 부사장] \"한국의 역사를 떠오르게 하는 상징들을 현대적인 관점으로 해석하는 창작과 표현력이 흥미롭습니다. \" 이 정원을 만든 사람은 한국인 윤경란 씨와 프랑스인 필립...',\n",
       "  '후반17분 몽타뉴에게 페널티킥을 얻어맞고 패배를 맛봤다. 모나코는 승리를 바라기 힘들 정도로 부진한... 모나코의 멘디가 위험지역 안에서 핸드볼 파울을 범해 PK를 내줬고 이를 몽타뉴가 성공시킨 것이다. 이 PK가...',\n",
       "  '방 판사는 판결문을 통해 \"피고인은 공범인 몽타야(57)가 혼자 범행을 했다고 주장하고 있지만 훔친 돈의... 한국으로 신병이 인계됐다. 로드리게스씨와 함께 범행을 저지른 페루인 몽타야씨(56)는 아직 검거되지 않았다.',\n",
       "  '방 판사는 판결문을 통해 “피고인은 공범인 몽타야 혼자 범행을 한 것이며 함께 범행을 공모하지는 않았다고 주장하지만 제출된 증거와 피고인의 진술, 몽타야와 대한민국에 들어와 사건 당일 서울IC를 출발해...',\n",
       "  '심사위원에는 이 감독 외에 장-폴 몽타나리(몽펠리에 무용축제 예술감독), 아니타 마티외(생 드니 안무가대회 예술감독), 메르세데스 보르헤스(쿠바 평론가) 등 9명이 위촉됐다. engine@yna.co.kr',\n",
       "  '더 많은 증거를 원한다면, 영화에서 태훈이 서울의 도로를 따라 스쿠터를 타고 가는 두개의 몽타주를 비교해보라. 얼마나 완벽하게 첫 몽타부가 파괴적인 두 번째 몽타주로 이어지는지 확인해보라. 또 한 사람의 훌륭한...',\n",
       "  '정읍 일가족 피습사건 용의자 몽타주 【정읍=뉴시스】 지난 21일 전북 정읍 정우면에서 발생한 일가족 3명 피습 사건을 수사 중인 전북 정읍경찰서가 피해자 진술을 토대로 작성한 몽타주. 경찰은 이 몽타 2000여매를...',\n",
       "  '반기문 유엔 사무총장의 대변인 미셸 몽타스도 대표적인 피해자. 몽타스의 남편은 2000년 4월 아리스티드 정권을 비판했다는 이유로 암살된 언론인 장 도미니크이다. ◆새로운 아이티는 순탄할까 = 혼란은 겪던 아이티는...',\n",
       "  '미국의 중장비업체 봅캣과 프랑스의 몽타벨트 사를 인수한 스웨덴의 잉거솔란트 사는 대모엔지니어링으로 직접 찾아와 OEM을 요청하기도 했다. 강 사장은 \"이같은 경영혁신을 거쳐 올해 매출 250억, 내년 500억원등 3년내...']}"
      ]
     },
     "execution_count": 9,
     "metadata": {},
     "output_type": "execute_result"
    }
   ],
   "source": [
    "info"
   ]
  },
  {
   "cell_type": "code",
   "execution_count": 10,
   "id": "f86b9d5d-ad7b-495a-adf5-62276c864b69",
   "metadata": {},
   "outputs": [],
   "source": [
    "news = pd.DataFrame(info)"
   ]
  },
  {
   "cell_type": "code",
   "execution_count": 11,
   "id": "116a7f05-e5b3-4d0c-b294-ac1d9e75ccb8",
   "metadata": {},
   "outputs": [
    {
     "data": {
      "text/plain": [
       "'김상경, 15년만에 형사 \"살인의추억 미제사건 몽타주서 해결한 느낌\"'"
      ]
     },
     "execution_count": 11,
     "metadata": {},
     "output_type": "execute_result"
    }
   ],
   "source": [
    "(news.제목[1])"
   ]
  },
  {
   "cell_type": "code",
   "execution_count": null,
   "id": "571f087d-7411-46aa-91bd-e05a54690229",
   "metadata": {},
   "outputs": [],
   "source": []
  }
 ],
 "metadata": {
  "kernelspec": {
   "display_name": "mongta",
   "language": "python",
   "name": "mongta"
  },
  "language_info": {
   "codemirror_mode": {
    "name": "ipython",
    "version": 3
   },
   "file_extension": ".py",
   "mimetype": "text/x-python",
   "name": "python",
   "nbconvert_exporter": "python",
   "pygments_lexer": "ipython3",
   "version": "3.8.12"
  }
 },
 "nbformat": 4,
 "nbformat_minor": 5
}
