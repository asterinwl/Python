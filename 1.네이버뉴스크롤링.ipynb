{
 "cells": [
  {
   "cell_type": "code",
   "execution_count": 1,
   "id": "db6eed67-fcd7-4beb-92f0-c44b49efc72a",
   "metadata": {},
   "outputs": [],
   "source": [
    "import requests\n",
    "from bs4 import BeautifulSoup\n",
    "import pandas as pd"
   ]
  },
  {
   "cell_type": "code",
   "execution_count": 2,
   "id": "a220565f-d510-4d06-ab36-c6ffbf0cec77",
   "metadata": {},
   "outputs": [],
   "source": [
    "response = requests.get('https://search.naver.com/search.naver?where=news&sm=tab_jum&query=%EB%AA%BD%ED%83%80')"
   ]
  },
  {
   "cell_type": "code",
   "execution_count": 3,
   "id": "2a6ce1d8-53c5-4de3-9cd7-35232663065f",
   "metadata": {},
   "outputs": [],
   "source": [
    "html = response.text"
   ]
  },
  {
   "cell_type": "code",
   "execution_count": 4,
   "id": "83993d2b-c290-4ed5-ab2f-7f3d9ba02999",
   "metadata": {},
   "outputs": [],
   "source": [
    "soup = BeautifulSoup(html, 'html.parser')"
   ]
  },
  {
   "cell_type": "code",
   "execution_count": 5,
   "id": "3f7ed438-4df0-4974-b7d4-d95751db4bf8",
   "metadata": {},
   "outputs": [],
   "source": [
    "articles = soup.select('#main_pack > section > div > div.group_news > ul > li')"
   ]
  },
  {
   "cell_type": "code",
   "execution_count": 6,
   "id": "72cefb01-e399-4cf1-bfe4-0500fd07f102",
   "metadata": {},
   "outputs": [],
   "source": [
    "title_list = []\n",
    "url_list = []\n",
    "comp_list = []\n",
    "thumbnail_list = []\n",
    "text_list = []"
   ]
  },
  {
   "cell_type": "code",
   "execution_count": 7,
   "id": "375718d3-55a8-4844-911d-01634dae361f",
   "metadata": {},
   "outputs": [
    {
     "name": "stdout",
     "output_type": "stream",
     "text": [
      "파리에 오픈한 일러스트레이터의 마린 몽타구의 감각적인 소품숍 https://www.maisonkorea.com/2020/09/04/%ec%9d%bc%eb%9f%ac%ec%8a%a4%ed%8a%b8%eb%a0%88%ec%9d%b4%ed%84%b0%ec%9d%98-%ec%86%8c%ed%92%88%ec%88%8d/?_N_=01 메종 https://search.pstatic.net/common/?src=https%3A%2F%2Fimgnews.pstatic.net%2Fimage%2Forigin%2F5640%2F2020%2F09%2F07%2F1516.jpg&type=ofullfill264_180_gray&expire=2&refresh=true 다양한 분야에서 활동하는 일러스트레이터 마린 몽타구의 소품 매장이 파리 한복판에 문을 열었다. 가장 파리지앵 답다는 평가를 받고 있는 일러스트레이터 마린 몽타구 Marin Montagut의 소품 매장이 지난 6월...\n",
      "김상경, 15년만에 형사 \"살인의추억 미제사건 몽타주서 해결한 느낌\" http://www.nocutnews.co.kr/Show.asp?IDX=2467972 노컷뉴스 https://search.pstatic.net/common/?src=https%3A%2F%2Fimgnews.pstatic.net%2Fimage%2Forigin%2F079%2F2013%2F04%2F18%2F2462489.jpg&type=ff264_180&expire=2&refresh=true 영화 '몽타주'에서다. 몽타주는 완전범죄로 끝난 15년 전 미결사건이 공소시효 며칠을 앞두고 다시 발생하면서 15년전 범죄 피해자와 당시 사건담당형사가 다시 사건에 뛰어들어 범인을 추적한다는 내용의 스릴러....\n",
      "한립철강, 佛에 굴삭기브레이커 공급 http://www.hankyung.com/news/app/newsview.php?aid=2011122235381 한국경제 https://search.pstatic.net/common/?src=https%3A%2F%2Fimgnews.pstatic.net%2Fimage%2Fthumb140%2F015%2F2011%2F12%2F22%2F2604276.jpg&type=ff264_180&expire=2&refresh=true 스테니치 몽타베르트 사장이 업무 협조를 담은 협약서를 교환하고 있다. /한립철강 제공 내년 2000만弗 수출 목표 특수강 및 금형강 전문업체인 한립철강(대표 서재열)이 프랑스 몽타베르트에 굴삭기용 브레이커...\n",
      "中 \"中 간첩들 미 정부내 암약은 완전 날조\" https://news.naver.com/main/read.naver?mode=LSD&mid=sec&sid1=104&oid=001&aid=0000037685 연합뉴스 https://search.pstatic.net/common/?src=https%3A%2F%2Fimgnews.pstatic.net%2Fimage%2Fthumb140%2F015%2F2011%2F12%2F22%2F2604276.jpg&type=ff264_180&expire=2&refresh=true 로널드 몽타페르토 군사 분석가가 중국대사관 무관들인 인민해방군소장과 공군 장교 위정허 등과의 절친한 관계를 통해 기밀자료를 유출했으며 몽타페르토는 FBI 조사 당시인 92년 초 국방부 정보국 중국처...\n",
      "[책 속의 풍경]암흑기로 불리는 중세, 그 속살은 어땠을까 http://www.khan.co.kr/kh_news/art_view.html?artid=201303011925225&code=900308 경향신문 https://search.pstatic.net/common/?src=https%3A%2F%2Fimgnews.pstatic.net%2Fimage%2Forigin%2F032%2F2013%2F03%2F01%2F2310894.jpg&type=ff264_180&expire=2&refresh=true 기록했던 몽타유의 침실 이야기들은 여성들이 실생활에서도 상당히 자유로웠음을 보여준다. 특히 이 이야기들은 남성을 유혹하는 다양한 기술에 대해서 기록하고 있다. 몽타유의 사제가 고백한 것처럼 사회적 지위는...\n",
      "남영호씨, 몽펠리에축제 신작 위촉받아 https://news.naver.com/main/read.naver?mode=LSD&mid=sec&sid1=100&oid=001&aid=0001043338 연합뉴스 https://search.pstatic.net/common/?src=https%3A%2F%2Fimgnews.pstatic.net%2Fimage%2Fthumb140%2F001%2F2005%2F07%2F06%2F1043338.jpg&type=ofullfill264_180_gray&expire=2&refresh=true 이 축제의 장-폴 몽타나리(Jean-Paul Montanari) 예술감독은 지난 3일 남씨를 만난 자리에서 내년 제26회... 몽타나리 감독은 아울러 서울세계무용축제(SIDance) 측에 이 작품의 공동 제작자로 참여해 달라고 제안했다....\n",
      "[김상미의 창업 클리닉] 온라인마케팅성공사례 황금피켈상패 국내제작사 엔케... https://www.econovill.com/news/articleView.html?idxno=378981 이코노믹리뷰 https://search.pstatic.net/common/?src=https%3A%2F%2Fimgnews.pstatic.net%2Fimage%2Forigin%2F5097%2F2019%2F12%2F03%2F190162.jpg&type=ofullfill264_180_gray&expire=2&refresh=true 고산등반협회와 몽타뉴라는 프랑스 산악전문지가 제정한 상이다. 한 해 동안 최고의 등정을 한... 한국의 산악전문지인 [월간 사람과 산]이 프랑스 산악전문지 [몽타뉴]와 협업해서 2006년부터 시상하고...\n",
      "[더벨]두산인프라, '구조조정의 힘' 순차입금 8년만에 최저 http://www.thebell.co.kr/front/free/contents/news/article_view.asp?key=201802080100016650001025 더벨 https://search.pstatic.net/common/?src=https%3A%2F%2Fimgnews.pstatic.net%2Fimage%2Forigin%2F5254%2F2018%2F02%2F09%2F58829.jpg&type=ff264_180&expire=2&refresh=true 비주력 법인인 몽타베르도 매각한 결과 두산인프라코어는 약 2270억원의 구조조정 효과를 거뒀다. 이듬해에는 두산밥캣 기업공개(IPO)로 3000억원의 현금을 확보했다. 포트폴리오 재편 작업도 병행했다....\n",
      "조현 외교부 2차관, 구르도-몽타뉴 佛 외교 차관과 '북핵 공조' 논의 http://www.asiatoday.co.kr/view.php?key=20171207010003894 아시아투데이 https://search.pstatic.net/common/?src=https%3A%2F%2Fimgnews.pstatic.net%2Fimage%2Forigin%2F5268%2F2017%2F12%2F07%2F816460.jpg&type=ofullfill264_180_gray&expire=2&refresh=true 구르도-몽타 외교부 차관과 만나 한·불 관계 증진과 북핵대응 공조 등에 대해 의견을 교환했다. 조 차관은... 이에 구르도-몽타뉴 차관은 “평창동계올림픽이 안전하고 성공적으로 개최될 것이라는 확신을 갖고 있다”...\n",
      "마스터 소믈리에 전성완의 ‘와인의 정석’…상파뉴의 쌍두마차! 돔 루이나 &... http://sports.khan.co.kr/news/sk_index.html?art_id=201707182102003&sec_id=563101&pt=nv 스포츠경향 https://search.pstatic.net/common/?src=https%3A%2F%2Fimgnews.pstatic.net%2Fimage%2Forigin%2F144%2F2017%2F07%2F18%2F503020.jpg&type=ofullfill264_180_gray&expire=2&refresh=true 샹파뉴 중심 지역인 실러니·푸시외가 위치한 몽타뉴 드 랭스 지역에서 생산되는 샤르도네만 사용하기 때문에 순수 혈통을 자랑한다. 몽타뉴 샴페인은 다른 지역과 달리 좀 더 묵직하고 둥글둥글한 맛이 특징이다....\n"
     ]
    }
   ],
   "source": [
    "for article in articles:\n",
    "    a_tag1 = article.select_one('.news_tit')\n",
    "    \n",
    "    title = a_tag1.text\n",
    "    title_list.append(title.strip())\n",
    "    \n",
    "    url = a_tag1['href']\n",
    "    url_list.append(url.strip())\n",
    "    \n",
    "    comp = article.select_one('a.info.press').text\n",
    "    comp = comp.replace('언론사 선정', '')\n",
    "    comp_list.append(comp.strip())\n",
    "    \n",
    "    try:\n",
    "        thumbnail = article.select_one('div > a > img')['src']\n",
    "        thumbnail_list.append(thumbnail.strip())\n",
    "    \n",
    "    except:\n",
    "        thumbnail_list.append('https://search.pstatic.net/common/?src=https%3A%2F%2Fimgnews.pstatic.net%2Fimage%2Forigin%2F366%2F2021%2F09%2F23%2F762207.jpg&type=ff264_180&expire=2&refresh=true')\n",
    "#         print('썸네일이 없습니다')\n",
    "    \n",
    "    text = article.select_one('a.api_txt_lines.dsc_txt_wrap').text\n",
    "    text_list.append(text.strip())\n",
    "    \n",
    "    print(title, url, comp, thumbnail, text)"
   ]
  },
  {
   "cell_type": "code",
   "execution_count": 8,
   "id": "263fa744-4165-42dc-b7fe-6e3fae1a20d5",
   "metadata": {},
   "outputs": [
    {
     "name": "stdout",
     "output_type": "stream",
     "text": [
      "['파리에 오픈한 일러스트레이터의 마린 몽타구의 감각적인 소품숍', '김상경, 15년만에 형사 \"살인의추억 미제사건 몽타주서 해결한 느낌\"', '한립철강, 佛에 굴삭기브레이커 공급', '中 \"中 간첩들 미 정부내 암약은 완전 날조\"', '[책 속의 풍경]암흑기로 불리는 중세, 그 속살은 어땠을까', '남영호씨, 몽펠리에축제 신작 위촉받아', '[김상미의 창업 클리닉] 온라인마케팅성공사례 황금피켈상패 국내제작사 엔케...', \"[더벨]두산인프라, '구조조정의 힘' 순차입금 8년만에 최저\", \"조현 외교부 2차관, 구르도-몽타뉴 佛 외교 차관과 '북핵 공조' 논의\", '마스터 소믈리에 전성완의 ‘와인의 정석’…상파뉴의 쌍두마차! 돔 루이나 &...'] ['https://www.maisonkorea.com/2020/09/04/%ec%9d%bc%eb%9f%ac%ec%8a%a4%ed%8a%b8%eb%a0%88%ec%9d%b4%ed%84%b0%ec%9d%98-%ec%86%8c%ed%92%88%ec%88%8d/?_N_=01', 'http://www.nocutnews.co.kr/Show.asp?IDX=2467972', 'http://www.hankyung.com/news/app/newsview.php?aid=2011122235381', 'https://news.naver.com/main/read.naver?mode=LSD&mid=sec&sid1=104&oid=001&aid=0000037685', 'http://www.khan.co.kr/kh_news/art_view.html?artid=201303011925225&code=900308', 'https://news.naver.com/main/read.naver?mode=LSD&mid=sec&sid1=100&oid=001&aid=0001043338', 'https://www.econovill.com/news/articleView.html?idxno=378981', 'http://www.thebell.co.kr/front/free/contents/news/article_view.asp?key=201802080100016650001025', 'http://www.asiatoday.co.kr/view.php?key=20171207010003894', 'http://sports.khan.co.kr/news/sk_index.html?art_id=201707182102003&sec_id=563101&pt=nv'] ['메종', '노컷뉴스', '한국경제', '연합뉴스', '경향신문', '연합뉴스', '이코노믹리뷰', '더벨', '아시아투데이', '스포츠경향'] ['https://search.pstatic.net/common/?src=https%3A%2F%2Fimgnews.pstatic.net%2Fimage%2Forigin%2F5640%2F2020%2F09%2F07%2F1516.jpg&type=ofullfill264_180_gray&expire=2&refresh=true', 'https://search.pstatic.net/common/?src=https%3A%2F%2Fimgnews.pstatic.net%2Fimage%2Forigin%2F079%2F2013%2F04%2F18%2F2462489.jpg&type=ff264_180&expire=2&refresh=true', 'https://search.pstatic.net/common/?src=https%3A%2F%2Fimgnews.pstatic.net%2Fimage%2Fthumb140%2F015%2F2011%2F12%2F22%2F2604276.jpg&type=ff264_180&expire=2&refresh=true', 'https://search.pstatic.net/common/?src=https%3A%2F%2Fimgnews.pstatic.net%2Fimage%2Forigin%2F366%2F2021%2F09%2F23%2F762207.jpg&type=ff264_180&expire=2&refresh=true', 'https://search.pstatic.net/common/?src=https%3A%2F%2Fimgnews.pstatic.net%2Fimage%2Forigin%2F032%2F2013%2F03%2F01%2F2310894.jpg&type=ff264_180&expire=2&refresh=true', 'https://search.pstatic.net/common/?src=https%3A%2F%2Fimgnews.pstatic.net%2Fimage%2Fthumb140%2F001%2F2005%2F07%2F06%2F1043338.jpg&type=ofullfill264_180_gray&expire=2&refresh=true', 'https://search.pstatic.net/common/?src=https%3A%2F%2Fimgnews.pstatic.net%2Fimage%2Forigin%2F5097%2F2019%2F12%2F03%2F190162.jpg&type=ofullfill264_180_gray&expire=2&refresh=true', 'https://search.pstatic.net/common/?src=https%3A%2F%2Fimgnews.pstatic.net%2Fimage%2Forigin%2F5254%2F2018%2F02%2F09%2F58829.jpg&type=ff264_180&expire=2&refresh=true', 'https://search.pstatic.net/common/?src=https%3A%2F%2Fimgnews.pstatic.net%2Fimage%2Forigin%2F5268%2F2017%2F12%2F07%2F816460.jpg&type=ofullfill264_180_gray&expire=2&refresh=true', 'https://search.pstatic.net/common/?src=https%3A%2F%2Fimgnews.pstatic.net%2Fimage%2Forigin%2F144%2F2017%2F07%2F18%2F503020.jpg&type=ofullfill264_180_gray&expire=2&refresh=true'] ['다양한 분야에서 활동하는 일러스트레이터 마린 몽타구의 소품 매장이 파리 한복판에 문을 열었다. 가장 파리지앵 답다는 평가를 받고 있는 일러스트레이터 마린 몽타구 Marin Montagut의 소품 매장이 지난 6월...', \"영화 '몽타주'에서다. 몽타주는 완전범죄로 끝난 15년 전 미결사건이 공소시효 며칠을 앞두고 다시 발생하면서 15년전 범죄 피해자와 당시 사건담당형사가 다시 사건에 뛰어들어 범인을 추적한다는 내용의 스릴러....\", '스테니치 몽타베르트 사장이 업무 협조를 담은 협약서를 교환하고 있다. /한립철강 제공 내년 2000만弗 수출 목표 특수강 및 금형강 전문업체인 한립철강(대표 서재열)이 프랑스 몽타베르트에 굴삭기용 브레이커...', '로널드 몽타페르토 군사 분석가가 중국대사관 무관들인 인민해방군소장과 공군 장교 위정허 등과의 절친한 관계를 통해 기밀자료를 유출했으며 몽타페르토는 FBI 조사 당시인 92년 초 국방부 정보국 중국처...', '기록했던 몽타유의 침실 이야기들은 여성들이 실생활에서도 상당히 자유로웠음을 보여준다. 특히 이 이야기들은 남성을 유혹하는 다양한 기술에 대해서 기록하고 있다. 몽타유의 사제가 고백한 것처럼 사회적 지위는...', '이 축제의 장-폴 몽타나리(Jean-Paul Montanari) 예술감독은 지난 3일 남씨를 만난 자리에서 내년 제26회... 몽타나리 감독은 아울러 서울세계무용축제(SIDance) 측에 이 작품의 공동 제작자로 참여해 달라고 제안했다....', '고산등반협회와\\xa0몽타뉴라는\\xa0프랑스\\xa0산악전문지가\\xa0제정한\\xa0상이다.\\xa0한\\xa0해\\xa0동안\\xa0최고의\\xa0등정을\\xa0한... 한국의\\xa0산악전문지인\\xa0[월간\\xa0사람과\\xa0산]이\\xa0프랑스\\xa0산악전문지\\xa0[몽타뉴]와\\xa0협업해서\\xa02006년부터\\xa0시상하고...', '비주력 법인인 몽타베르도 매각한 결과 두산인프라코어는 약 2270억원의 구조조정 효과를 거뒀다. 이듬해에는 두산밥캣 기업공개(IPO)로 3000억원의 현금을 확보했다. 포트폴리오 재편 작업도 병행했다....', '구르도-몽타 외교부 차관과 만나 한·불 관계 증진과 북핵대응 공조 등에 대해 의견을 교환했다. 조 차관은... 이에 구르도-몽타뉴 차관은 “평창동계올림픽이 안전하고 성공적으로 개최될 것이라는 확신을 갖고 있다”...', '샹파뉴 중심 지역인 실러니·푸시외가 위치한 몽타뉴 드 랭스 지역에서 생산되는 샤르도네만 사용하기 때문에 순수 혈통을 자랑한다. 몽타뉴 샴페인은 다른 지역과 달리 좀 더 묵직하고 둥글둥글한 맛이 특징이다....']\n"
     ]
    }
   ],
   "source": [
    "print(title_list, url_list, comp_list, thumbnail_list, text_list)"
   ]
  },
  {
   "cell_type": "code",
   "execution_count": 9,
   "id": "1f20c2d5-638e-4c71-9055-556b039bbb63",
   "metadata": {},
   "outputs": [],
   "source": [
    "info = {'제목':title_list, 'url':url_list, '언론사':comp_list, '썸네일':thumbnail_list, '내용':text_list}"
   ]
  },
  {
   "cell_type": "code",
   "execution_count": 10,
   "id": "d8d12abf-464c-4285-9f30-4153eeb4820f",
   "metadata": {},
   "outputs": [
    {
     "data": {
      "text/plain": [
       "{'제목': ['파리에 오픈한 일러스트레이터의 마린 몽타구의 감각적인 소품숍',\n",
       "  '김상경, 15년만에 형사 \"살인의추억 미제사건 몽타주서 해결한 느낌\"',\n",
       "  '한립철강, 佛에 굴삭기브레이커 공급',\n",
       "  '中 \"中 간첩들 미 정부내 암약은 완전 날조\"',\n",
       "  '[책 속의 풍경]암흑기로 불리는 중세, 그 속살은 어땠을까',\n",
       "  '남영호씨, 몽펠리에축제 신작 위촉받아',\n",
       "  '[김상미의 창업 클리닉] 온라인마케팅성공사례 황금피켈상패 국내제작사 엔케...',\n",
       "  \"[더벨]두산인프라, '구조조정의 힘' 순차입금 8년만에 최저\",\n",
       "  \"조현 외교부 2차관, 구르도-몽타뉴 佛 외교 차관과 '북핵 공조' 논의\",\n",
       "  '마스터 소믈리에 전성완의 ‘와인의 정석’…상파뉴의 쌍두마차! 돔 루이나 &...'],\n",
       " 'url': ['https://www.maisonkorea.com/2020/09/04/%ec%9d%bc%eb%9f%ac%ec%8a%a4%ed%8a%b8%eb%a0%88%ec%9d%b4%ed%84%b0%ec%9d%98-%ec%86%8c%ed%92%88%ec%88%8d/?_N_=01',\n",
       "  'http://www.nocutnews.co.kr/Show.asp?IDX=2467972',\n",
       "  'http://www.hankyung.com/news/app/newsview.php?aid=2011122235381',\n",
       "  'https://news.naver.com/main/read.naver?mode=LSD&mid=sec&sid1=104&oid=001&aid=0000037685',\n",
       "  'http://www.khan.co.kr/kh_news/art_view.html?artid=201303011925225&code=900308',\n",
       "  'https://news.naver.com/main/read.naver?mode=LSD&mid=sec&sid1=100&oid=001&aid=0001043338',\n",
       "  'https://www.econovill.com/news/articleView.html?idxno=378981',\n",
       "  'http://www.thebell.co.kr/front/free/contents/news/article_view.asp?key=201802080100016650001025',\n",
       "  'http://www.asiatoday.co.kr/view.php?key=20171207010003894',\n",
       "  'http://sports.khan.co.kr/news/sk_index.html?art_id=201707182102003&sec_id=563101&pt=nv'],\n",
       " '언론사': ['메종',\n",
       "  '노컷뉴스',\n",
       "  '한국경제',\n",
       "  '연합뉴스',\n",
       "  '경향신문',\n",
       "  '연합뉴스',\n",
       "  '이코노믹리뷰',\n",
       "  '더벨',\n",
       "  '아시아투데이',\n",
       "  '스포츠경향'],\n",
       " '썸네일': ['https://search.pstatic.net/common/?src=https%3A%2F%2Fimgnews.pstatic.net%2Fimage%2Forigin%2F5640%2F2020%2F09%2F07%2F1516.jpg&type=ofullfill264_180_gray&expire=2&refresh=true',\n",
       "  'https://search.pstatic.net/common/?src=https%3A%2F%2Fimgnews.pstatic.net%2Fimage%2Forigin%2F079%2F2013%2F04%2F18%2F2462489.jpg&type=ff264_180&expire=2&refresh=true',\n",
       "  'https://search.pstatic.net/common/?src=https%3A%2F%2Fimgnews.pstatic.net%2Fimage%2Fthumb140%2F015%2F2011%2F12%2F22%2F2604276.jpg&type=ff264_180&expire=2&refresh=true',\n",
       "  'https://search.pstatic.net/common/?src=https%3A%2F%2Fimgnews.pstatic.net%2Fimage%2Forigin%2F366%2F2021%2F09%2F23%2F762207.jpg&type=ff264_180&expire=2&refresh=true',\n",
       "  'https://search.pstatic.net/common/?src=https%3A%2F%2Fimgnews.pstatic.net%2Fimage%2Forigin%2F032%2F2013%2F03%2F01%2F2310894.jpg&type=ff264_180&expire=2&refresh=true',\n",
       "  'https://search.pstatic.net/common/?src=https%3A%2F%2Fimgnews.pstatic.net%2Fimage%2Fthumb140%2F001%2F2005%2F07%2F06%2F1043338.jpg&type=ofullfill264_180_gray&expire=2&refresh=true',\n",
       "  'https://search.pstatic.net/common/?src=https%3A%2F%2Fimgnews.pstatic.net%2Fimage%2Forigin%2F5097%2F2019%2F12%2F03%2F190162.jpg&type=ofullfill264_180_gray&expire=2&refresh=true',\n",
       "  'https://search.pstatic.net/common/?src=https%3A%2F%2Fimgnews.pstatic.net%2Fimage%2Forigin%2F5254%2F2018%2F02%2F09%2F58829.jpg&type=ff264_180&expire=2&refresh=true',\n",
       "  'https://search.pstatic.net/common/?src=https%3A%2F%2Fimgnews.pstatic.net%2Fimage%2Forigin%2F5268%2F2017%2F12%2F07%2F816460.jpg&type=ofullfill264_180_gray&expire=2&refresh=true',\n",
       "  'https://search.pstatic.net/common/?src=https%3A%2F%2Fimgnews.pstatic.net%2Fimage%2Forigin%2F144%2F2017%2F07%2F18%2F503020.jpg&type=ofullfill264_180_gray&expire=2&refresh=true'],\n",
       " '내용': ['다양한 분야에서 활동하는 일러스트레이터 마린 몽타구의 소품 매장이 파리 한복판에 문을 열었다. 가장 파리지앵 답다는 평가를 받고 있는 일러스트레이터 마린 몽타구 Marin Montagut의 소품 매장이 지난 6월...',\n",
       "  \"영화 '몽타주'에서다. 몽타주는 완전범죄로 끝난 15년 전 미결사건이 공소시효 며칠을 앞두고 다시 발생하면서 15년전 범죄 피해자와 당시 사건담당형사가 다시 사건에 뛰어들어 범인을 추적한다는 내용의 스릴러....\",\n",
       "  '스테니치 몽타베르트 사장이 업무 협조를 담은 협약서를 교환하고 있다. /한립철강 제공 내년 2000만弗 수출 목표 특수강 및 금형강 전문업체인 한립철강(대표 서재열)이 프랑스 몽타베르트에 굴삭기용 브레이커...',\n",
       "  '로널드 몽타페르토 군사 분석가가 중국대사관 무관들인 인민해방군소장과 공군 장교 위정허 등과의 절친한 관계를 통해 기밀자료를 유출했으며 몽타페르토는 FBI 조사 당시인 92년 초 국방부 정보국 중국처...',\n",
       "  '기록했던 몽타유의 침실 이야기들은 여성들이 실생활에서도 상당히 자유로웠음을 보여준다. 특히 이 이야기들은 남성을 유혹하는 다양한 기술에 대해서 기록하고 있다. 몽타유의 사제가 고백한 것처럼 사회적 지위는...',\n",
       "  '이 축제의 장-폴 몽타나리(Jean-Paul Montanari) 예술감독은 지난 3일 남씨를 만난 자리에서 내년 제26회... 몽타나리 감독은 아울러 서울세계무용축제(SIDance) 측에 이 작품의 공동 제작자로 참여해 달라고 제안했다....',\n",
       "  '고산등반협회와\\xa0몽타뉴라는\\xa0프랑스\\xa0산악전문지가\\xa0제정한\\xa0상이다.\\xa0한\\xa0해\\xa0동안\\xa0최고의\\xa0등정을\\xa0한... 한국의\\xa0산악전문지인\\xa0[월간\\xa0사람과\\xa0산]이\\xa0프랑스\\xa0산악전문지\\xa0[몽타뉴]와\\xa0협업해서\\xa02006년부터\\xa0시상하고...',\n",
       "  '비주력 법인인 몽타베르도 매각한 결과 두산인프라코어는 약 2270억원의 구조조정 효과를 거뒀다. 이듬해에는 두산밥캣 기업공개(IPO)로 3000억원의 현금을 확보했다. 포트폴리오 재편 작업도 병행했다....',\n",
       "  '구르도-몽타 외교부 차관과 만나 한·불 관계 증진과 북핵대응 공조 등에 대해 의견을 교환했다. 조 차관은... 이에 구르도-몽타뉴 차관은 “평창동계올림픽이 안전하고 성공적으로 개최될 것이라는 확신을 갖고 있다”...',\n",
       "  '샹파뉴 중심 지역인 실러니·푸시외가 위치한 몽타뉴 드 랭스 지역에서 생산되는 샤르도네만 사용하기 때문에 순수 혈통을 자랑한다. 몽타뉴 샴페인은 다른 지역과 달리 좀 더 묵직하고 둥글둥글한 맛이 특징이다....']}"
      ]
     },
     "execution_count": 10,
     "metadata": {},
     "output_type": "execute_result"
    }
   ],
   "source": [
    "info"
   ]
  },
  {
   "cell_type": "code",
   "execution_count": 11,
   "id": "f86b9d5d-ad7b-495a-adf5-62276c864b69",
   "metadata": {},
   "outputs": [],
   "source": [
    "news = pd.DataFrame(info)"
   ]
  },
  {
   "cell_type": "code",
   "execution_count": 12,
   "id": "116a7f05-e5b3-4d0c-b294-ac1d9e75ccb8",
   "metadata": {},
   "outputs": [
    {
     "data": {
      "text/plain": [
       "'김상경, 15년만에 형사 \"살인의추억 미제사건 몽타주서 해결한 느낌\"'"
      ]
     },
     "execution_count": 12,
     "metadata": {},
     "output_type": "execute_result"
    }
   ],
   "source": [
    "(news.제목[1])"
   ]
  },
  {
   "cell_type": "code",
   "execution_count": null,
   "id": "9ff5b151-7b4f-4322-b4a3-de9fd6be6611",
   "metadata": {},
   "outputs": [],
   "source": []
  }
 ],
 "metadata": {
  "kernelspec": {
   "display_name": "mongta",
   "language": "python",
   "name": "mongta"
  },
  "language_info": {
   "codemirror_mode": {
    "name": "ipython",
    "version": 3
   },
   "file_extension": ".py",
   "mimetype": "text/x-python",
   "name": "python",
   "nbconvert_exporter": "python",
   "pygments_lexer": "ipython3",
   "version": "3.8.12"
  }
 },
 "nbformat": 4,
 "nbformat_minor": 5
}
